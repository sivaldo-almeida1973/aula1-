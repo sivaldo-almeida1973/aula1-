{
  "nbformat": 4,
  "nbformat_minor": 0,
  "metadata": {
    "colab": {
      "provenance": [],
      "authorship_tag": "ABX9TyPGH6cumpLtMhZug5yxfKHr",
      "include_colab_link": true
    },
    "kernelspec": {
      "name": "python3",
      "display_name": "Python 3"
    },
    "language_info": {
      "name": "python"
    }
  },
  "cells": [
    {
      "cell_type": "markdown",
      "metadata": {
        "id": "view-in-github",
        "colab_type": "text"
      },
      "source": [
        "<a href=\"https://colab.research.google.com/github/sivaldo-almeida1973/aula1-/blob/main/aula_t04_eng_soft_log_prog.ipynb\" target=\"_parent\"><img src=\"https://colab.research.google.com/assets/colab-badge.svg\" alt=\"Open In Colab\"/></a>"
      ]
    },
    {
      "cell_type": "code",
      "source": [
        "x = 1                  #(iterador)variavel de controle\n",
        "while (x <= 5):\n",
        "  print(x)\n",
        "  x = x + 1            #incremento da variavel "
      ],
      "metadata": {
        "colab": {
          "base_uri": "https://localhost:8080/"
        },
        "id": "jiXSmE8hNYJb",
        "outputId": "cd63e31a-58be-4e3c-ac07-eabd82dc5881"
      },
      "execution_count": 2,
      "outputs": [
        {
          "output_type": "stream",
          "name": "stdout",
          "text": [
            "1\n",
            "2\n",
            "3\n",
            "4\n",
            "5\n"
          ]
        }
      ]
    },
    {
      "cell_type": "code",
      "execution_count": null,
      "metadata": {
        "id": "D3DBj-VGNCTM"
      },
      "outputs": [],
      "source": [
        "x = 0 \n",
        "while ( x <= 99):              \n",
        "  print(x)\n",
        "  x = x + 1"
      ]
    },
    {
      "cell_type": "code",
      "source": [
        "x = 0 \n",
        "while (x <= 100):\n",
        "  print(x)\n",
        "  x = x + 1\n"
      ],
      "metadata": {
        "id": "Kk3LQ8XFO919"
      },
      "execution_count": null,
      "outputs": []
    },
    {
      "cell_type": "code",
      "source": [],
      "metadata": {
        "id": "ItsqmpYpPMGQ"
      },
      "execution_count": null,
      "outputs": []
    },
    {
      "cell_type": "markdown",
      "source": [
        "Variaveis contadoras:\n",
        "acrescentam valores constantes em uma variavel.\n"
      ],
      "metadata": {
        "id": "LD9nXK8QPTkA"
      }
    },
    {
      "cell_type": "code",
      "source": [
        "inicial = int(input('Qual valor deseja iniciar a contagem ?'))\n",
        "final = int(input('Qual valor deseja encerrar a contagem ?'))\n",
        "\n",
        "x = inicial\n",
        "while (x <= final):\n",
        "  if (x % 2 == 0):\n",
        "    print(x)\n",
        "  x = x + 1"
      ],
      "metadata": {
        "colab": {
          "base_uri": "https://localhost:8080/"
        },
        "id": "2YNG4mDUPanI",
        "outputId": "3be4430e-0ac3-4742-f93b-34c795d8d15b"
      },
      "execution_count": 8,
      "outputs": [
        {
          "output_type": "stream",
          "name": "stdout",
          "text": [
            "Qual valor deseja iniciar a contagem ?2\n",
            "Qual valor deseja encerrar a contagem ?20\n",
            "2\n",
            "4\n",
            "6\n",
            "8\n",
            "10\n",
            "12\n",
            "14\n",
            "16\n",
            "18\n",
            "20\n"
          ]
        }
      ]
    },
    {
      "cell_type": "markdown",
      "source": [
        "Variaveis acumuladoras:\n",
        "acumulam totais , como um somatorio."
      ],
      "metadata": {
        "id": "lql4b7J4P0Go"
      }
    },
    {
      "cell_type": "code",
      "source": [
        "soma = 0\n",
        "cont = 1\n",
        "while (cont <= 5):\n",
        "  x = float(input('Digite a {}ª nota :'. format(cont)))\n",
        "  soma = soma + x\n",
        "  cont = cont + 1\n",
        "media = soma / 5\n",
        "print(('Media final: {}'.format(media)))\n",
        "\n"
      ],
      "metadata": {
        "colab": {
          "base_uri": "https://localhost:8080/"
        },
        "id": "2gigYVBWPocA",
        "outputId": "8727416b-b333-4d04-8f9c-f552aef1a4b6"
      },
      "execution_count": 9,
      "outputs": [
        {
          "output_type": "stream",
          "name": "stdout",
          "text": [
            "Digite a 1ª nota :8\n",
            "Digite a 2ª nota :8\n",
            "Digite a 3ª nota :9\n",
            "Digite a 4ª nota :5\n",
            "Digite a 5ª nota :6\n",
            "Media final: 7.2\n"
          ]
        }
      ]
    },
    {
      "cell_type": "markdown",
      "source": [],
      "metadata": {
        "id": "edEulQqGPnKQ"
      }
    }
  ]
}