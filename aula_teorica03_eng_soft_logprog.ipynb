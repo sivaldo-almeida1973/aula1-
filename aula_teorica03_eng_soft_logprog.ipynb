{
  "nbformat": 4,
  "nbformat_minor": 0,
  "metadata": {
    "colab": {
      "provenance": [],
      "authorship_tag": "ABX9TyNjnUCQW7J35Q37ZgdUyAFO",
      "include_colab_link": true
    },
    "kernelspec": {
      "name": "python3",
      "display_name": "Python 3"
    },
    "language_info": {
      "name": "python"
    }
  },
  "cells": [
    {
      "cell_type": "markdown",
      "metadata": {
        "id": "view-in-github",
        "colab_type": "text"
      },
      "source": [
        "<a href=\"https://colab.research.google.com/github/sivaldo-almeida1973/aula1-/blob/main/aula_teorica03_eng_soft_logprog.ipynb\" target=\"_parent\"><img src=\"https://colab.research.google.com/assets/colab-badge.svg\" alt=\"Open In Colab\"/></a>"
      ]
    },
    {
      "cell_type": "markdown",
      "source": [
        "##Estruturas Condicionais\n",
        "algoritimo sequencial."
      ],
      "metadata": {
        "id": "aiyhHA_8A36F"
      }
    },
    {
      "cell_type": "markdown",
      "source": [
        "#Condicional Simples\n",
        "Ler 2 valores inteiro e comparar ambos\n"
      ],
      "metadata": {
        "id": "AfKCy_3gElpt"
      }
    },
    {
      "cell_type": "code",
      "execution_count": 3,
      "metadata": {
        "colab": {
          "base_uri": "https://localhost:8080/"
        },
        "id": "5Veca3HmAcnA",
        "outputId": "b5323e6f-3023-4bc9-e44c-d14844fd4be9"
      },
      "outputs": [
        {
          "output_type": "stream",
          "name": "stdout",
          "text": [
            "Digite primeiro numero:10\n",
            "Digite outro numero:5\n",
            "primeiro valor maior maior que o segundo!\n"
          ]
        }
      ],
      "source": [
        "n1 = int(input('Digite primeiro valor inteiro:'))\n",
        "n2 = int(input('Digite outro valor inteiro:'))\n",
        "if (n1 > n2 ):\n",
        "  print('primeiro valor maior que o segundo!')"
      ]
    },
    {
      "cell_type": "markdown",
      "source": [
        "#Condicional Composta\n",
        "par ou impar"
      ],
      "metadata": {
        "id": "UWynqcbME24t"
      }
    },
    {
      "cell_type": "code",
      "source": [
        "valor_int = int(input('Digite um valor inteiro:'))\n",
        "if( valor_int % 2 == 0):\n",
        "  print('PAR!!')\n",
        "else:\n",
        "  print('IMPAR!!')"
      ],
      "metadata": {
        "colab": {
          "base_uri": "https://localhost:8080/"
        },
        "id": "ezjJCB18EHce",
        "outputId": "23148cd8-79ef-4ca1-90a6-7b2b665d1868"
      },
      "execution_count": 5,
      "outputs": [
        {
          "output_type": "stream",
          "name": "stdout",
          "text": [
            "Digite um valor inteiro:12\n",
            "PAR!!\n"
          ]
        }
      ]
    },
    {
      "cell_type": "markdown",
      "source": [],
      "metadata": {
        "id": "kgeYy-02HJk9"
      }
    },
    {
      "cell_type": "markdown",
      "source": [
        "#Operadores Logicos not(não)negação, and(e)conjunção, or(ou)disjunção."
      ],
      "metadata": {
        "id": "UfkT500gGu7e"
      }
    },
    {
      "cell_type": "markdown",
      "source": [
        "#not"
      ],
      "metadata": {
        "id": "5QzP6MNbHp2m"
      }
    },
    {
      "cell_type": "code",
      "source": [
        "x = True\n",
        "y = False\n",
        "print(not x)\n",
        "print(not y)"
      ],
      "metadata": {
        "colab": {
          "base_uri": "https://localhost:8080/"
        },
        "id": "9qrKV6tOGO-C",
        "outputId": "92e559d8-8c80-4436-a566-b563952118b3"
      },
      "execution_count": 7,
      "outputs": [
        {
          "output_type": "stream",
          "name": "stdout",
          "text": [
            "False\n",
            "True\n"
          ]
        }
      ]
    },
    {
      "cell_type": "markdown",
      "source": [
        "#and(2 verdades )"
      ],
      "metadata": {
        "id": "9wlWF9arH672"
      }
    },
    {
      "cell_type": "code",
      "source": [
        "x = True\n",
        "y = False\n",
        "print(x and y)\n"
      ],
      "metadata": {
        "colab": {
          "base_uri": "https://localhost:8080/"
        },
        "id": "G4hNr0YiH01f",
        "outputId": "18a97c27-fbc9-4bc8-cd30-332401a81879"
      },
      "execution_count": 8,
      "outputs": [
        {
          "output_type": "stream",
          "name": "stdout",
          "text": [
            "False\n"
          ]
        }
      ]
    },
    {
      "cell_type": "markdown",
      "source": [
        "#or (uma verdade)"
      ],
      "metadata": {
        "id": "-1JCaILoITyu"
      }
    },
    {
      "cell_type": "code",
      "source": [
        "x = True\n",
        "y = False\n",
        "print(x or y)"
      ],
      "metadata": {
        "colab": {
          "base_uri": "https://localhost:8080/"
        },
        "id": "CGCuoEsQIPKO",
        "outputId": "fbf9585c-0028-4e4c-b70a-175b3333abf4"
      },
      "execution_count": 9,
      "outputs": [
        {
          "output_type": "stream",
          "name": "stdout",
          "text": [
            "True\n"
          ]
        }
      ]
    },
    {
      "cell_type": "markdown",
      "source": [
        "#Precedencia dos Operadores\n",
        "()Parenteses\n",
        "-potencias ou raiz\n",
        "-multiplicação ou divisão e modulo\n",
        "-adição e subtração\n",
        "-op. relacionais\n",
        "-op logico not, and, or \n",
        "-atribuições\n",
        "\n"
      ],
      "metadata": {
        "id": "37ZibCwHIwJ8"
      }
    },
    {
      "cell_type": "code",
      "source": [
        "x = 10\n",
        "y = 1\n",
        "res = not x > y\n",
        "print(res)"
      ],
      "metadata": {
        "colab": {
          "base_uri": "https://localhost:8080/"
        },
        "id": "hyUfpMrnIeRn",
        "outputId": "4f97b8b7-8276-4901-873f-78e846a2cec8"
      },
      "execution_count": 10,
      "outputs": [
        {
          "output_type": "stream",
          "name": "stdout",
          "text": [
            "False\n"
          ]
        }
      ]
    },
    {
      "cell_type": "code",
      "source": [
        "x = 10\n",
        "y = 1\n",
        "z = 5.5\n",
        "res = x > y and z == y\n",
        "print(res)"
      ],
      "metadata": {
        "colab": {
          "base_uri": "https://localhost:8080/"
        },
        "id": "VtFoN2woJ-Cc",
        "outputId": "e5d835d0-3ecb-408d-91cb-0a4c24cb6850"
      },
      "execution_count": 11,
      "outputs": [
        {
          "output_type": "stream",
          "name": "stdout",
          "text": [
            "False\n"
          ]
        }
      ]
    },
    {
      "cell_type": "markdown",
      "source": [
        "#Exercicio"
      ],
      "metadata": {
        "id": "5HVYDv8eK4Nn"
      }
    },
    {
      "cell_type": "code",
      "source": [
        "nota1 = float(input('Digite a primeira nota: '))\n",
        "nota2 = float(input('Digite a segunda nota: '))\n",
        "nota3 = float(input('Digite a terceira nota: '))\n",
        "if nota1 >= 7 and nota2 >= 7 and nota3 >= 7:\n",
        "  print('Aluno aprovado!')\n",
        "else:\n",
        "  print('Aluno reprovado!')\n"
      ],
      "metadata": {
        "colab": {
          "base_uri": "https://localhost:8080/"
        },
        "id": "Y3tOozhBKb1X",
        "outputId": "a596b9c4-fd02-4928-9dc7-51229a27002d"
      },
      "execution_count": 20,
      "outputs": [
        {
          "output_type": "stream",
          "name": "stdout",
          "text": [
            "Digite a primeira nota: 6\n",
            "Digite a segunda nota: 7\n",
            "Digite a terceira nota: 8\n",
            "Aluno reprovado!\n"
          ]
        }
      ]
    },
    {
      "cell_type": "markdown",
      "source": [
        "#Condicionais Aninhadas com 2 niveis"
      ],
      "metadata": {
        "id": "Jwd0UlSoNNMa"
      }
    },
    {
      "cell_type": "code",
      "source": [
        "print('Escolha o que deseja comprar: ')\n",
        "print('1- Maçãs: ')\n",
        "print('2- Bananas: ')\n",
        "print('3- Laranjas: ')\n",
        "produto = int(input('QUAL A SUA ESCOLHA? '))\n",
        "qtd= int(input('Quantas unidades? '))\n",
        "if (produto == 1):\n",
        "  pagar = qtd * 2.3\n",
        "  print('Voce comprou {} maçãs: Total a pagar: {:.2f} R$.'.format(qtd, pagar ))\n",
        "else:\n",
        "  if (produto == 2):\n",
        "    pagar = qtd * 3.6\n",
        "    print('voce comprou {} bananas:Total a pagar: {:.2f} R$'. format(qtd, pagar))\n",
        "  else:\n",
        "      if (produto == 3):\n",
        "        pagar = qtd * 1.85\n",
        "        print('voce comprou {} laranjas: Total a pagar: {:.2f} R$'.format(qtd, pagar))\n",
        "      else:\n",
        "        print('produto enexistente')\n",
        "\n"
      ],
      "metadata": {
        "colab": {
          "base_uri": "https://localhost:8080/"
        },
        "id": "xY9CNeUPT7T_",
        "outputId": "4ba6f726-6f74-4f21-c57e-2e7aa45b4ea3"
      },
      "execution_count": 43,
      "outputs": [
        {
          "output_type": "stream",
          "name": "stdout",
          "text": [
            "Escolha o que deseja comprar: \n",
            "1- Maçãs: \n",
            "2- Bananas: \n",
            "3- Laranjas: \n",
            "QUAL A SUA ESCOLHA? 2\n",
            "Quantas unidades? 32\n",
            "voce comprou 32 bananas:Total a pagar: 115.20 R$\n"
          ]
        }
      ]
    },
    {
      "cell_type": "markdown",
      "source": [
        "#Condicional de multipla escolha elif"
      ],
      "metadata": {
        "id": "HEFhXB-XftVl"
      }
    },
    {
      "cell_type": "code",
      "source": [
        "print('escolha o produto que deseja comprar:')\n",
        "print('1-> Maçã:')\n",
        "print('2-> Bananas: ')\n",
        "print('3-> laranjas: ')\n",
        "produto = int(input('escolha o produto:'))\n",
        "qtd = int(input('Escolha a quantidade: '))\n",
        "if produto == 1:\n",
        "  pagar = qtd * 1.80\n",
        "  print('Voce escolheu {} macãs :Total a pagar:{} R$'.format(qtd, pagar))\n",
        "elif produto == 2:\n",
        "  pagar = qtd * 1.2\n",
        "  print('voce comprou {} bananas : Total a pagar:{} R$'.format(qtd, pagar))\n",
        "elif produto == 3:\n",
        "  pagar = qtd * 1.5\n",
        "  print('voce comprou {} laranjas:Total a pagar:{} R$'.format(qtd, pagar))\n",
        "\n",
        "else:\n",
        "   print('produto escolhido não existe!!')\n",
        "print('Fim!!')\n"
      ],
      "metadata": {
        "colab": {
          "base_uri": "https://localhost:8080/"
        },
        "id": "mmhymi-bU6Qj",
        "outputId": "5fb90900-e8ed-4cdf-c952-67bfa7225264"
      },
      "execution_count": 45,
      "outputs": [
        {
          "output_type": "stream",
          "name": "stdout",
          "text": [
            "escolha o produto que desja comprar:\n",
            "1-> Maçã:\n",
            "2-> Bananas: \n",
            "3-> laranjas: \n",
            "escolha o produto:1\n",
            "Escolha a quantidade: 2\n",
            "Voce escolheu 2 macãs :Total a pagar:3.6R$\n",
            "Fim!!\n"
          ]
        }
      ]
    },
    {
      "cell_type": "code",
      "source": [
        "nome = input('Digite seu nome: ')\n",
        "idade = int(input('Qual sua idade'))\n",
        "if nome == 'sivaldo':\n",
        "  print('Olá , sivaldo!')\n",
        "elif idade < 18:\n",
        "  print('menor de idade!')\n",
        "elif idade >= 100:\n",
        "  print('Voce é imortal!')"
      ],
      "metadata": {
        "colab": {
          "base_uri": "https://localhost:8080/"
        },
        "id": "4gRcWuergXEb",
        "outputId": "56d51d75-a99c-42a0-95f4-4200091d32dd"
      },
      "execution_count": 59,
      "outputs": [
        {
          "output_type": "stream",
          "name": "stdout",
          "text": [
            "Digite seu nome: jose\n",
            "Qual sua idade100\n",
            "Voce é imortal!\n"
          ]
        }
      ]
    },
    {
      "cell_type": "code",
      "source": [],
      "metadata": {
        "id": "ned_Pkz7jiXL"
      },
      "execution_count": null,
      "outputs": []
    }
  ]
}