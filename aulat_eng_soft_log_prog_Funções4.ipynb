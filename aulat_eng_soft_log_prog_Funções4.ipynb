{
  "nbformat": 4,
  "nbformat_minor": 0,
  "metadata": {
    "colab": {
      "provenance": [],
      "authorship_tag": "ABX9TyPQFFyLuNEGgaFAtQiPii/P",
      "include_colab_link": true
    },
    "kernelspec": {
      "name": "python3",
      "display_name": "Python 3"
    },
    "language_info": {
      "name": "python"
    }
  },
  "cells": [
    {
      "cell_type": "markdown",
      "metadata": {
        "id": "view-in-github",
        "colab_type": "text"
      },
      "source": [
        "<a href=\"https://colab.research.google.com/github/sivaldo-almeida1973/aula1-/blob/main/aulat_eng_soft_log_prog_Fun%C3%A7%C3%B5es4.ipynb\" target=\"_parent\"><img src=\"https://colab.research.google.com/assets/colab-badge.svg\" alt=\"Open In Colab\"/></a>"
      ]
    },
    {
      "cell_type": "markdown",
      "source": [
        "#Recursos avançados com funções::"
      ],
      "metadata": {
        "id": "V1Nsfkaf8h4A"
      }
    },
    {
      "cell_type": "markdown",
      "source": [
        "#Erros de sintaxe\n",
        "Ocorre quando o programador comete algum erro de digitação, palavra_chave , caractere ou mesmo na indentação."
      ],
      "metadata": {
        "id": "vYmXEcb-84El"
      }
    },
    {
      "cell_type": "code",
      "source": [
        "#erro de sintaxe(faltou os dois pontos)\n",
        "while True\n",
        "  print('Olá, mundo')\n",
        "  "
      ],
      "metadata": {
        "id": "MPoI0Rj69amc"
      },
      "execution_count": null,
      "outputs": []
    },
    {
      "cell_type": "markdown",
      "source": [
        "#Corrigindo erros de sintaxe"
      ],
      "metadata": {
        "id": "qfd8KHV0Ewqc"
      }
    },
    {
      "cell_type": "code",
      "source": [
        "while True:\n",
        "  try:\n",
        "    x = int(input('Por favor digite um numero: '))\n",
        "    break\n",
        "  except ValueError:\n",
        "    print('Oops! numero invalido. Tente novamente...')\n"
      ],
      "metadata": {
        "id": "LUabyKS5Evk0"
      },
      "execution_count": null,
      "outputs": []
    },
    {
      "cell_type": "code",
      "source": [],
      "metadata": {
        "id": "9O1gq-WRFycE"
      },
      "execution_count": null,
      "outputs": []
    },
    {
      "cell_type": "markdown",
      "source": [
        "#Exceções comuns em python.\n",
        ".ZeroDivisionError-erro de divisão por zero"
      ],
      "metadata": {
        "id": "-SgACTiWC7WV"
      }
    },
    {
      "cell_type": "code",
      "source": [
        "100 * (2/0)"
      ],
      "metadata": {
        "id": "HFLaszk2CuSE"
      },
      "execution_count": null,
      "outputs": []
    },
    {
      "cell_type": "markdown",
      "source": [
        "#tratando exceções de divisão por zero"
      ],
      "metadata": {
        "id": "uPEw6feOHdv7"
      }
    },
    {
      "cell_type": "markdown",
      "source": [],
      "metadata": {
        "id": "u8JaR9GxHKEO"
      }
    },
    {
      "cell_type": "code",
      "source": [
        "def div():\n",
        "  try:\n",
        "    num1 = int(input('Digite um numero: '))\n",
        "    num2 = int(input('Digite um numero: '))\n",
        "    res = num1 / num2\n",
        "  except ZeroDivisionError:\n",
        "    print('Oops! Erro de divisão por zero...') \n",
        "  except:\n",
        "    print('Algo de errado aconteceu...')\n",
        "  else:\n",
        "    return res \n",
        "  finally:\n",
        "    print('Executará sempre!')\n",
        "\n",
        "#programa principal\n",
        "print(div())"
      ],
      "metadata": {
        "colab": {
          "base_uri": "https://localhost:8080/"
        },
        "id": "9RonfyStHHCi",
        "outputId": "cfd3ffc0-9226-440b-d410-f2fdf52a30e3"
      },
      "execution_count": 9,
      "outputs": [
        {
          "output_type": "stream",
          "name": "stdout",
          "text": [
            "Digite um numero: 10\n",
            "Digite um numero: 2\n",
            "Executará sempre!\n",
            "5.0\n"
          ]
        }
      ]
    },
    {
      "cell_type": "markdown",
      "source": [
        "#ValueError-\n",
        "erro de um dado não esperado sendo digitado"
      ],
      "metadata": {
        "id": "i2gHmMrgEEKE"
      }
    },
    {
      "cell_type": "code",
      "source": [
        "x = int(input('Digite um numero: '))"
      ],
      "metadata": {
        "id": "qNJ9p-wAD1MM"
      },
      "execution_count": null,
      "outputs": []
    },
    {
      "cell_type": "markdown",
      "source": [
        "#IndexError\n",
        "erro de indice inexistente sendo acessado."
      ],
      "metadata": {
        "id": "3EIzZhRSERcL"
      }
    },
    {
      "cell_type": "code",
      "source": [
        "def imprime_com_condição(num , fcond):\n",
        "  if fcond(num):\n",
        "    print(num)\n",
        "\n",
        "def par(x):\n",
        "  return x % 2 == 0\n",
        "def impar(x):\n",
        "  return not par(x)\n",
        "\n",
        "#programa principal\n",
        "imprime_com_condição(6, par)\n"
      ],
      "metadata": {
        "colab": {
          "base_uri": "https://localhost:8080/"
        },
        "id": "04Jx7J3JIUVV",
        "outputId": "5e1f1979-cbdb-4343-e150-d39353313cbf"
      },
      "execution_count": 11,
      "outputs": [
        {
          "output_type": "stream",
          "name": "stdout",
          "text": [
            "6\n"
          ]
        }
      ]
    },
    {
      "cell_type": "markdown",
      "source": [
        "#Função lambda\n",
        "sem nome ,simples.\n"
      ],
      "metadata": {
        "id": "fKmyYDwrJUXE"
      }
    },
    {
      "cell_type": "code",
      "source": [
        "res = lambda x: x * x\n",
        "print(res(3))\n"
      ],
      "metadata": {
        "colab": {
          "base_uri": "https://localhost:8080/"
        },
        "id": "ZpB1wAH8Jjpr",
        "outputId": "9d3d254b-3bf3-4ac7-ad14-57b084d2da07"
      },
      "execution_count": 14,
      "outputs": [
        {
          "output_type": "stream",
          "name": "stdout",
          "text": [
            "9\n"
          ]
        }
      ]
    },
    {
      "cell_type": "code",
      "source": [
        "soma = lambda x, y: x + y\n",
        "print(soma(3,5))"
      ],
      "metadata": {
        "colab": {
          "base_uri": "https://localhost:8080/"
        },
        "id": "8tDwCjixJ8K7",
        "outputId": "05ee18d2-3727-4df8-b709-d3d67df00844"
      },
      "execution_count": 15,
      "outputs": [
        {
          "output_type": "stream",
          "name": "stdout",
          "text": [
            "8\n"
          ]
        }
      ]
    }
  ]
}