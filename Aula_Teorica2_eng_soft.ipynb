{
  "nbformat": 4,
  "nbformat_minor": 0,
  "metadata": {
    "colab": {
      "provenance": [],
      "authorship_tag": "ABX9TyN9mXkq5HhmSMa+HOvRIrIK",
      "include_colab_link": true
    },
    "kernelspec": {
      "name": "python3",
      "display_name": "Python 3"
    },
    "language_info": {
      "name": "python"
    }
  },
  "cells": [
    {
      "cell_type": "markdown",
      "metadata": {
        "id": "view-in-github",
        "colab_type": "text"
      },
      "source": [
        "<a href=\"https://colab.research.google.com/github/sivaldo-almeida1973/aula1-/blob/main/Aula_Teorica2_eng_soft.ipynb\" target=\"_parent\"><img src=\"https://colab.research.google.com/assets/colab-badge.svg\" alt=\"Open In Colab\"/></a>"
      ]
    },
    {
      "cell_type": "markdown",
      "source": [
        "#1-Estrutura Condicional Simples\n",
        "\n",
        "se (condição)   if (condição)"
      ],
      "metadata": {
        "id": "IBqvkmIVNL5X"
      }
    },
    {
      "cell_type": "code",
      "source": [
        "valor1 = int(input('Digite um valor numerico inteiro: '))\n",
        "valor2 = int(input('Digite outro valor numerico inteiro: '))\n",
        "if valor1 > valor2:\n",
        "  print(f'valor1 digitado {valor1} é maior que o valor2 digitado {valor2}')\n",
        "\n"
      ],
      "metadata": {
        "colab": {
          "base_uri": "https://localhost:8080/"
        },
        "id": "--9qjQVKQH0T",
        "outputId": "5c4cb14a-0758-46f8-d5f6-604a653ea6fc"
      },
      "execution_count": 7,
      "outputs": [
        {
          "output_type": "stream",
          "name": "stdout",
          "text": [
            "Digite um valor numerico inteiro: 100\n",
            "Digite outro valor numerico inteiro: 10\n",
            "valor1 digitado 100 é maior que o valor2 digitado 10\n"
          ]
        }
      ]
    },
    {
      "cell_type": "markdown",
      "source": [
        "#2-Estrutura Condicional Composta"
      ],
      "metadata": {
        "id": "40idgo0sUiNG"
      }
    },
    {
      "cell_type": "code",
      "source": [
        "#se (condição)  if(condição)\n",
        "   #Instrução A     #instrução A\n",
        "#senão          else:\n",
        "  #instrução B       #instrução B\n",
        "\n",
        "valor_inteiro = int(input('Digite um numero inteiro: '))\n",
        "\n",
        "if valor_inteiro % 2 == 0:\n",
        "  print('O valor digitado é Par!')\n",
        "else:\n",
        "  print('Numero digitado é impar!')"
      ],
      "metadata": {
        "colab": {
          "base_uri": "https://localhost:8080/"
        },
        "id": "Lb18bOR7UpJS",
        "outputId": "3303afc2-2d09-461d-8aef-f9f17b295809"
      },
      "execution_count": 3,
      "outputs": [
        {
          "output_type": "stream",
          "name": "stdout",
          "text": [
            "Digite um numero inteiro: 110\n",
            "O valor digitado é Par!\n"
          ]
        }
      ]
    },
    {
      "cell_type": "markdown",
      "source": [
        "#3-Expressões Lógicas e Álgebra booleana"
      ],
      "metadata": {
        "id": "dsdxPKSjHQAK"
      }
    },
    {
      "cell_type": "code",
      "source": [
        "#Operadores lógicos\n",
        "# not = não  ,  and = e   , or = ou\n",
        "# negação       conjunção    disjunção\n",
        "\n",
        "#not\n",
        "x = True \n",
        "y = False\n",
        "print(not x)\n",
        "print(not y)\n",
        "\n",
        "print('-'*20)\n",
        "# and\n",
        "x = True\n",
        "y = False\n",
        "print(x and y)\n",
        "\n",
        "print('-'*20)\n",
        "\n",
        "#or \n",
        "x = True\n",
        "y = False\n",
        "print(x or y)\n"
      ],
      "metadata": {
        "colab": {
          "base_uri": "https://localhost:8080/"
        },
        "id": "RfW9yGXIHqoC",
        "outputId": "36ed1406-5cc3-4ef4-b3eb-4821f2f094a8"
      },
      "execution_count": 8,
      "outputs": [
        {
          "output_type": "stream",
          "name": "stdout",
          "text": [
            "False\n",
            "True\n",
            "--------------------\n",
            "False\n",
            "--------------------\n",
            "True\n"
          ]
        }
      ]
    },
    {
      "cell_type": "markdown",
      "source": [
        "#Precedência de operadores:"
      ],
      "metadata": {
        "id": "WgK0JVpWI_2B"
      }
    },
    {
      "cell_type": "code",
      "source": [
        "#Parênteses\n",
        "# potenciação ou raiz\n",
        "#multiplicação ,divisão e modulo\n",
        "#adição e subtração\n",
        "#operadores relacionais == < > \n",
        "#operadores logicos not\n",
        "#operadores logicos and\n",
        "#operadores logicos or\n",
        "#atribuições\n",
        "\n",
        "x = 10\n",
        "y = 1\n",
        "res = not x > y\n",
        "print(res)\n"
      ],
      "metadata": {
        "colab": {
          "base_uri": "https://localhost:8080/"
        },
        "id": "PrrRvnmDJGwv",
        "outputId": "03f2cbb3-fd58-4eee-c40a-eac9264f609c"
      },
      "execution_count": 9,
      "outputs": [
        {
          "output_type": "stream",
          "name": "stdout",
          "text": [
            "False\n"
          ]
        }
      ]
    },
    {
      "cell_type": "code",
      "source": [
        "x = 10\n",
        "y = 1\n",
        "z = 5.5\n",
        "res = x > y and z == y\n",
        "print(res)"
      ],
      "metadata": {
        "colab": {
          "base_uri": "https://localhost:8080/"
        },
        "id": "N3K1XbhGLRCy",
        "outputId": "05a6b908-e4d7-4477-a9e4-13e4ca8aa81b"
      },
      "execution_count": 10,
      "outputs": [
        {
          "output_type": "stream",
          "name": "stdout",
          "text": [
            "False\n"
          ]
        }
      ]
    }
  ]
}