{
  "nbformat": 4,
  "nbformat_minor": 0,
  "metadata": {
    "colab": {
      "provenance": [],
      "authorship_tag": "ABX9TyNXAuuSgdCTweH7I2gaJ3F5",
      "include_colab_link": true
    },
    "kernelspec": {
      "name": "python3",
      "display_name": "Python 3"
    },
    "language_info": {
      "name": "python"
    }
  },
  "cells": [
    {
      "cell_type": "markdown",
      "metadata": {
        "id": "view-in-github",
        "colab_type": "text"
      },
      "source": [
        "<a href=\"https://colab.research.google.com/github/sivaldo-almeida1973/aula1-/blob/main/Aula_Teorica2_eng_soft.ipynb\" target=\"_parent\"><img src=\"https://colab.research.google.com/assets/colab-badge.svg\" alt=\"Open In Colab\"/></a>"
      ]
    },
    {
      "cell_type": "markdown",
      "source": [
        "#1-Estrutura Condicional Simples\n",
        "\n",
        "se (condição)   if (condição)"
      ],
      "metadata": {
        "id": "IBqvkmIVNL5X"
      }
    },
    {
      "cell_type": "code",
      "source": [
        "valor1 = int(input('Digite um valor numerico inteiro: '))\n",
        "valor2 = int(input('Digite outro valor numerico inteiro: '))\n",
        "if valor1 > valor2:\n",
        "  print(f'valor1 digitado {valor1} é maior que o valor2 digitado {valor2}')\n",
        "\n"
      ],
      "metadata": {
        "colab": {
          "base_uri": "https://localhost:8080/"
        },
        "id": "--9qjQVKQH0T",
        "outputId": "5c4cb14a-0758-46f8-d5f6-604a653ea6fc"
      },
      "execution_count": null,
      "outputs": [
        {
          "output_type": "stream",
          "name": "stdout",
          "text": [
            "Digite um valor numerico inteiro: 100\n",
            "Digite outro valor numerico inteiro: 10\n",
            "valor1 digitado 100 é maior que o valor2 digitado 10\n"
          ]
        }
      ]
    },
    {
      "cell_type": "markdown",
      "source": [
        "#2-Estrutura Condicional Composta"
      ],
      "metadata": {
        "id": "40idgo0sUiNG"
      }
    },
    {
      "cell_type": "code",
      "source": [
        "#se (condição)  if(condição)\n",
        "   #Instrução A     #instrução A\n",
        "#senão          else:\n",
        "  #instrução B       #instrução B\n",
        "\n",
        "valor_inteiro = int(input('Digite um numero inteiro: '))\n",
        "\n",
        "if valor_inteiro % 2 == 0:\n",
        "  print('O valor digitado é Par!')\n",
        "else:\n",
        "  print('Numero digitado é impar!')"
      ],
      "metadata": {
        "colab": {
          "base_uri": "https://localhost:8080/"
        },
        "id": "Lb18bOR7UpJS",
        "outputId": "3303afc2-2d09-461d-8aef-f9f17b295809"
      },
      "execution_count": null,
      "outputs": [
        {
          "output_type": "stream",
          "name": "stdout",
          "text": [
            "Digite um numero inteiro: 110\n",
            "O valor digitado é Par!\n"
          ]
        }
      ]
    },
    {
      "cell_type": "markdown",
      "source": [
        "#3-Expressões Lógicas e Álgebra booleana"
      ],
      "metadata": {
        "id": "dsdxPKSjHQAK"
      }
    },
    {
      "cell_type": "code",
      "source": [
        "#Operadores lógicos\n",
        "# not = não  ,  and = e   , or = ou\n",
        "# negação       conjunção    disjunção\n",
        "\n",
        "#not\n",
        "x = True \n",
        "y = False\n",
        "print(not x)\n",
        "print(not y)\n",
        "\n",
        "print('-'*20)\n",
        "# and\n",
        "x = True\n",
        "y = False\n",
        "print(x and y)\n",
        "\n",
        "print('-'*20)\n",
        "\n",
        "#or \n",
        "x = True\n",
        "y = False\n",
        "print(x or y)\n"
      ],
      "metadata": {
        "colab": {
          "base_uri": "https://localhost:8080/"
        },
        "id": "RfW9yGXIHqoC",
        "outputId": "36ed1406-5cc3-4ef4-b3eb-4821f2f094a8"
      },
      "execution_count": null,
      "outputs": [
        {
          "output_type": "stream",
          "name": "stdout",
          "text": [
            "False\n",
            "True\n",
            "--------------------\n",
            "False\n",
            "--------------------\n",
            "True\n"
          ]
        }
      ]
    },
    {
      "cell_type": "markdown",
      "source": [
        "#Precedência de operadores:"
      ],
      "metadata": {
        "id": "WgK0JVpWI_2B"
      }
    },
    {
      "cell_type": "code",
      "source": [
        "#Parênteses\n",
        "# potenciação ou raiz\n",
        "#multiplicação ,divisão e modulo\n",
        "#adição e subtração\n",
        "#operadores relacionais == < > \n",
        "#operadores logicos not\n",
        "#operadores logicos and\n",
        "#operadores logicos or\n",
        "#atribuições\n",
        "\n",
        "x = 10\n",
        "y = 1\n",
        "res = not x > y\n",
        "print(res)\n"
      ],
      "metadata": {
        "colab": {
          "base_uri": "https://localhost:8080/"
        },
        "id": "PrrRvnmDJGwv",
        "outputId": "03f2cbb3-fd58-4eee-c40a-eac9264f609c"
      },
      "execution_count": null,
      "outputs": [
        {
          "output_type": "stream",
          "name": "stdout",
          "text": [
            "False\n"
          ]
        }
      ]
    },
    {
      "cell_type": "code",
      "source": [
        "x = 10\n",
        "y = 1\n",
        "z = 5.5\n",
        "res = x > y and z == y\n",
        "print(res)"
      ],
      "metadata": {
        "colab": {
          "base_uri": "https://localhost:8080/"
        },
        "id": "N3K1XbhGLRCy",
        "outputId": "05a6b908-e4d7-4477-a9e4-13e4ca8aa81b"
      },
      "execution_count": null,
      "outputs": [
        {
          "output_type": "stream",
          "name": "stdout",
          "text": [
            "False\n"
          ]
        }
      ]
    },
    {
      "cell_type": "markdown",
      "source": [
        "#Exercício."
      ],
      "metadata": {
        "id": "vdmlZKD0NpFq"
      }
    },
    {
      "cell_type": "code",
      "source": [
        "mat1 = float(input('Digite sua nota em Matemática: '))\n",
        "mat2 = float(input('Digite sua nota em Ciências: '))\n",
        "mat3 = float(input('Digite sua nota em Geografia: '))\n",
        "\n",
        "media = (mat1 + mat2 + mat3) / 3\n",
        "if media >= 7 :\n",
        "  print(f'Você tirou na mat1 {mat1},mat2 {mat2} e mat3 {mat3} ,sua média obtida é:{media}\\nVocê foi APROVADO!')\n",
        "\n",
        "else:\n",
        "  print(f'Você tirou na mat1 {mat1},mat2 {mat2} e mat3 {mat3} ,sua média obtida é:{media}\\nVoce está REPROVADO!')"
      ],
      "metadata": {
        "colab": {
          "base_uri": "https://localhost:8080/"
        },
        "id": "EzzdiQXPOSze",
        "outputId": "8700f434-0465-400d-b5d9-6343326787d5"
      },
      "execution_count": null,
      "outputs": [
        {
          "output_type": "stream",
          "name": "stdout",
          "text": [
            "Digite sua nota em Matemática: 5\n",
            "Digite sua nota em Ciências: 6\n",
            "Digite sua nota em Geografia: 7\n",
            "Você tirou na mat1 5.0,mat2 6.0 e mat3 7.0 ,sua média obtida é:6.0\n",
            "Voce está REPROVADO!\n"
          ]
        }
      ]
    },
    {
      "cell_type": "markdown",
      "source": [
        "#Condicionais aninhadas\n",
        "podemos inserir condicionais dentro de outra condicional.Não existe limite.\n"
      ],
      "metadata": {
        "id": "bVqc6oCuM4hZ"
      }
    },
    {
      "cell_type": "code",
      "source": [
        "print('Escolha a fruta que deseja comprar:' )\n",
        "\n",
        "print('1-Maçã')\n",
        "print('2-Laranja')\n",
        "print('3-Banana')\n",
        "\n",
        "produto = int(input('Qual a sua escolha? '))\n",
        "qtd = int(input('Quantas Unidades?'))\n",
        "\n",
        "if (produto == 1):\n",
        "  pagar = qtd * 2.3\n",
        "  print('Você comprou {} maçãs. Total à pagar: {}'.format(qtd, pagar))\n",
        "else:\n",
        "  if (produto == 2):\n",
        "    pagar = qtd * 3.5\n",
        "    print('Você comprou {} laranjas.Total à pagar: {}: '.format(qtd, pagar))\n",
        "  else:\n",
        "    if (produto == 3):\n",
        "      pagar = qtd * 3\n",
        "      print('Você comprou {} bananas. Total à pagar: {} '.format(qtd, pagar))\n",
        "    else:\n",
        "      print('Opção Inválida!Escolha Novamente!')\n",
        "\n",
        "\n",
        "\n",
        "\n"
      ],
      "metadata": {
        "colab": {
          "base_uri": "https://localhost:8080/"
        },
        "id": "KlMR1JGTNOzf",
        "outputId": "e89e7a1c-cc95-41a2-d0c5-033a6d39333b"
      },
      "execution_count": 20,
      "outputs": [
        {
          "output_type": "stream",
          "name": "stdout",
          "text": [
            "Escolha a fruta que deseja comprar:\n",
            "1-Maçã\n",
            "2-Laranja\n",
            "3-Banana\n",
            "Qual a sua escolha? 2\n",
            "Quantas Unidades?12\n",
            "Você comprou 12 laranjas.Total à pagar: 42.0: \n"
          ]
        }
      ]
    },
    {
      "cell_type": "markdown",
      "source": [
        "#Condicional de múltipla escolha.(elif)\n",
        ".Simplifica o uso de múltiplas condicionais em um programa."
      ],
      "metadata": {
        "id": "Jz-F2ZyYVbbT"
      }
    },
    {
      "cell_type": "code",
      "source": [
        "#Refazer o exercício anterior , mas agora com elif.\n",
        "\n",
        "print('=======Escolha o produto deseja comprar:=======')\n",
        "print('1- Maçã')\n",
        "print('2-Banana')\n",
        "print('3-Laranja')\n",
        "\n",
        "produto = int(input('O produto escolhido foi: '))\n",
        "qtd = int(input('A quantidade escolhida  foi: '))\n",
        "\n",
        "if (produto == 1):\n",
        "  total_pagar = qtd * 1.99\n",
        "  print('Voce comprou {} maçãs .Total a pagar será: R${} '.format(qtd,total_pagar))\n",
        "\n",
        "elif (produto == 2):\n",
        "  total_pagar = qtd * 1.25\n",
        "  print('Você comprou {} bananas.Total a pagar: R${}'.format(qtd, total_pagar))\n",
        "\n",
        "elif (produto == 3):\n",
        "  total_pagar = qtd * 3\n",
        "  print('Você comprou {} laranjas .Total a pagar: R${} '.format(qtd, total_pagar))\n",
        "\n",
        "else:\n",
        "  print('Produto inexistente!')\n"
      ],
      "metadata": {
        "colab": {
          "base_uri": "https://localhost:8080/"
        },
        "id": "LpInBNkoWXAc",
        "outputId": "ed012af5-f83f-404d-877a-6ad14fafc55b"
      },
      "execution_count": 33,
      "outputs": [
        {
          "output_type": "stream",
          "name": "stdout",
          "text": [
            "=======Escolha o produto deseja comprar:=======\n",
            "1- Maçã\n",
            "2-Banana\n",
            "3-Laranja\n",
            "O produto escolhido foi: 12\n",
            "A quantidade escolhida  foi: 12\n",
            "Produto inexistente!\n"
          ]
        }
      ]
    },
    {
      "cell_type": "code",
      "source": [
        "#Exercício \n",
        "nome = input('Digite seu nome: ')\n",
        "idade = int(input('Digite sua idade:'))\n",
        "\n",
        "if nome == 'sivaldo':\n",
        "  print('Seu mone é {} e sua idade é {} anos'.format(nome, idade))\n",
        "elif nome != 'sivaldo' and idade < 18 :\n",
        "  print('Seu nome é {} e voce tem {} anos, e é menor de idade!'.format(nome, idade))\n",
        "elif nome != ' sivaldo' and idade > 100:\n",
        "    print(f'Você tem {idade} anos e provavelmente não existe!')"
      ],
      "metadata": {
        "colab": {
          "base_uri": "https://localhost:8080/"
        },
        "id": "WOGlj_1rbV2M",
        "outputId": "560a2340-e8cc-4fc5-f9c4-d1f78c226c13"
      },
      "execution_count": 42,
      "outputs": [
        {
          "output_type": "stream",
          "name": "stdout",
          "text": [
            "Digite seu nome: adão\n",
            "Digite sua idade:120\n",
            "Você tem 120 anos e provavelmente não existe!\n"
          ]
        }
      ]
    }
  ]
}