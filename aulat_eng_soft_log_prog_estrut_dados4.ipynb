{
  "nbformat": 4,
  "nbformat_minor": 0,
  "metadata": {
    "colab": {
      "provenance": [],
      "authorship_tag": "ABX9TyMyvE4f9ZHJivYvOXDTkiKG",
      "include_colab_link": true
    },
    "kernelspec": {
      "name": "python3",
      "display_name": "Python 3"
    },
    "language_info": {
      "name": "python"
    }
  },
  "cells": [
    {
      "cell_type": "markdown",
      "metadata": {
        "id": "view-in-github",
        "colab_type": "text"
      },
      "source": [
        "<a href=\"https://colab.research.google.com/github/sivaldo-almeida1973/aula1-/blob/main/aulat_eng_soft_log_prog_estrut_dados4.ipynb\" target=\"_parent\"><img src=\"https://colab.research.google.com/assets/colab-badge.svg\" alt=\"Open In Colab\"/></a>"
      ]
    },
    {
      "cell_type": "markdown",
      "source": [
        "#Dicionários \n",
        "estrutura de dados dinâmica- podemos alterar dados e tamanho- indexados por chaves(palavras-chave) - representado em python por chaves { }"
      ],
      "metadata": {
        "id": "1VloztLO6bbs"
      }
    },
    {
      "cell_type": "code",
      "source": [
        "game = {'nome':'Super Mario',\n",
        "        'desenvolvedora':'Nitendo',\n",
        "        'ano': 1990}\n",
        "print(game)\n"
      ],
      "metadata": {
        "colab": {
          "base_uri": "https://localhost:8080/"
        },
        "id": "j0EXnB6869ce",
        "outputId": "c056a98b-ac0b-48a9-aed9-cb23e32167e1"
      },
      "execution_count": 4,
      "outputs": [
        {
          "output_type": "stream",
          "name": "stdout",
          "text": [
            "{'nome': 'Super Mario', 'desenvolvedora': 'Nitendo', 'ano': 1990}\n"
          ]
        }
      ]
    },
    {
      "cell_type": "code",
      "source": [
        "print(game['nome'])\n",
        "print(game['desenvolvedora'])\n",
        "print(game['ano'])"
      ],
      "metadata": {
        "colab": {
          "base_uri": "https://localhost:8080/"
        },
        "id": "IVvIp6sB70e8",
        "outputId": "11728cbf-5afa-4d34-e4f5-69b435277e51"
      },
      "execution_count": 5,
      "outputs": [
        {
          "output_type": "stream",
          "name": "stdout",
          "text": [
            "Super Mario\n",
            "Nitendo\n",
            "1990\n"
          ]
        }
      ]
    },
    {
      "cell_type": "markdown",
      "source": [
        "#Metodos para dicionários:\n",
        "values:obtem somente os dados- Keys: obtem somente as chaves - Items: obtém o par chave:dado"
      ],
      "metadata": {
        "id": "pYb6A7799CyJ"
      }
    },
    {
      "cell_type": "code",
      "source": [
        "print(game.values())"
      ],
      "metadata": {
        "colab": {
          "base_uri": "https://localhost:8080/"
        },
        "id": "5Zi7_Zns9nsF",
        "outputId": "398a7390-dce5-44c2-da9f-02b0c4122fd2"
      },
      "execution_count": 6,
      "outputs": [
        {
          "output_type": "stream",
          "name": "stdout",
          "text": [
            "dict_values(['Super Mario', 'Nitendo', 1990])\n"
          ]
        }
      ]
    },
    {
      "cell_type": "code",
      "source": [
        "for i in game.values():\n",
        "  print(i)"
      ],
      "metadata": {
        "colab": {
          "base_uri": "https://localhost:8080/"
        },
        "id": "NoPDZUqi9xTZ",
        "outputId": "94052a42-51a5-4f8b-f725-4e90721b8b76"
      },
      "execution_count": 7,
      "outputs": [
        {
          "output_type": "stream",
          "name": "stdout",
          "text": [
            "Super Mario\n",
            "Nitendo\n",
            "1990\n"
          ]
        }
      ]
    },
    {
      "cell_type": "code",
      "source": [
        "print(game.keys())"
      ],
      "metadata": {
        "colab": {
          "base_uri": "https://localhost:8080/"
        },
        "id": "axqZ1jU996Tb",
        "outputId": "dc6d18ab-9f68-469d-e188-8bd5baa32bdc"
      },
      "execution_count": 8,
      "outputs": [
        {
          "output_type": "stream",
          "name": "stdout",
          "text": [
            "dict_keys(['nome', 'desenvolvedora', 'ano'])\n"
          ]
        }
      ]
    },
    {
      "cell_type": "code",
      "source": [
        "for i in game.keys():\n",
        "  print(i)"
      ],
      "metadata": {
        "colab": {
          "base_uri": "https://localhost:8080/"
        },
        "id": "BWI4lSJx-GDR",
        "outputId": "74c7fe01-8ccc-450a-de15-b8d5f0e5c7f9"
      },
      "execution_count": 9,
      "outputs": [
        {
          "output_type": "stream",
          "name": "stdout",
          "text": [
            "nome\n",
            "desenvolvedora\n",
            "ano\n"
          ]
        }
      ]
    },
    {
      "cell_type": "code",
      "source": [
        "print(game.items())"
      ],
      "metadata": {
        "colab": {
          "base_uri": "https://localhost:8080/"
        },
        "id": "blTxFe8i-OgR",
        "outputId": "d2c586b4-a83f-43cd-f94c-b7843b95186b"
      },
      "execution_count": 10,
      "outputs": [
        {
          "output_type": "stream",
          "name": "stdout",
          "text": [
            "dict_items([('nome', 'Super Mario'), ('desenvolvedora', 'Nitendo'), ('ano', 1990)])\n"
          ]
        }
      ]
    },
    {
      "cell_type": "code",
      "source": [
        "for i, j in game.items():\n",
        "  print('{} = {}  '.format(i,j))"
      ],
      "metadata": {
        "colab": {
          "base_uri": "https://localhost:8080/"
        },
        "id": "DoCt4AGi-U9w",
        "outputId": "cdcdae3f-5237-413c-df0a-0f2e30454e32"
      },
      "execution_count": 11,
      "outputs": [
        {
          "output_type": "stream",
          "name": "stdout",
          "text": [
            "nome = Super Mario  \n",
            "desenvolvedora = Nitendo  \n",
            "ano = 1990  \n"
          ]
        }
      ]
    },
    {
      "cell_type": "markdown",
      "source": [
        "#Listas com Dicionários:\n",
        "uma lista contendo, em cada índice , um dicionário."
      ],
      "metadata": {
        "id": "xTRwGpxl_Uhh"
      }
    },
    {
      "cell_type": "code",
      "source": [
        "games = [] #esta lista recebe dicionários\n",
        "\n",
        "\n",
        "game1 = {  #dicionario\n",
        "          'nome':'Super Mario',\n",
        "         'videogame':'Super Nitendo',\n",
        "         'ano':'1990'}\n",
        "game2 = {\n",
        "          'nome':'Zelda Ocarina of time',\n",
        "          'videogame':'Nitendo 64',\n",
        "         'ano':1999\n",
        "}\n",
        "\n",
        "game3 = {\n",
        "         'nome':'Pokemon Yellow',\n",
        "         'videogame': 'Game Boy',\n",
        "         'ano': 1999\n",
        "}\n",
        "\n",
        "\n",
        "games = [game1, game2, game3]\n",
        "print(games)"
      ],
      "metadata": {
        "colab": {
          "base_uri": "https://localhost:8080/"
        },
        "id": "OFyyvOgr_iqo",
        "outputId": "43032f98-da1c-45db-c9be-b0f56f590df2"
      },
      "execution_count": 12,
      "outputs": [
        {
          "output_type": "stream",
          "name": "stdout",
          "text": [
            "[{'nome': 'Super Mario', 'videogame': 'Super Nitendo', 'ano': '1990'}, {'nome': 'Zelda Ocarina of time', 'videogame': 'Nitendo 64', 'ano': 1999}, {'nome': 'Pokemon Yellow', 'videogame': 'Game Boy', 'ano': 1999}]\n"
          ]
        }
      ]
    },
    {
      "cell_type": "code",
      "source": [
        "game = {}\n",
        "games = []\n",
        "for i in range(3):\n",
        "  game['nome'] = input('Qual o nome do jogo ?')\n",
        "  game['videogame'] = input('Para qual video-game ele foi lançado ?')\n",
        "  game['ano'] = input('Qual o ano de lançamento? ')\n",
        "  games.append(game.copy())\n",
        "print('-'*20)\n",
        "for e in games:\n",
        "  for i , j in e.items():\n",
        "    print('o campo {} tem o valor {} '.format(i, j))"
      ],
      "metadata": {
        "id": "mJD1dHAwA6cW"
      },
      "execution_count": null,
      "outputs": []
    },
    {
      "cell_type": "markdown",
      "source": [
        "#Dicionários com listas:\n",
        "um dicionario contendo, em cada índice , uma lista"
      ],
      "metadata": {
        "id": "nzqsbQm6DLT3"
      }
    },
    {
      "cell_type": "code",
      "source": [
        "games = {'nome': ['Super Mario','Zelda Ocarina of time', 'Pokemon Yellow'],\n",
        "         'videogame':['Super Nitendo','Nitendo 64','Game Boy'],\n",
        "         'ano':[1990, 1999, 1998]\n",
        "         }\n",
        "print(games)"
      ],
      "metadata": {
        "colab": {
          "base_uri": "https://localhost:8080/"
        },
        "id": "UL_0X4E9C3NF",
        "outputId": "2c705cb6-a739-46e8-8570-a1a6a9fea1b7"
      },
      "execution_count": 14,
      "outputs": [
        {
          "output_type": "stream",
          "name": "stdout",
          "text": [
            "{'nome': ['Super Mario', 'Zelda Ocarina of time', 'Pokemon Yellow'], 'videogame': ['Super Nitendo', 'Nitendo 64', 'Game Boy'], 'ano': [1990, 1999, 1998]}\n"
          ]
        }
      ]
    },
    {
      "cell_type": "code",
      "source": [
        "games = {'nome':[], 'videogame':[], 'ano':[]}\n",
        "for i in range(3):\n",
        "  nome = input('Qual o nome do jogo?')\n",
        "  videogame = input('para qual videogame ele foi criado?')\n",
        "  ano = input('Qual o ano de lançamento? ')\n",
        "  games['nome'].append(nome)\n",
        "  games['videogame'].append(videogame)\n",
        "  games['ano'].append(ano)\n",
        "print('-'*20)\n",
        "print(games)"
      ],
      "metadata": {
        "colab": {
          "base_uri": "https://localhost:8080/"
        },
        "id": "YPRzw_XlENeH",
        "outputId": "3aeb7f2d-5527-4427-c780-c5463084dac3"
      },
      "execution_count": 15,
      "outputs": [
        {
          "output_type": "stream",
          "name": "stdout",
          "text": [
            "Qual o nome do jogo?mario\n",
            "para qual videogame ele foi criado?snes\n",
            "Qual o ano de lançamento? 1999\n",
            "Qual o nome do jogo?mario bros\n",
            "para qual videogame ele foi criado?snes\n",
            "Qual o ano de lançamento? 1998\n",
            "Qual o nome do jogo?pokemon\n",
            "para qual videogame ele foi criado?snes\n",
            "Qual o ano de lançamento? 1999\n",
            "--------------------\n",
            "{'nome': ['mario', 'mario bros', 'pokemon'], 'videogame': ['snes', 'snes', 'snes'], 'ano': ['1999', '1998', '1999']}\n"
          ]
        }
      ]
    },
    {
      "cell_type": "code",
      "source": [],
      "metadata": {
        "id": "Vi4Ac2ZdFaxw"
      },
      "execution_count": null,
      "outputs": []
    }
  ]
}