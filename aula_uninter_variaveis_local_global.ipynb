{
  "nbformat": 4,
  "nbformat_minor": 0,
  "metadata": {
    "colab": {
      "provenance": [],
      "authorship_tag": "ABX9TyPhJvw4bu2s1SC5gnham6e1",
      "include_colab_link": true
    },
    "kernelspec": {
      "name": "python3",
      "display_name": "Python 3"
    },
    "language_info": {
      "name": "python"
    }
  },
  "cells": [
    {
      "cell_type": "markdown",
      "metadata": {
        "id": "view-in-github",
        "colab_type": "text"
      },
      "source": [
        "<a href=\"https://colab.research.google.com/github/sivaldo-almeida1973/aula1-/blob/main/aula_uninter_variaveis_local_global.ipynb\" target=\"_parent\"><img src=\"https://colab.research.google.com/assets/colab-badge.svg\" alt=\"Open In Colab\"/></a>"
      ]
    },
    {
      "cell_type": "code",
      "execution_count": 3,
      "metadata": {
        "colab": {
          "base_uri": "https://localhost:8080/"
        },
        "id": "LPrFdBo0L2p8",
        "outputId": "a7e63dfe-e087-4d45-b087-1d4969738c88"
      },
      "outputs": [
        {
          "output_type": "stream",
          "name": "stdout",
          "text": [
            "12\n"
          ]
        }
      ],
      "source": [
        "def comida():\n",
        "  print(ovos) #variavel local\n",
        "\n",
        "#programa principal\n",
        "ovos = 12 # variavél global\n",
        "comida()"
      ]
    },
    {
      "cell_type": "code",
      "source": [
        "def comida():\n",
        "  ovos = 12\n",
        "  bacon()\n",
        "  print(ovos)\n",
        "\n",
        "def bacon():\n",
        "  ovos = 6\n",
        "\n",
        "#programa principal\n",
        "comida()"
      ],
      "metadata": {
        "colab": {
          "base_uri": "https://localhost:8080/"
        },
        "id": "nY1ZlV-vVw0X",
        "outputId": "4f08dc93-e231-4d5e-813d-76f917b3c218"
      },
      "execution_count": 4,
      "outputs": [
        {
          "output_type": "stream",
          "name": "stdout",
          "text": [
            "12\n"
          ]
        }
      ]
    },
    {
      "cell_type": "code",
      "source": [
        "def comida():\n",
        "  ovos = 'variavel local de comdida'\n",
        "  print(ovos)\n",
        "\n",
        "def bacon():\n",
        "  ovos = 'variavel local de bacon'\n",
        "  print(ovos)\n",
        "  comida()\n",
        "  print(ovos)\n",
        "\n",
        "#programa principal\n",
        "ovos = 'variavel global'\n",
        "bacon()\n",
        "print(ovos)"
      ],
      "metadata": {
        "colab": {
          "base_uri": "https://localhost:8080/"
        },
        "id": "Fd45BvFvW3eg",
        "outputId": "8dec193f-f9d9-4892-8c7b-fd9ba2f9bcd6"
      },
      "execution_count": 5,
      "outputs": [
        {
          "output_type": "stream",
          "name": "stdout",
          "text": [
            "variavel local de bacon\n",
            "variavel local de comdida\n",
            "variavel local de bacon\n",
            "variavel global\n"
          ]
        }
      ]
    }
  ]
}