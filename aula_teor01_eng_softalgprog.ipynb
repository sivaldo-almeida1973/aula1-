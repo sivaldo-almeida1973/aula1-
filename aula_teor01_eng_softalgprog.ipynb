{
  "nbformat": 4,
  "nbformat_minor": 0,
  "metadata": {
    "colab": {
      "provenance": [],
      "authorship_tag": "ABX9TyPOiuH6MA0KvQnXOV8Vjc7k",
      "include_colab_link": true
    },
    "kernelspec": {
      "name": "python3",
      "display_name": "Python 3"
    },
    "language_info": {
      "name": "python"
    }
  },
  "cells": [
    {
      "cell_type": "markdown",
      "metadata": {
        "id": "view-in-github",
        "colab_type": "text"
      },
      "source": [
        "<a href=\"https://colab.research.google.com/github/sivaldo-almeida1973/aula1-/blob/main/aula_teor01_eng_softalgprog.ipynb\" target=\"_parent\"><img src=\"https://colab.research.google.com/assets/colab-badge.svg\" alt=\"Open In Colab\"/></a>"
      ]
    },
    {
      "cell_type": "markdown",
      "source": [
        "\n",
        "\n",
        "> Indented block\n",
        "\n",
        "#O primeiro programa"
      ],
      "metadata": {
        "id": "78vnNIUBopw1"
      }
    },
    {
      "cell_type": "markdown",
      "source": [
        "Função de saida (print) pseudocodigo=esvrever"
      ],
      "metadata": {
        "id": "mOGA1bJ3pRII"
      }
    },
    {
      "cell_type": "code",
      "source": [
        "print('Olá, mundo!')"
      ],
      "metadata": {
        "colab": {
          "base_uri": "https://localhost:8080/"
        },
        "id": "ZjrKMGDCpCHU",
        "outputId": "51fe986f-f0d3-4c5a-fe19-3a36de626605"
      },
      "execution_count": 7,
      "outputs": [
        {
          "output_type": "stream",
          "name": "stdout",
          "text": [
            "Olá, mundo!\n"
          ]
        }
      ]
    },
    {
      "cell_type": "markdown",
      "source": [
        "Operações aritimetica"
      ],
      "metadata": {
        "id": "wSNeaSr9qi1F"
      }
    },
    {
      "cell_type": "code",
      "source": [
        "print(2 + 3)"
      ],
      "metadata": {
        "colab": {
          "base_uri": "https://localhost:8080/"
        },
        "id": "7ZHE4IDPpGUB",
        "outputId": "8c502e21-cd29-40b0-d314-fe5dbc315b0c"
      },
      "execution_count": 8,
      "outputs": [
        {
          "output_type": "stream",
          "name": "stdout",
          "text": [
            "5\n"
          ]
        }
      ]
    },
    {
      "cell_type": "markdown",
      "source": [
        "O que acontece aqui?"
      ],
      "metadata": {
        "id": "mruJ8jUBqucF"
      }
    },
    {
      "cell_type": "code",
      "source": [
        "print('2 + 3')"
      ],
      "metadata": {
        "colab": {
          "base_uri": "https://localhost:8080/"
        },
        "id": "_T51wNSNpqzS",
        "outputId": "739385b6-f075-4fd6-f7a0-5250437e2b50"
      },
      "execution_count": 9,
      "outputs": [
        {
          "output_type": "stream",
          "name": "stdout",
          "text": [
            "2 + 3\n"
          ]
        }
      ]
    },
    {
      "cell_type": "markdown",
      "source": [
        "Concatenação"
      ],
      "metadata": {
        "id": "H6lWTe1Iqb-l"
      }
    },
    {
      "cell_type": "code",
      "source": [
        "print('2'+ '3')"
      ],
      "metadata": {
        "colab": {
          "base_uri": "https://localhost:8080/"
        },
        "id": "Pg52bsgXqU2V",
        "outputId": "0258efc0-2ecd-4ae9-b360-a99267d2f1ff"
      },
      "execution_count": 12,
      "outputs": [
        {
          "output_type": "stream",
          "name": "stdout",
          "text": [
            "23\n"
          ]
        }
      ]
    },
    {
      "cell_type": "markdown",
      "source": [
        "Concatenando mensagens:"
      ],
      "metadata": {
        "id": "p-AjPJ9GrDat"
      }
    },
    {
      "cell_type": "code",
      "source": [
        "print('Olá,' + 'mundo!')"
      ],
      "metadata": {
        "colab": {
          "base_uri": "https://localhost:8080/"
        },
        "id": "DpzL3IFnpwD5",
        "outputId": "db7cec28-6cd3-4662-f98f-cfdb9c79c992"
      },
      "execution_count": 10,
      "outputs": [
        {
          "output_type": "stream",
          "name": "stdout",
          "text": [
            "Olá,mundo!\n"
          ]
        }
      ]
    },
    {
      "cell_type": "code",
      "source": [
        "print('Olá,', 'mundo!')"
      ],
      "metadata": {
        "colab": {
          "base_uri": "https://localhost:8080/"
        },
        "id": "vlk6VI4Up6_E",
        "outputId": "35ce52bf-5044-424f-8c37-d6012b875ef9"
      },
      "execution_count": 11,
      "outputs": [
        {
          "output_type": "stream",
          "name": "stdout",
          "text": [
            "Olá, mundo!\n"
          ]
        }
      ]
    },
    {
      "cell_type": "markdown",
      "source": [],
      "metadata": {
        "id": "FLSWpAK8rMvE"
      }
    },
    {
      "cell_type": "markdown",
      "source": [
        "Concatenando mensagem com numeros"
      ],
      "metadata": {
        "id": "b0i_6-ShrPbM"
      }
    },
    {
      "cell_type": "code",
      "source": [
        "print('O resultado da soma de 2 + 3:', 2+3)"
      ],
      "metadata": {
        "colab": {
          "base_uri": "https://localhost:8080/"
        },
        "id": "dkJFIqClraui",
        "outputId": "fbd8acb0-1d45-4771-f70f-e497892b0004"
      },
      "execution_count": 13,
      "outputs": [
        {
          "output_type": "stream",
          "name": "stdout",
          "text": [
            "O resultado da soma de 2 + 3: 5\n"
          ]
        }
      ]
    },
    {
      "cell_type": "markdown",
      "source": [
        "Opreradores e operações matematicas"
      ],
      "metadata": {
        "id": "FXhP0azBsH9C"
      }
    },
    {
      "cell_type": "code",
      "source": [
        "print(10*(5+7)/4)"
      ],
      "metadata": {
        "colab": {
          "base_uri": "https://localhost:8080/"
        },
        "id": "rLNdjVl1qDZk",
        "outputId": "b678e0cf-2cfe-4a0a-929b-a4ecc3782766"
      },
      "execution_count": 14,
      "outputs": [
        {
          "output_type": "stream",
          "name": "stdout",
          "text": [
            "30.0\n"
          ]
        }
      ]
    },
    {
      "cell_type": "code",
      "source": [
        "print(10*(5+7/4))"
      ],
      "metadata": {
        "colab": {
          "base_uri": "https://localhost:8080/"
        },
        "id": "Mu_l7bRYsWAh",
        "outputId": "14f0835b-3498-448b-a85f-eef009ae7678"
      },
      "execution_count": 16,
      "outputs": [
        {
          "output_type": "stream",
          "name": "stdout",
          "text": [
            "67.5\n"
          ]
        }
      ]
    },
    {
      "cell_type": "markdown",
      "source": [
        "##Manipulando Strings(concatenação)"
      ],
      "metadata": {
        "id": "c8OxrWVDsywS"
      }
    },
    {
      "cell_type": "code",
      "source": [
        "s1 = 'logica de programação'\n",
        "s1 = s1 + ' e algoritimos'\n",
        "print(s1)"
      ],
      "metadata": {
        "colab": {
          "base_uri": "https://localhost:8080/"
        },
        "id": "MgE48qHbsgd5",
        "outputId": "48a6678e-6bec-415b-e728-652bedbb1416"
      },
      "execution_count": 18,
      "outputs": [
        {
          "output_type": "stream",
          "name": "stdout",
          "text": [
            "logica de programação e algoritimos\n"
          ]
        }
      ]
    },
    {
      "cell_type": "markdown",
      "source": [
        "Repetindo strings na concatenação:"
      ],
      "metadata": {
        "id": "yD2MMx7StRu1"
      }
    },
    {
      "cell_type": "code",
      "source": [
        "s1 = 'A'+'-' * 10 + 'B'\n",
        "print(s1)"
      ],
      "metadata": {
        "colab": {
          "base_uri": "https://localhost:8080/"
        },
        "id": "Z5cum6fPtIBJ",
        "outputId": "f64d67dd-08b7-458f-91f2-793db85c4799"
      },
      "execution_count": 19,
      "outputs": [
        {
          "output_type": "stream",
          "name": "stdout",
          "text": [
            "A----------B\n"
          ]
        }
      ]
    },
    {
      "cell_type": "markdown",
      "source": [
        "#Composição\n",
        "juntar diferentes variaveis e strings"
      ],
      "metadata": {
        "id": "Xa4eIIest1L-"
      }
    },
    {
      "cell_type": "code",
      "source": [
        "nota = 8.5\n",
        "s1 = 'Voce tirou %f na disciplina de Algoritimos'% nota\n",
        "print(s1)"
      ],
      "metadata": {
        "colab": {
          "base_uri": "https://localhost:8080/"
        },
        "id": "VEWdNDoQtiB-",
        "outputId": "d1a9ca12-ef94-47cb-e699-2a720b8a85ac"
      },
      "execution_count": 20,
      "outputs": [
        {
          "output_type": "stream",
          "name": "stdout",
          "text": [
            "Voce tirou 8.500000 na disciplina de Algoritimos\n"
          ]
        }
      ]
    },
    {
      "cell_type": "markdown",
      "source": [
        "Limitando casas decimais:"
      ],
      "metadata": {
        "id": "fcjoqDtvuaCF"
      }
    },
    {
      "cell_type": "code",
      "source": [
        "nota = 8.5\n",
        "s1 = 'Voce tirou %.2f na disciplina de Algoritimos'% nota\n",
        "print(s1)"
      ],
      "metadata": {
        "colab": {
          "base_uri": "https://localhost:8080/"
        },
        "id": "4FQxTClKuQxO",
        "outputId": "f26efabc-be31-4dec-9f77-92276bf3d953"
      },
      "execution_count": 21,
      "outputs": [
        {
          "output_type": "stream",
          "name": "stdout",
          "text": [
            "Voce tirou 8.50 na disciplina de Algoritimos\n"
          ]
        }
      ]
    },
    {
      "cell_type": "markdown",
      "source": [
        "Varias variaveis:\n"
      ],
      "metadata": {
        "id": "Ue5GoETgue7l"
      }
    },
    {
      "cell_type": "code",
      "source": [
        "nota = 8.5\n",
        "disciplina = 'Algoritimos'\n",
        "s1 = 'Voce tirou %.2f na disciplina de %s'% (nota , disciplina)\n",
        "print(s1)"
      ],
      "metadata": {
        "colab": {
          "base_uri": "https://localhost:8080/"
        },
        "id": "5FhNrQRhuX7m",
        "outputId": "c87b22a7-b5b1-4747-b3e6-1cd886932d26"
      },
      "execution_count": 24,
      "outputs": [
        {
          "output_type": "stream",
          "name": "stdout",
          "text": [
            "Voce tirou 8.50 na disciplina de Algoritimos\n"
          ]
        }
      ]
    },
    {
      "cell_type": "code",
      "source": [
        "nota = 8.5\n",
        "disciplina = 'Algoritimos'\n",
        "s1 = 'Voce tirou {} na disciplina de {} '.format(nota, disciplina)\n",
        "print(s1)"
      ],
      "metadata": {
        "colab": {
          "base_uri": "https://localhost:8080/"
        },
        "id": "dPzMIx0Nu_UJ",
        "outputId": "b0da5c9c-8814-495b-d8e3-a00c6a71525a"
      },
      "execution_count": 27,
      "outputs": [
        {
          "output_type": "stream",
          "name": "stdout",
          "text": [
            "Voce tirou 8.5 na disciplina de Algoritimos \n"
          ]
        }
      ]
    },
    {
      "cell_type": "markdown",
      "source": [
        "##Fatiamento:"
      ],
      "metadata": {
        "id": "Aj4zji4NwJet"
      }
    },
    {
      "cell_type": "code",
      "source": [
        "s1 = 'Logica de Programação e algoritimos'\n",
        "print(s1[0:6])"
      ],
      "metadata": {
        "colab": {
          "base_uri": "https://localhost:8080/"
        },
        "id": "OqsDcY2Vv0zt",
        "outputId": "48c0e416-cbe3-4402-99f9-83b5380e83e9"
      },
      "execution_count": 28,
      "outputs": [
        {
          "output_type": "stream",
          "name": "stdout",
          "text": [
            "Logica\n"
          ]
        }
      ]
    },
    {
      "cell_type": "code",
      "source": [
        "print(s1[:6])"
      ],
      "metadata": {
        "colab": {
          "base_uri": "https://localhost:8080/"
        },
        "id": "PQDcqmujwYoe",
        "outputId": "ca43546a-ffcc-40a5-8659-deeb40399deb"
      },
      "execution_count": 29,
      "outputs": [
        {
          "output_type": "stream",
          "name": "stdout",
          "text": [
            "Logica\n"
          ]
        }
      ]
    },
    {
      "cell_type": "code",
      "source": [
        "print(s1[24:34])"
      ],
      "metadata": {
        "colab": {
          "base_uri": "https://localhost:8080/"
        },
        "id": "bO1sWe8Iwd3W",
        "outputId": "9498b1ec-5c56-4582-b7ea-0c82b9685348"
      },
      "execution_count": 31,
      "outputs": [
        {
          "output_type": "stream",
          "name": "stdout",
          "text": [
            "algoritimo\n"
          ]
        }
      ]
    },
    {
      "cell_type": "markdown",
      "source": [
        "##Tamanho (length"
      ],
      "metadata": {
        "id": "AIoTi7f_wu4o"
      }
    },
    {
      "cell_type": "code",
      "source": [
        "s1 = 'Logica de Programação e Algoritimos'\n",
        "tamanho = len(s1)\n",
        "print(tamanho)"
      ],
      "metadata": {
        "colab": {
          "base_uri": "https://localhost:8080/"
        },
        "id": "dCKWhakvwj3G",
        "outputId": "7ff17cfd-a65c-4f9a-84a1-0f1b924c6e79"
      },
      "execution_count": 32,
      "outputs": [
        {
          "output_type": "stream",
          "name": "stdout",
          "text": [
            "35\n"
          ]
        }
      ]
    },
    {
      "cell_type": "markdown",
      "source": [
        "##Função de entrada (input) = ler"
      ],
      "metadata": {
        "id": "njORbs5c84u3"
      }
    },
    {
      "cell_type": "code",
      "source": [
        "idade = input('qual sua idade:' )\n",
        "print(idade)"
      ],
      "metadata": {
        "colab": {
          "base_uri": "https://localhost:8080/"
        },
        "id": "Lf2tbql1xAtv",
        "outputId": "1d668a53-5fbd-4961-ae20-5689da5ffc15"
      },
      "execution_count": 33,
      "outputs": [
        {
          "output_type": "stream",
          "name": "stdout",
          "text": [
            "qual sua idade:33\n",
            "33\n"
          ]
        }
      ]
    },
    {
      "cell_type": "code",
      "source": [
        "nome = input('Qual seu nome?')\n",
        "print('Olá {}, seja bem vindo!'. format(nome))"
      ],
      "metadata": {
        "colab": {
          "base_uri": "https://localhost:8080/"
        },
        "id": "g-hW2Nos9NsT",
        "outputId": "18ca8030-de69-4cbe-fa01-e9bb5cd34875"
      },
      "execution_count": 35,
      "outputs": [
        {
          "output_type": "stream",
          "name": "stdout",
          "text": [
            "Qual seu nome?sivaldo\n",
            "Olá sivaldo, seja bem vindo!\n"
          ]
        }
      ]
    },
    {
      "cell_type": "markdown",
      "source": [
        "##Convertendo dados de entrada"
      ],
      "metadata": {
        "id": "rBXLe-ca95ET"
      }
    },
    {
      "cell_type": "code",
      "source": [
        "nota = float(input('Qual nota voce recebeu na disciplina? '))\n",
        "print('Voce tirou nota {}:'.format(nota))"
      ],
      "metadata": {
        "colab": {
          "base_uri": "https://localhost:8080/"
        },
        "id": "p72bklRd9iyT",
        "outputId": "8f2c2bca-05c5-43af-9fee-b7a3a7413165"
      },
      "execution_count": 37,
      "outputs": [
        {
          "output_type": "stream",
          "name": "stdout",
          "text": [
            "Qual nota voce recebeu na disciplina? 10\n",
            "Voce tirou nota 10.0:\n"
          ]
        }
      ]
    },
    {
      "cell_type": "markdown",
      "source": [
        "##exercicio\n",
        "desenvolva um algoritimo que solicite ao usuario dois numeros inteiros.Imprima a soma destes dois numeros na tela."
      ],
      "metadata": {
        "id": "Yx0uGveU-gDD"
      }
    },
    {
      "cell_type": "markdown",
      "source": [],
      "metadata": {
        "id": "hbP5Rdeq-f5i"
      }
    },
    {
      "cell_type": "code",
      "source": [
        "num1 = int(input('Digite o primeiro numero: '))\n",
        "num2 = int(input('Digite o segundo numero: '))\n",
        "soma = num1 + num2\n",
        "print('A soma entre {} e {} é {}. '.format(num1, num2 , soma))"
      ],
      "metadata": {
        "colab": {
          "base_uri": "https://localhost:8080/"
        },
        "id": "fjHgUrMb-Pvz",
        "outputId": "e6ddf415-5fad-4f93-f027-566c3b053105"
      },
      "execution_count": 38,
      "outputs": [
        {
          "output_type": "stream",
          "name": "stdout",
          "text": [
            "Digite o primeiro numero: 25\n",
            "Digite o segundo numero: 32\n",
            "A soma entre 25 e 32 é 57. \n"
          ]
        }
      ]
    },
    {
      "cell_type": "code",
      "source": [],
      "metadata": {
        "id": "MDkaAbPB_UfV"
      },
      "execution_count": null,
      "outputs": []
    }
  ]
}