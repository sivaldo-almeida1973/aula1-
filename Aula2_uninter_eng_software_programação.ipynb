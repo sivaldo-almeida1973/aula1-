{
  "nbformat": 4,
  "nbformat_minor": 0,
  "metadata": {
    "colab": {
      "provenance": [],
      "authorship_tag": "ABX9TyOwYz3PuYzqc5GMNOjJOpkx",
      "include_colab_link": true
    },
    "kernelspec": {
      "name": "python3",
      "display_name": "Python 3"
    },
    "language_info": {
      "name": "python"
    }
  },
  "cells": [
    {
      "cell_type": "markdown",
      "metadata": {
        "id": "view-in-github",
        "colab_type": "text"
      },
      "source": [
        "<a href=\"https://colab.research.google.com/github/sivaldo-almeida1973/aula1-/blob/main/Aula2_uninter_eng_software_programa%C3%A7%C3%A3o.ipynb\" target=\"_parent\"><img src=\"https://colab.research.google.com/assets/colab-badge.svg\" alt=\"Open In Colab\"/></a>"
      ]
    },
    {
      "cell_type": "markdown",
      "source": [],
      "metadata": {
        "id": "FiojdYkO3mC9"
      }
    },
    {
      "cell_type": "markdown",
      "source": [
        "###Variaveis"
      ],
      "metadata": {
        "id": "QgMYM0dt3nas"
      }
    },
    {
      "cell_type": "markdown",
      "source": [
        "Variaveis de texto"
      ],
      "metadata": {
        "id": "gjE4qzu339au"
      }
    },
    {
      "cell_type": "code",
      "source": [
        "texto = 'Curso de Python para Iniciantes'\n",
        "texto"
      ],
      "metadata": {
        "colab": {
          "base_uri": "https://localhost:8080/",
          "height": 35
        },
        "id": "fcRqSlRk3_sp",
        "outputId": "d7438b23-c64a-4f5f-fc2d-15ed11e723ca"
      },
      "execution_count": 2,
      "outputs": [
        {
          "output_type": "execute_result",
          "data": {
            "text/plain": [
              "'Curso de Python para Iniciantes'"
            ],
            "application/vnd.google.colaboratory.intrinsic+json": {
              "type": "string"
            }
          },
          "metadata": {},
          "execution_count": 2
        }
      ]
    },
    {
      "cell_type": "code",
      "source": [
        "texto = 'Curso de Python para Iniciantes'\n",
        "\n",
        "texto = texto + ' - aula 02'\n",
        "\n",
        "texto"
      ],
      "metadata": {
        "colab": {
          "base_uri": "https://localhost:8080/",
          "height": 35
        },
        "id": "MgbQ7GwM4Q6F",
        "outputId": "b75196da-7143-4d21-dc59-a88e713e0b60"
      },
      "execution_count": 4,
      "outputs": [
        {
          "output_type": "execute_result",
          "data": {
            "text/plain": [
              "'Curso de Python para Iniciantes - aula 02'"
            ],
            "application/vnd.google.colaboratory.intrinsic+json": {
              "type": "string"
            }
          },
          "metadata": {},
          "execution_count": 4
        }
      ]
    },
    {
      "cell_type": "markdown",
      "source": [
        "## Variaveis Numericas"
      ],
      "metadata": {
        "id": "ebojhaSEuQGM"
      }
    },
    {
      "cell_type": "code",
      "source": [
        "soma = 0\n",
        "soma"
      ],
      "metadata": {
        "colab": {
          "base_uri": "https://localhost:8080/"
        },
        "id": "_uKd8B1iuTmU",
        "outputId": "7c21103b-8b9a-410c-a320-65ea8e172908"
      },
      "execution_count": 5,
      "outputs": [
        {
          "output_type": "execute_result",
          "data": {
            "text/plain": [
              "0"
            ]
          },
          "metadata": {},
          "execution_count": 5
        }
      ]
    },
    {
      "cell_type": "markdown",
      "source": [
        "Incremento/Decremento"
      ],
      "metadata": {
        "id": "RzQjD_c9ueE7"
      }
    },
    {
      "cell_type": "code",
      "source": [
        "soma = soma + 1\n",
        "soma"
      ],
      "metadata": {
        "colab": {
          "base_uri": "https://localhost:8080/"
        },
        "id": "K7rNDZtBuieE",
        "outputId": "d7358e4c-d97e-4214-d039-fe51da7a5e7d"
      },
      "execution_count": 6,
      "outputs": [
        {
          "output_type": "execute_result",
          "data": {
            "text/plain": [
              "1"
            ]
          },
          "metadata": {},
          "execution_count": 6
        }
      ]
    },
    {
      "cell_type": "code",
      "source": [
        "soma += 1\n",
        "soma"
      ],
      "metadata": {
        "colab": {
          "base_uri": "https://localhost:8080/"
        },
        "id": "Yk4Zqgs-um0k",
        "outputId": "e597442b-729d-47c1-9d13-8c4067405d7b"
      },
      "execution_count": 7,
      "outputs": [
        {
          "output_type": "execute_result",
          "data": {
            "text/plain": [
              "2"
            ]
          },
          "metadata": {},
          "execution_count": 7
        }
      ]
    },
    {
      "cell_type": "code",
      "source": [
        "soma -= 1\n",
        "soma\n"
      ],
      "metadata": {
        "colab": {
          "base_uri": "https://localhost:8080/"
        },
        "id": "YbnktbRAuwYd",
        "outputId": "d62c01d3-ec00-45a1-f1f4-a24648fb0cb2"
      },
      "execution_count": 8,
      "outputs": [
        {
          "output_type": "execute_result",
          "data": {
            "text/plain": [
              "1"
            ]
          },
          "metadata": {},
          "execution_count": 8
        }
      ]
    },
    {
      "cell_type": "markdown",
      "source": [
        "##Listas"
      ],
      "metadata": {
        "id": "YRhNC2mRu-fc"
      }
    },
    {
      "cell_type": "markdown",
      "source": [
        "#Criando e Selecionado Elementos"
      ],
      "metadata": {
        "id": "4JqxpZD_vEAU"
      }
    },
    {
      "cell_type": "markdown",
      "source": [
        "#Por Indices\n"
      ],
      "metadata": {
        "id": "VkmgAY3Lvlp8"
      }
    },
    {
      "cell_type": "code",
      "source": [
        "frutas = ['maça', 'uva', 'banana', 'manga']\n",
        "print(frutas)"
      ],
      "metadata": {
        "colab": {
          "base_uri": "https://localhost:8080/"
        },
        "id": "9UpHdjJ6vDNU",
        "outputId": "0ba2118a-c19d-490a-e7ea-3d99564ae4d5"
      },
      "execution_count": 9,
      "outputs": [
        {
          "output_type": "stream",
          "name": "stdout",
          "text": [
            "['maça', 'uva', 'banana', 'manga']\n"
          ]
        }
      ]
    },
    {
      "cell_type": "code",
      "source": [
        "print(frutas[0])"
      ],
      "metadata": {
        "colab": {
          "base_uri": "https://localhost:8080/"
        },
        "id": "zKWlU1rgvWMu",
        "outputId": "00b2c856-d743-44f7-db7c-9cff6e6c52e5"
      },
      "execution_count": 10,
      "outputs": [
        {
          "output_type": "stream",
          "name": "stdout",
          "text": [
            "maça\n"
          ]
        }
      ]
    },
    {
      "cell_type": "code",
      "source": [
        "print(frutas[1])"
      ],
      "metadata": {
        "colab": {
          "base_uri": "https://localhost:8080/"
        },
        "id": "HmUHrVbwvfIN",
        "outputId": "e129782b-671d-4e06-8ce4-fc6ea2b07baf"
      },
      "execution_count": 11,
      "outputs": [
        {
          "output_type": "stream",
          "name": "stdout",
          "text": [
            "uva\n"
          ]
        }
      ]
    },
    {
      "cell_type": "code",
      "source": [
        "numeros = [1, 2, 3, 4, 5]\n",
        "print(numeros)"
      ],
      "metadata": {
        "colab": {
          "base_uri": "https://localhost:8080/"
        },
        "id": "HIVqJEoFvi9-",
        "outputId": "0dd27fce-ada8-4b6a-d93f-5f7a6d8e9443"
      },
      "execution_count": 12,
      "outputs": [
        {
          "output_type": "stream",
          "name": "stdout",
          "text": [
            "[1, 2, 3, 4, 5]\n"
          ]
        }
      ]
    },
    {
      "cell_type": "code",
      "source": [
        "print(numeros[3])\n"
      ],
      "metadata": {
        "colab": {
          "base_uri": "https://localhost:8080/"
        },
        "id": "aaAU9pcQwK4G",
        "outputId": "f82f3469-2117-4c9c-b25b-c7a8bad5fd55"
      },
      "execution_count": 13,
      "outputs": [
        {
          "output_type": "stream",
          "name": "stdout",
          "text": [
            "4\n"
          ]
        }
      ]
    },
    {
      "cell_type": "markdown",
      "source": [
        "#listas dentro de listas"
      ],
      "metadata": {
        "id": "CO4Unk1iwpaF"
      }
    },
    {
      "cell_type": "code",
      "source": [
        "lista = ['a','b','c', frutas, numeros]\n",
        "print(lista)"
      ],
      "metadata": {
        "colab": {
          "base_uri": "https://localhost:8080/"
        },
        "id": "iDUU0AqhwRxF",
        "outputId": "1424d3cb-8668-4bec-dfbe-9bf1bd3e8602"
      },
      "execution_count": 14,
      "outputs": [
        {
          "output_type": "stream",
          "name": "stdout",
          "text": [
            "['a', 'b', 'c', ['maça', 'uva', 'banana', 'manga'], [1, 2, 3, 4, 5]]\n"
          ]
        }
      ]
    },
    {
      "cell_type": "code",
      "source": [
        "lista[0]"
      ],
      "metadata": {
        "colab": {
          "base_uri": "https://localhost:8080/",
          "height": 35
        },
        "id": "2nksm5g7wmFV",
        "outputId": "1a766b9b-d4c9-4701-9009-103bf4488d94"
      },
      "execution_count": 15,
      "outputs": [
        {
          "output_type": "execute_result",
          "data": {
            "text/plain": [
              "'a'"
            ],
            "application/vnd.google.colaboratory.intrinsic+json": {
              "type": "string"
            }
          },
          "metadata": {},
          "execution_count": 15
        }
      ]
    },
    {
      "cell_type": "code",
      "source": [
        "lista[3]"
      ],
      "metadata": {
        "colab": {
          "base_uri": "https://localhost:8080/"
        },
        "id": "v9OvUH9qw2r1",
        "outputId": "809d9def-c02a-49a9-bc39-ec71e19dd445"
      },
      "execution_count": 16,
      "outputs": [
        {
          "output_type": "execute_result",
          "data": {
            "text/plain": [
              "['maça', 'uva', 'banana', 'manga']"
            ]
          },
          "metadata": {},
          "execution_count": 16
        }
      ]
    },
    {
      "cell_type": "code",
      "source": [
        "lista[4]"
      ],
      "metadata": {
        "colab": {
          "base_uri": "https://localhost:8080/"
        },
        "id": "uEu1LXtUw5ol",
        "outputId": "194b3e95-682b-4411-f163-357af97cbf66"
      },
      "execution_count": 17,
      "outputs": [
        {
          "output_type": "execute_result",
          "data": {
            "text/plain": [
              "[1, 2, 3, 4, 5]"
            ]
          },
          "metadata": {},
          "execution_count": 17
        }
      ]
    },
    {
      "cell_type": "code",
      "source": [
        "lista[3][0]"
      ],
      "metadata": {
        "colab": {
          "base_uri": "https://localhost:8080/",
          "height": 35
        },
        "id": "4-Smt66hw-u9",
        "outputId": "ba68565f-bf37-48d8-92d0-5f772eafb0f5"
      },
      "execution_count": 18,
      "outputs": [
        {
          "output_type": "execute_result",
          "data": {
            "text/plain": [
              "'maça'"
            ],
            "application/vnd.google.colaboratory.intrinsic+json": {
              "type": "string"
            }
          },
          "metadata": {},
          "execution_count": 18
        }
      ]
    },
    {
      "cell_type": "code",
      "source": [
        "lista[4][2]"
      ],
      "metadata": {
        "colab": {
          "base_uri": "https://localhost:8080/"
        },
        "id": "qpIIMBoJxEMd",
        "outputId": "18f09f4e-cd35-4dd3-8af3-715ba786a7c2"
      },
      "execution_count": 19,
      "outputs": [
        {
          "output_type": "execute_result",
          "data": {
            "text/plain": [
              "3"
            ]
          },
          "metadata": {},
          "execution_count": 19
        }
      ]
    },
    {
      "cell_type": "code",
      "source": [
        "lista[:2]"
      ],
      "metadata": {
        "colab": {
          "base_uri": "https://localhost:8080/"
        },
        "id": "EyYzVrMkxJNV",
        "outputId": "0581bd1e-53a1-4f78-e4b5-fc8e68090fda"
      },
      "execution_count": 20,
      "outputs": [
        {
          "output_type": "execute_result",
          "data": {
            "text/plain": [
              "['a', 'b']"
            ]
          },
          "metadata": {},
          "execution_count": 20
        }
      ]
    },
    {
      "cell_type": "code",
      "source": [
        "lista[2:]"
      ],
      "metadata": {
        "colab": {
          "base_uri": "https://localhost:8080/"
        },
        "id": "1f-JpilWxO99",
        "outputId": "3ddc715d-84bd-422f-b35b-72f608fa274b"
      },
      "execution_count": 21,
      "outputs": [
        {
          "output_type": "execute_result",
          "data": {
            "text/plain": [
              "['c', ['maça', 'uva', 'banana', 'manga'], [1, 2, 3, 4, 5]]"
            ]
          },
          "metadata": {},
          "execution_count": 21
        }
      ]
    },
    {
      "cell_type": "code",
      "source": [
        "lista[2:4]"
      ],
      "metadata": {
        "colab": {
          "base_uri": "https://localhost:8080/"
        },
        "id": "ZX3iuYh6xXPV",
        "outputId": "d4e98214-a9b9-463f-9ccf-e7b56a40313b"
      },
      "execution_count": 22,
      "outputs": [
        {
          "output_type": "execute_result",
          "data": {
            "text/plain": [
              "['c', ['maça', 'uva', 'banana', 'manga']]"
            ]
          },
          "metadata": {},
          "execution_count": 22
        }
      ]
    },
    {
      "cell_type": "markdown",
      "source": [
        "##Adicionar e remover elementos"
      ],
      "metadata": {
        "id": "kSKc0q3Exik1"
      }
    },
    {
      "cell_type": "code",
      "source": [
        "frutas.append('goiaba')\n",
        "frutas"
      ],
      "metadata": {
        "colab": {
          "base_uri": "https://localhost:8080/"
        },
        "id": "Fa13B2J7xdKt",
        "outputId": "5c5061b6-ee38-4c00-e2f1-f44ae39e2d06"
      },
      "execution_count": 24,
      "outputs": [
        {
          "output_type": "execute_result",
          "data": {
            "text/plain": [
              "['maça', 'uva', 'banana', 'manga', 'goiaba', 'goiaba']"
            ]
          },
          "metadata": {},
          "execution_count": 24
        }
      ]
    },
    {
      "cell_type": "markdown",
      "source": [
        "##Remover ultimo elementos "
      ],
      "metadata": {
        "id": "JSBgDCkQx1BO"
      }
    },
    {
      "cell_type": "code",
      "source": [
        "frutas.pop()\n",
        "frutas"
      ],
      "metadata": {
        "colab": {
          "base_uri": "https://localhost:8080/"
        },
        "id": "13NP_oIlxt81",
        "outputId": "2f6e7b8e-eb9e-40f2-bdd2-7a306d682268"
      },
      "execution_count": 25,
      "outputs": [
        {
          "output_type": "execute_result",
          "data": {
            "text/plain": [
              "['maça', 'uva', 'banana', 'manga', 'goiaba']"
            ]
          },
          "metadata": {},
          "execution_count": 25
        }
      ]
    },
    {
      "cell_type": "markdown",
      "source": [
        "##Posso indicar o idice que quero apagar"
      ],
      "metadata": {
        "id": "432HULE0yUJ1"
      }
    },
    {
      "cell_type": "code",
      "source": [
        "frutas.pop(0)\n",
        "frutas"
      ],
      "metadata": {
        "colab": {
          "base_uri": "https://localhost:8080/"
        },
        "id": "4JLjh-TCx9T1",
        "outputId": "4fdf8599-c21a-40c3-b401-f527685dc8f9"
      },
      "execution_count": 26,
      "outputs": [
        {
          "output_type": "execute_result",
          "data": {
            "text/plain": [
              "['uva', 'banana', 'manga', 'goiaba']"
            ]
          },
          "metadata": {},
          "execution_count": 26
        }
      ]
    },
    {
      "cell_type": "markdown",
      "source": [
        "##Alterar elementos"
      ],
      "metadata": {
        "id": "VnZ_JCvzynxl"
      }
    },
    {
      "cell_type": "code",
      "source": [
        "frutas = ['maça', 'uva', 'banana', 'manga']\n",
        "frutas[0] = 'pera'\n",
        "frutas"
      ],
      "metadata": {
        "colab": {
          "base_uri": "https://localhost:8080/"
        },
        "id": "bFUgwQhHyiMu",
        "outputId": "50b8bd79-6212-4262-9266-6fed42224ee4"
      },
      "execution_count": 28,
      "outputs": [
        {
          "output_type": "execute_result",
          "data": {
            "text/plain": [
              "['pera', 'uva', 'banana', 'manga']"
            ]
          },
          "metadata": {},
          "execution_count": 28
        }
      ]
    },
    {
      "cell_type": "markdown",
      "source": [
        "###Tuplas"
      ],
      "metadata": {
        "id": "6NMfugMxzKgu"
      }
    },
    {
      "cell_type": "code",
      "source": [
        "marcas = 'GM', 'FORD','FIAT', 'VW'\n",
        "marcas"
      ],
      "metadata": {
        "colab": {
          "base_uri": "https://localhost:8080/"
        },
        "id": "4PKryQcYzNlG",
        "outputId": "c17012b5-b42c-4a80-ed03-dfbd4f8eb0f8"
      },
      "execution_count": 30,
      "outputs": [
        {
          "output_type": "execute_result",
          "data": {
            "text/plain": [
              "('GM', 'FORD', 'FIAT', 'VW')"
            ]
          },
          "metadata": {},
          "execution_count": 30
        }
      ]
    },
    {
      "cell_type": "code",
      "source": [
        "marcas[2]"
      ],
      "metadata": {
        "colab": {
          "base_uri": "https://localhost:8080/",
          "height": 35
        },
        "id": "LYtROllwzb1u",
        "outputId": "53115643-3fa8-46e6-a34b-f158ef76fe7d"
      },
      "execution_count": 31,
      "outputs": [
        {
          "output_type": "execute_result",
          "data": {
            "text/plain": [
              "'FIAT'"
            ],
            "application/vnd.google.colaboratory.intrinsic+json": {
              "type": "string"
            }
          },
          "metadata": {},
          "execution_count": 31
        }
      ]
    },
    {
      "cell_type": "markdown",
      "source": [
        "##Na tuplas não conseguimos alterar itens\n"
      ],
      "metadata": {
        "id": "n320I8y2zitm"
      }
    },
    {
      "cell_type": "markdown",
      "source": [
        "##Proxima Aula Dicionarios"
      ],
      "metadata": {
        "id": "QnWO91c2z4ze"
      }
    },
    {
      "cell_type": "code",
      "source": [],
      "metadata": {
        "id": "uMlxrF-1zf4W"
      },
      "execution_count": null,
      "outputs": []
    }
  ]
}