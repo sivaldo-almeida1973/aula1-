{
  "nbformat": 4,
  "nbformat_minor": 0,
  "metadata": {
    "colab": {
      "provenance": [],
      "authorship_tag": "ABX9TyP5Gpvetf0U3jk35QIiAyl8",
      "include_colab_link": true
    },
    "kernelspec": {
      "name": "python3",
      "display_name": "Python 3"
    },
    "language_info": {
      "name": "python"
    }
  },
  "cells": [
    {
      "cell_type": "markdown",
      "metadata": {
        "id": "view-in-github",
        "colab_type": "text"
      },
      "source": [
        "<a href=\"https://colab.research.google.com/github/sivaldo-almeida1973/aula1-/blob/main/Aula1_uninter_eng_software_programa%C3%A7%C3%A3o.ipynb\" target=\"_parent\"><img src=\"https://colab.research.google.com/assets/colab-badge.svg\" alt=\"Open In Colab\"/></a>"
      ]
    },
    {
      "cell_type": "markdown",
      "source": [
        "###Olá Mundo"
      ],
      "metadata": {
        "id": "p366a56TvPPb"
      }
    },
    {
      "cell_type": "markdown",
      "source": [
        "Nosso primeiro comando em Python\n"
      ],
      "metadata": {
        "id": "x0NgUEvIwNSL"
      }
    },
    {
      "cell_type": "code",
      "source": [
        "print('ola mundo')"
      ],
      "metadata": {
        "colab": {
          "base_uri": "https://localhost:8080/"
        },
        "id": "0S5yST6hv5Db",
        "outputId": "4239cfd4-b751-43a0-a43d-fe287343c9aa"
      },
      "execution_count": 2,
      "outputs": [
        {
          "output_type": "stream",
          "name": "stdout",
          "text": [
            "ola mundo\n"
          ]
        }
      ]
    },
    {
      "cell_type": "code",
      "source": [
        "print('Olá, Mundo')"
      ],
      "metadata": {
        "colab": {
          "base_uri": "https://localhost:8080/"
        },
        "id": "sl1pd1S4wYnr",
        "outputId": "114282af-b48a-4c0a-91fe-683d0067d0b4"
      },
      "execution_count": 3,
      "outputs": [
        {
          "output_type": "stream",
          "name": "stdout",
          "text": [
            "Olá, Mundo\n"
          ]
        }
      ]
    },
    {
      "cell_type": "markdown",
      "source": [
        "Strings"
      ],
      "metadata": {
        "id": "4S8hL2v4wm4y"
      }
    },
    {
      "cell_type": "markdown",
      "source": [
        "Concatenação com operador ``+``"
      ],
      "metadata": {
        "id": "0uniCREgwxgy"
      }
    },
    {
      "cell_type": "code",
      "source": [
        "print('Curso ' + ' Python')"
      ],
      "metadata": {
        "colab": {
          "base_uri": "https://localhost:8080/"
        },
        "id": "4SJFcWrYwh8q",
        "outputId": "0bfaecad-1a1f-4279-953f-94780ef0064a"
      },
      "execution_count": 6,
      "outputs": [
        {
          "output_type": "stream",
          "name": "stdout",
          "text": [
            "Curso  Python\n"
          ]
        }
      ]
    },
    {
      "cell_type": "markdown",
      "source": [
        "Substituir Valores[link text](https://)"
      ],
      "metadata": {
        "id": "Ln8HQYIExPWr"
      }
    },
    {
      "cell_type": "markdown",
      "source": [
        "Comando format()"
      ],
      "metadata": {
        "id": "_sdW1vaGxdoS"
      }
    },
    {
      "cell_type": "code",
      "source": [
        "print('Aula {} do curso de {} '.format(1, 'Python'))"
      ],
      "metadata": {
        "colab": {
          "base_uri": "https://localhost:8080/"
        },
        "id": "YogaByJRxD47",
        "outputId": "818288cd-a089-40b6-a197-372482ab6706"
      },
      "execution_count": 7,
      "outputs": [
        {
          "output_type": "stream",
          "name": "stdout",
          "text": [
            "Aula 1 do curso de Python \n"
          ]
        }
      ]
    },
    {
      "cell_type": "markdown",
      "source": [
        "transformar para minusculas com lower()"
      ],
      "metadata": {
        "id": "W02V6PXBx_HD"
      }
    },
    {
      "cell_type": "code",
      "source": [
        "print('curso de Pythton para iniciantes'.lower())"
      ],
      "metadata": {
        "colab": {
          "base_uri": "https://localhost:8080/"
        },
        "id": "KL6-Trpwx6WH",
        "outputId": "d6cf2880-bae2-413f-8273-bb83dd14c6f6"
      },
      "execution_count": 8,
      "outputs": [
        {
          "output_type": "stream",
          "name": "stdout",
          "text": [
            "curso de pythton para iniciantes\n"
          ]
        }
      ]
    },
    {
      "cell_type": "code",
      "source": [
        "print('Curso de Python para iniciantes '.upper())"
      ],
      "metadata": {
        "colab": {
          "base_uri": "https://localhost:8080/"
        },
        "id": "1CgmE4pgyezY",
        "outputId": "51e0b57f-55cf-474e-fd6f-8240ebcdaa7d"
      },
      "execution_count": 9,
      "outputs": [
        {
          "output_type": "stream",
          "name": "stdout",
          "text": [
            "CURSO DE PYTHON PARA INICIANTES \n"
          ]
        }
      ]
    },
    {
      "cell_type": "markdown",
      "source": [
        "transformando em Maiusculas com upper()"
      ],
      "metadata": {
        "id": "l1d3DLKMyw8b"
      }
    },
    {
      "cell_type": "code",
      "source": [
        "print('Curso de Python para iniciantes '.upper())"
      ],
      "metadata": {
        "colab": {
          "base_uri": "https://localhost:8080/"
        },
        "id": "y03G0_eXyr7j",
        "outputId": "87e60dbe-f606-4c25-e87c-efd6f01a1c5b"
      },
      "execution_count": 10,
      "outputs": [
        {
          "output_type": "stream",
          "name": "stdout",
          "text": [
            "CURSO DE PYTHON PARA INICIANTES \n"
          ]
        }
      ]
    },
    {
      "cell_type": "markdown",
      "source": [
        "Removendo espaços em branco com strip()"
      ],
      "metadata": {
        "id": "icIFdaFby_DD"
      }
    },
    {
      "cell_type": "code",
      "source": [
        "print('    Curso de Python para iniciantes     '.strip())"
      ],
      "metadata": {
        "colab": {
          "base_uri": "https://localhost:8080/"
        },
        "id": "LaLka3Pey9rj",
        "outputId": "7142533c-40f1-4fd2-ba01-1c67ef6d45ac"
      },
      "execution_count": 11,
      "outputs": [
        {
          "output_type": "stream",
          "name": "stdout",
          "text": [
            "Curso de Python para iniciantes\n"
          ]
        }
      ]
    },
    {
      "cell_type": "markdown",
      "source": [
        "Usando o comando type "
      ],
      "metadata": {
        "id": "4gq7BZ_-zt4z"
      }
    },
    {
      "cell_type": "code",
      "source": [
        "type('curso de Python para iniciantes')"
      ],
      "metadata": {
        "colab": {
          "base_uri": "https://localhost:8080/"
        },
        "id": "Pr6QQrvvzPkz",
        "outputId": "f8f79115-cf64-43c8-d7a5-f60d9a19c8a5"
      },
      "execution_count": 12,
      "outputs": [
        {
          "output_type": "execute_result",
          "data": {
            "text/plain": [
              "str"
            ]
          },
          "metadata": {},
          "execution_count": 12
        }
      ]
    },
    {
      "cell_type": "markdown",
      "source": [
        "### lidando com numeros e operadores matematicos"
      ],
      "metadata": {
        "id": "V7stqDkrz_Cs"
      }
    },
    {
      "cell_type": "markdown",
      "source": [
        "Tipos numericos"
      ],
      "metadata": {
        "id": "9_fGFkcU0KMj"
      }
    },
    {
      "cell_type": "code",
      "source": [
        "type(2)"
      ],
      "metadata": {
        "colab": {
          "base_uri": "https://localhost:8080/"
        },
        "id": "JjBIWNJaz7bE",
        "outputId": "222c21eb-ea9f-4a68-c240-1b5469f4bd85"
      },
      "execution_count": 13,
      "outputs": [
        {
          "output_type": "execute_result",
          "data": {
            "text/plain": [
              "int"
            ]
          },
          "metadata": {},
          "execution_count": 13
        }
      ]
    },
    {
      "cell_type": "code",
      "source": [
        "type(2.3)"
      ],
      "metadata": {
        "colab": {
          "base_uri": "https://localhost:8080/"
        },
        "id": "zSUt2fqs0Rak",
        "outputId": "bf11dfe2-2f3a-45aa-c06e-5b4e7a3c6f2f"
      },
      "execution_count": 14,
      "outputs": [
        {
          "output_type": "execute_result",
          "data": {
            "text/plain": [
              "float"
            ]
          },
          "metadata": {},
          "execution_count": 14
        }
      ]
    },
    {
      "cell_type": "markdown",
      "source": [
        "soma"
      ],
      "metadata": {
        "id": "y0gC-9N00X0N"
      }
    },
    {
      "cell_type": "code",
      "source": [
        "2+2"
      ],
      "metadata": {
        "colab": {
          "base_uri": "https://localhost:8080/"
        },
        "id": "yXpN_pBf0UWz",
        "outputId": "be7f2aee-772e-461f-9965-19d444140f83"
      },
      "execution_count": 15,
      "outputs": [
        {
          "output_type": "execute_result",
          "data": {
            "text/plain": [
              "4"
            ]
          },
          "metadata": {},
          "execution_count": 15
        }
      ]
    },
    {
      "cell_type": "markdown",
      "source": [
        "Subtração"
      ],
      "metadata": {
        "id": "IyZSFJoq0iO-"
      }
    },
    {
      "cell_type": "code",
      "source": [
        "2 - 2"
      ],
      "metadata": {
        "colab": {
          "base_uri": "https://localhost:8080/"
        },
        "id": "Kr3S4wOI0ksc",
        "outputId": "805df3e1-b256-46e6-8fc7-8d5ef25fe13e"
      },
      "execution_count": 16,
      "outputs": [
        {
          "output_type": "execute_result",
          "data": {
            "text/plain": [
              "0"
            ]
          },
          "metadata": {},
          "execution_count": 16
        }
      ]
    },
    {
      "cell_type": "markdown",
      "source": [
        "Multiplicação"
      ],
      "metadata": {
        "id": "_YVNKQYz0pNM"
      }
    },
    {
      "cell_type": "code",
      "source": [
        "2*2"
      ],
      "metadata": {
        "colab": {
          "base_uri": "https://localhost:8080/"
        },
        "id": "Bo2DLJZp0mFM",
        "outputId": "0466c1d6-fc3b-45d3-817f-efbaf670f8f4"
      },
      "execution_count": 17,
      "outputs": [
        {
          "output_type": "execute_result",
          "data": {
            "text/plain": [
              "4"
            ]
          },
          "metadata": {},
          "execution_count": 17
        }
      ]
    },
    {
      "cell_type": "markdown",
      "source": [
        "Exponenciação"
      ],
      "metadata": {
        "id": "KhTDXblw0ywc"
      }
    },
    {
      "cell_type": "code",
      "source": [
        "5 ** 2"
      ],
      "metadata": {
        "colab": {
          "base_uri": "https://localhost:8080/"
        },
        "id": "xrOsJ_AK01Fc",
        "outputId": "cc50fc87-b6c2-4d24-c9e9-0f80e03d3bb8"
      },
      "execution_count": 18,
      "outputs": [
        {
          "output_type": "execute_result",
          "data": {
            "text/plain": [
              "25"
            ]
          },
          "metadata": {},
          "execution_count": 18
        }
      ]
    },
    {
      "cell_type": "markdown",
      "source": [
        "Divisão"
      ],
      "metadata": {
        "id": "1G_oYL7N081d"
      }
    },
    {
      "cell_type": "code",
      "source": [
        "2 / 2"
      ],
      "metadata": {
        "colab": {
          "base_uri": "https://localhost:8080/"
        },
        "id": "eSAaqG8r1At8",
        "outputId": "90451aad-3779-4236-d0dc-0dddda0dde88"
      },
      "execution_count": 19,
      "outputs": [
        {
          "output_type": "execute_result",
          "data": {
            "text/plain": [
              "1.0"
            ]
          },
          "metadata": {},
          "execution_count": 19
        }
      ]
    },
    {
      "cell_type": "code",
      "source": [
        "12 / 2\n"
      ],
      "metadata": {
        "colab": {
          "base_uri": "https://localhost:8080/"
        },
        "id": "RiFoznbA1FKs",
        "outputId": "21d00b99-d771-47e7-f98e-0a06e08cc172"
      },
      "execution_count": 20,
      "outputs": [
        {
          "output_type": "execute_result",
          "data": {
            "text/plain": [
              "6.0"
            ]
          },
          "metadata": {},
          "execution_count": 20
        }
      ]
    },
    {
      "cell_type": "markdown",
      "source": [
        "Divisão Inteira"
      ],
      "metadata": {
        "id": "2yr-ZMT01RB4"
      }
    },
    {
      "cell_type": "code",
      "source": [
        "15 // 2"
      ],
      "metadata": {
        "colab": {
          "base_uri": "https://localhost:8080/"
        },
        "id": "c5BQCj5j1UFF",
        "outputId": "da243660-9280-45f9-bdea-830b2e933a4e"
      },
      "execution_count": 21,
      "outputs": [
        {
          "output_type": "execute_result",
          "data": {
            "text/plain": [
              "7"
            ]
          },
          "metadata": {},
          "execution_count": 21
        }
      ]
    },
    {
      "cell_type": "markdown",
      "source": [
        "Resto da Divisão "
      ],
      "metadata": {
        "id": "80_PIuSJ1dM1"
      }
    },
    {
      "cell_type": "code",
      "source": [
        "5 % 2"
      ],
      "metadata": {
        "colab": {
          "base_uri": "https://localhost:8080/"
        },
        "id": "b6Zl3HH11grl",
        "outputId": "58527e16-34a7-48e7-81c9-9209673f4b70"
      },
      "execution_count": 22,
      "outputs": [
        {
          "output_type": "execute_result",
          "data": {
            "text/plain": [
              "1"
            ]
          },
          "metadata": {},
          "execution_count": 22
        }
      ]
    },
    {
      "cell_type": "markdown",
      "source": [
        "Expressões "
      ],
      "metadata": {
        "id": "rxNfTSoU1std"
      }
    },
    {
      "cell_type": "code",
      "source": [
        "10 - 5 + 20"
      ],
      "metadata": {
        "colab": {
          "base_uri": "https://localhost:8080/"
        },
        "id": "4p0_fF2X1v1E",
        "outputId": "1d039ab5-6e5a-4c8c-c168-aac12be48709"
      },
      "execution_count": 23,
      "outputs": [
        {
          "output_type": "execute_result",
          "data": {
            "text/plain": [
              "25"
            ]
          },
          "metadata": {},
          "execution_count": 23
        }
      ]
    },
    {
      "cell_type": "code",
      "source": [
        "(1*3) + (4/2)"
      ],
      "metadata": {
        "colab": {
          "base_uri": "https://localhost:8080/"
        },
        "id": "SRz9TYv61zWF",
        "outputId": "6b13395c-67eb-4ee6-f865-f430bea3a222"
      },
      "execution_count": 24,
      "outputs": [
        {
          "output_type": "execute_result",
          "data": {
            "text/plain": [
              "5.0"
            ]
          },
          "metadata": {},
          "execution_count": 24
        }
      ]
    }
  ]
}