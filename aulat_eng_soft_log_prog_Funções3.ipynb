{
  "nbformat": 4,
  "nbformat_minor": 0,
  "metadata": {
    "colab": {
      "provenance": [],
      "authorship_tag": "ABX9TyM8vKmpShfcr5d4TViVvxui",
      "include_colab_link": true
    },
    "kernelspec": {
      "name": "python3",
      "display_name": "Python 3"
    },
    "language_info": {
      "name": "python"
    }
  },
  "cells": [
    {
      "cell_type": "markdown",
      "metadata": {
        "id": "view-in-github",
        "colab_type": "text"
      },
      "source": [
        "<a href=\"https://colab.research.google.com/github/sivaldo-almeida1973/aula1-/blob/main/aulat_eng_soft_log_prog_Fun%C3%A7%C3%B5es3.ipynb\" target=\"_parent\"><img src=\"https://colab.research.google.com/assets/colab-badge.svg\" alt=\"Open In Colab\"/></a>"
      ]
    },
    {
      "cell_type": "markdown",
      "source": [
        "#Retorno de valores em funções.\n",
        "#funções X procedimento(procedure)\n",
        "#procedure:uma rotina sem retorno\n",
        "#Função =rotina que retorna um dado a que invocou"
      ],
      "metadata": {
        "id": "bVm6gkRosttx"
      }
    },
    {
      "cell_type": "code",
      "source": [
        "def soma(x = 0 , y = 0, z= 0):\n",
        "  res = x + y + z\n",
        "  return res \n",
        "\n",
        "#programa principal\n",
        "retornado = soma(1,2,3)\n",
        "print(retornado)\n",
        "\n",
        "#forma simplificada\n",
        "print(soma(92,2))"
      ],
      "metadata": {
        "id": "BYWlAUiWt_65",
        "colab": {
          "base_uri": "https://localhost:8080/"
        },
        "outputId": "b0a4f5f0-5fcd-46b6-ea65-c8de000a4a19"
      },
      "execution_count": 3,
      "outputs": [
        {
          "output_type": "stream",
          "name": "stdout",
          "text": [
            "6\n",
            "94\n"
          ]
        }
      ]
    },
    {
      "cell_type": "code",
      "source": [
        "#programa principal\n",
        "retornado1 = soma(1,2,3)\n",
        "retornado2 = soma(1,2)\n",
        "retornado3 = soma()\n",
        "\n",
        "print('Somatorios: {} ,{} e {}.'.format(retornado1, retornado2, retornado3))\n"
      ],
      "metadata": {
        "colab": {
          "base_uri": "https://localhost:8080/"
        },
        "id": "8fCHbvhd41qq",
        "outputId": "1e229730-6da3-4d8d-c706-d50c8bd79588"
      },
      "execution_count": 4,
      "outputs": [
        {
          "output_type": "stream",
          "name": "stdout",
          "text": [
            "Somatorios: 6 ,3 e 0.\n"
          ]
        }
      ]
    },
    {
      "cell_type": "markdown",
      "source": [
        "#exercicio\n",
        "escreva uma função para validar uma string."
      ],
      "metadata": {
        "id": "byJlmBfM5hao"
      }
    },
    {
      "cell_type": "code",
      "source": [
        "from ast import Return\n",
        "def valida_string(pergunta ,min , max):\n",
        "  s1 = input(pergunta)\n",
        "  tam = len(s1)\n",
        "  while ((tam < min) or (tam > max)):\n",
        "    s1 = input(pergunta)\n",
        "    tam = len(s1)\n",
        "  return s1\n",
        "\n",
        "#programa principal\n",
        "x = valida_string('Digite uma string: ', 10 , 30)\n",
        "print('Voce digitou a string : {}. \\n Dado valido. Encerrando o programa...'.format(x))"
      ],
      "metadata": {
        "colab": {
          "base_uri": "https://localhost:8080/"
        },
        "id": "XdccupHg5sZf",
        "outputId": "d075558b-56e8-4f1d-c80c-eb609b86aa92"
      },
      "execution_count": 6,
      "outputs": [
        {
          "output_type": "stream",
          "name": "stdout",
          "text": [
            "Digite uma string: brasil\n",
            "Digite uma string: flamengo brasil\n",
            "Voce digitou a string : flamengo brasil. \n",
            " Dado valido. Encerrando o programa...\n"
          ]
        }
      ]
    }
  ]
}