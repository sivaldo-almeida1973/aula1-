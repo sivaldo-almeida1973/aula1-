{
  "nbformat": 4,
  "nbformat_minor": 0,
  "metadata": {
    "colab": {
      "provenance": [],
      "authorship_tag": "ABX9TyN4MJ6AGnAf+kOnZvsIQdcH",
      "include_colab_link": true
    },
    "kernelspec": {
      "name": "python3",
      "display_name": "Python 3"
    },
    "language_info": {
      "name": "python"
    }
  },
  "cells": [
    {
      "cell_type": "markdown",
      "metadata": {
        "id": "view-in-github",
        "colab_type": "text"
      },
      "source": [
        "<a href=\"https://colab.research.google.com/github/sivaldo-almeida1973/aula1-/blob/main/Aula1_Analise_Sistemas.ipynb\" target=\"_parent\"><img src=\"https://colab.research.google.com/assets/colab-badge.svg\" alt=\"Open In Colab\"/></a>"
      ]
    },
    {
      "cell_type": "markdown",
      "source": [
        "#Análise de Sistemas\n",
        "#Modelagem de processos de negócio\n",
        "Fundamental no desenvolvimento de um software.Permite traduzir as necessidades do negócio em um projeto técnico.\n",
        "Para isso são usados modelos e documentação.\n",
        "\n",
        "Ajudam a implementar a estratégia de negócio.\n",
        "\n",
        "Por meio dos processos, é colocada em prática a visão, a missão e valores da empresa.\n",
        "Processos são ativos de grande valor para a empresa.\n",
        "As empresas criam diferêncial competitivo por meio de seus processos.\n",
        "Refletem como a empresa funciona.\n",
        "Produzem serviço ou o produto que será entregue ao cliente.\n",
        "São responsáveis pela criação de valor na pespectiva do cliente.\n",
        "\n",
        "\n",
        "#Precisa-se\n",
        "Definir papéis e responsabilidades dentro de cada departamento.\n",
        "As atividades executadas precisam ser objetivas, o fluxo de trabalho deve ser direto e eficiente.\n",
        "\n",
        "#Analista de requisitos ou sistemas\n",
        ".Transforma a linguagem de negócio em uma linguagem tecnica, faz a ponte entre a area de negocio e a area de TI.\n",
        "\n",
        "#Processos\n",
        "\"Uma série de passos que um negócio executa para produzir um produto ou serviço\"(Rummler;Brache, 1995)\n",
        "\n",
        "##PRIMEIRO IDENTIFICAR OS PROCESSOS.\n",
        ".Conversar com todos para identificar o processo, após isso mapear os passos que são executados de seu início até sua finalização.\n",
        "\n",
        ".Esse mapeamento é chamado AS IS:\n",
        "\n",
        "\n",
        "#Processos AS IS(como é).\n",
        "Envolve levantamento e documentação da situação atual do processo, a qual é representada em um fluxo.\n",
        " É identificado problemas , falhas ou fragilidades ,assim como oportunidades de melhorias  no processo.Que irá refletir no Processo TO BE.\n",
        "#Verificar\n",
        "Requisitos mal explicados \n",
        "Requisitos incompletos\n",
        "Falta de comprometimento dos envolvidos em explicar o processo.\n",
        "Falta de participação de todos.\n",
        "\n",
        "\n",
        "\n",
        "#Processos TO BE().\n",
        ".Para propor um novo processo de negócio ou melhorias no processo já existente , é utilizada a técnica TO BE (como será), quando são realizadas discussões , definições e documentaçao da proposta de situação futura para o processo.\n",
        "\n",
        "#BPMN\n",
        "Notação utilizada quando se modela processos de negócios seguindo a DISCIPLINA do BPM.Além dos elementos principais o BPMN oferece especializações,de forma a facilitar o fluxo e o entendimento de como um processo funcionara de forma automatizada:\n",
        "Tarefa Comum ,Serviço, Receber, Envio,Usuário, Script e Manual.\n",
        "\n",
        "\n",
        "\n",
        "#BPM\n",
        "È a disciplina de gestão própria para entender o funcionamento dos processos de negócios.\n",
        "\n",
        "#Tarefas\n",
        "ocorrem ao longo do processo, em que o ator executante é conhecido\n",
        "#por exemplo:\n",
        "'Cadastrar cliente','cadastrar produto','emitir fatura'e outras tarefa que seriam realizadas por um vendedor,no caso de um processo de vendas.\n",
        "\n",
        "#EVENTOS:\n",
        "Ações que acontecem com um estimulo direto do ambiente externo:\n",
        "#por exemplo:\n",
        "O evento de \"inicio\" é disparado por algum estímulo que faz com que o fluxo do processo seja iniciado."
      ],
      "metadata": {
        "id": "7iM9-CWy8l_l"
      }
    },
    {
      "cell_type": "markdown",
      "source": [],
      "metadata": {
        "id": "zYUF59f1CFZO"
      }
    }
  ]
}