{
  "nbformat": 4,
  "nbformat_minor": 0,
  "metadata": {
    "colab": {
      "provenance": [],
      "authorship_tag": "ABX9TyPVBVRTop1EDc2l8bTDBt/Q",
      "include_colab_link": true
    },
    "kernelspec": {
      "name": "python3",
      "display_name": "Python 3"
    },
    "language_info": {
      "name": "python"
    }
  },
  "cells": [
    {
      "cell_type": "markdown",
      "metadata": {
        "id": "view-in-github",
        "colab_type": "text"
      },
      "source": [
        "<a href=\"https://colab.research.google.com/github/sivaldo-almeida1973/aula1-/blob/main/AULA2_ANALISE_SISTEMAS.ipynb\" target=\"_parent\"><img src=\"https://colab.research.google.com/assets/colab-badge.svg\" alt=\"Open In Colab\"/></a>"
      ]
    },
    {
      "cell_type": "markdown",
      "source": [
        "#MODELAGEM DE PROCESSOS DE NEGÓCIO:\n",
        "ANALISAR, PROJETAR E DESENVOLVER UM SOFTWARE É uma tarefa complexa, que envolve necessidades do cliente, regras de negócios e tecnologia,por isso precisa ser muito bem planejada, para ser o mais efeiciente possível na solução do problema pretendido.Não basta atender os requisitos de negócio,é preciso ter um processamento rápido e eficiente.\n",
        "\n",
        "\n",
        "#Análise de sistemas:História\n",
        "A analise de sistemas tem como finalidede a  realização de estudos a fim de encontrar o melhor caminho lógico para que a informação seja processada.(Segundo Pressmam (2016) é uma prática baseada em modelos ,\n",
        "com o objetivo de obter um melhor entendimento da entidade real a ser construída.)\n",
        "\n",
        "#Evolução Analise sistemas:\n",
        "proprôs três grandes métodos de modelagem de sistemas:Modelagem Estruturada, modelagem essencial, e modelagem orientada a objetos.\n",
        "\n",
        "\n",
        "#Análise Estruturada:\n",
        "está fundamentada na decomposição funcional do problema, ou seja , foca de forma principal nas funcionalidades que o software deve entregar.\n",
        "O ojetivo principal é a construção de um modelo lógico e não de um modelo físico.Ou seja a lógica por traz de cada funcionalidade que precisa ser desenvolvida no software.Utiliza técnicas gráficas.\n",
        "\n",
        "\n",
        "#DFD(diagrama de fluxo de dados):\n",
        "É uma das ferramentas mais utilizada na Análise Estruturada,possui uma representação em rede e tem como objetivo principal mostrar o que o sistema vai fazer, e não como será feita a solução tecnicamente.\n",
        "\n",
        "#Níveis de DFD:\n",
        "Para evitar que tudo seja definido em um único diagrama ,no qual geralmemente é dificil de ser entendido e mantido,criam-se DFDs que detalham um processo de um nível  mais alto para o mais baixo. \n",
        "\n",
        "#DFD de contexto(nível mais alto):\n",
        "É o que dá a visão das principais funções do sistema.Representa o sistema como um todo.(visão Geral)\n",
        "\n",
        "#DFD de nível ZERO:\n",
        "Após ter a visão macro do sistema , é preciso\n",
        "analisar os principais processos do software e colocar uma lupa nos fluxos e nas entidades envolvidas nesses processos.Nesse nível é possível encontrar detalhes sobre as principais funcionalidades do software.(Mais detalhado)\n",
        "\n",
        "#DFD de nível Intermediário:\n",
        "mostram a decomposição,ou melhor, o detalhamento ou a explosão de cada processo de nível mais alto.\n",
        "\n",
        "#Analisando um exemplo de DFD:\n"
      ],
      "metadata": {
        "id": "L5zCPk7hnysN"
      }
    },
    {
      "cell_type": "markdown",
      "source": [],
      "metadata": {
        "id": "gze63UGPn7Mt"
      }
    }
  ]
}