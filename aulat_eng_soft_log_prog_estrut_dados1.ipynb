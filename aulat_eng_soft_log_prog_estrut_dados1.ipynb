{
  "nbformat": 4,
  "nbformat_minor": 0,
  "metadata": {
    "colab": {
      "provenance": [],
      "authorship_tag": "ABX9TyOPJCecCdIupGSA7MfP57Zm",
      "include_colab_link": true
    },
    "kernelspec": {
      "name": "python3",
      "display_name": "Python 3"
    },
    "language_info": {
      "name": "python"
    }
  },
  "cells": [
    {
      "cell_type": "markdown",
      "metadata": {
        "id": "view-in-github",
        "colab_type": "text"
      },
      "source": [
        "<a href=\"https://colab.research.google.com/github/sivaldo-almeida1973/aula1-/blob/main/aulat_eng_soft_log_prog_estrut_dados1.ipynb\" target=\"_parent\"><img src=\"https://colab.research.google.com/assets/colab-badge.svg\" alt=\"Open In Colab\"/></a>"
      ]
    },
    {
      "cell_type": "markdown",
      "source": [
        "#ESTRUTURAS DE DADOS.\n",
        "conjunto de dados organizados de uma maneira especifica na memoria do programa.\n",
        "A maneira como os dados estão organizados na memoria , como podem ser buscados e acessados , manipulados , é o que diferencia as estruturas de dados."
      ],
      "metadata": {
        "id": "-ilB8ipX-ssK"
      }
    },
    {
      "cell_type": "markdown",
      "source": [
        "#Variáveis simples\n",
        "Armazenam somente um dado.\n",
        "#Variaveis compostas\n",
        "aramzenam um comnjunto de dados.\n"
      ],
      "metadata": {
        "id": "py5FNfGr_cah"
      }
    },
    {
      "cell_type": "markdown",
      "source": [
        "#Tuplas:\n",
        "Estrutura de dados estática (inalterável) - a tupla é imutável- representada em python por parênteses()."
      ],
      "metadata": {
        "id": "d-B5xBwf_Hma"
      }
    },
    {
      "cell_type": "code",
      "source": [
        "#exemplos de tuplas\n",
        "mochila = ('Machado', 'Camisa', 'Bacon','Abacate')\n",
        "\n",
        "print(mochila)"
      ],
      "metadata": {
        "colab": {
          "base_uri": "https://localhost:8080/"
        },
        "id": "z9Sop-zcBwjf",
        "outputId": "3cee30b1-dfe9-4d48-b7d5-a7e0472166db"
      },
      "execution_count": 1,
      "outputs": [
        {
          "output_type": "stream",
          "name": "stdout",
          "text": [
            "('Machado', 'Camisa', 'Bacon', 'Abacate')\n"
          ]
        }
      ]
    },
    {
      "cell_type": "code",
      "source": [
        "print(mochila[0])#print do elemento 1 - indice 0\n",
        "print(mochila[1])# print do elemento 2 - indice 1\n",
        "print(mochila[2]) # print do elemento 3 - indice 2\n",
        "print(mochila[0:2])#print do indice 0 ao indice 1\n",
        "print(mochila[2:])#print do indice 2 ao ultimo\n",
        "print(mochila[-1])#print do ultimo elemento"
      ],
      "metadata": {
        "id": "LVF3943wCmBz"
      },
      "execution_count": null,
      "outputs": []
    },
    {
      "cell_type": "markdown",
      "source": [
        "#como percorrer uma tupla."
      ],
      "metadata": {
        "id": "jjdp4dqTHa0F"
      }
    },
    {
      "cell_type": "code",
      "source": [
        "for item in mochila:\n",
        "  print('Na minha mochila tem : {}'. format(item))"
      ],
      "metadata": {
        "id": "JvhDloIYF4rE"
      },
      "execution_count": null,
      "outputs": []
    },
    {
      "cell_type": "code",
      "source": [
        "tam = len(mochila)\n",
        "for i in range(0, tam , 1):\n",
        "  print('Na minha mochila tem:{} '.format(mochila[i]))"
      ],
      "metadata": {
        "id": "j8P6czPwG71t"
      },
      "execution_count": null,
      "outputs": []
    },
    {
      "cell_type": "code",
      "source": [
        "mochila = ('Machado', 'Camisa','Bacon','Abacate')\n",
        "upgrade = ('Queijo','Canivete')\n",
        "mochila_grande = mochila + upgrade\n",
        "\n",
        "print(mochila)\n",
        "print(upgrade)\n",
        "print(mochila_grande)"
      ],
      "metadata": {
        "colab": {
          "base_uri": "https://localhost:8080/"
        },
        "id": "4z-lKmYDHqBO",
        "outputId": "17872561-bf5f-4131-989b-b6b8a7feb92d"
      },
      "execution_count": 12,
      "outputs": [
        {
          "output_type": "stream",
          "name": "stdout",
          "text": [
            "('Machado', 'Camisa', 'Bacon', 'Abacate')\n",
            "('Queijo', 'Canivete')\n",
            "('Machado', 'Camisa', 'Bacon', 'Abacate', 'Queijo', 'Canivete')\n"
          ]
        }
      ]
    },
    {
      "cell_type": "code",
      "source": [
        "mochila_grande_invertida = upgrade + mochila\n",
        "print(mochila_grande)\n",
        "print(mochila_grande_invertida)\n"
      ],
      "metadata": {
        "colab": {
          "base_uri": "https://localhost:8080/"
        },
        "id": "yxv6AyHyKUq3",
        "outputId": "7ffbffbf-bd1e-4f7c-f98c-94dbe7a72ccd"
      },
      "execution_count": 13,
      "outputs": [
        {
          "output_type": "stream",
          "name": "stdout",
          "text": [
            "('Machado', 'Camisa', 'Bacon', 'Abacate', 'Queijo', 'Canivete')\n",
            "('Queijo', 'Canivete', 'Machado', 'Camisa', 'Bacon', 'Abacate')\n"
          ]
        }
      ]
    },
    {
      "cell_type": "markdown",
      "source": [
        "#Desempacotamento de parâmetros em funções"
      ],
      "metadata": {
        "id": "aQGBRgD6PVfM"
      }
    },
    {
      "cell_type": "code",
      "source": [
        "def soma(*num):#o asterisco significa desempacotamento\n",
        "  soma = 0\n",
        "  print('Tupla: {}'.format(num))\n",
        "  for i in num:\n",
        "    soma += i\n",
        "  return soma\n",
        "\n",
        "\n",
        "#programa principal\n",
        "print('Resultado: {}\\n'.format(soma(1,2)))\n",
        "print('Resultado: {}\\n'.format(soma(1,2,3,4,5,6,7,8,9)))"
      ],
      "metadata": {
        "colab": {
          "base_uri": "https://localhost:8080/"
        },
        "id": "-ku505pdPhlH",
        "outputId": "d3d9b3f5-ff7b-4597-842b-f0353efece18"
      },
      "execution_count": 14,
      "outputs": [
        {
          "output_type": "stream",
          "name": "stdout",
          "text": [
            "Tupla: (1, 2)\n",
            "Resultado: 3\n",
            "\n",
            "Tupla: (1, 2, 3, 4, 5, 6, 7, 8, 9)\n",
            "Resultado: 45\n",
            "\n"
          ]
        }
      ]
    }
  ]
}