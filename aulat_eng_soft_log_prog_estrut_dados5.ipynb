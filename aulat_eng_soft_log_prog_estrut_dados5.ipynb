{
  "nbformat": 4,
  "nbformat_minor": 0,
  "metadata": {
    "colab": {
      "provenance": [],
      "authorship_tag": "ABX9TyNdU5LMEzT7WjMgWXeY9iaY",
      "include_colab_link": true
    },
    "kernelspec": {
      "name": "python3",
      "display_name": "Python 3"
    },
    "language_info": {
      "name": "python"
    }
  },
  "cells": [
    {
      "cell_type": "markdown",
      "metadata": {
        "id": "view-in-github",
        "colab_type": "text"
      },
      "source": [
        "<a href=\"https://colab.research.google.com/github/sivaldo-almeida1973/aula1-/blob/main/aulat_eng_soft_log_prog_estrut_dados5.ipynb\" target=\"_parent\"><img src=\"https://colab.research.google.com/assets/colab-badge.svg\" alt=\"Open In Colab\"/></a>"
      ]
    },
    {
      "cell_type": "markdown",
      "source": [
        "#Trabalhando com métodos em String:\n",
        "Uma string é imutável . Mas com listas podemos altera-la"
      ],
      "metadata": {
        "id": "lGDojSvwF_Im"
      }
    },
    {
      "cell_type": "code",
      "source": [
        "#se tentar alterar valor dará um erro\n",
        "\n",
        "s1 = 'Algoritimos'\n",
        "print(s1)\n",
        "s1[0] = 'a'"
      ],
      "metadata": {
        "id": "xkxW_0cGGWPh"
      },
      "execution_count": null,
      "outputs": []
    },
    {
      "cell_type": "code",
      "source": [
        "s1 = list('Algoritimos')\n",
        "print(s1) #print separado\n",
        "print(''.join(s1)) #print agrupado"
      ],
      "metadata": {
        "colab": {
          "base_uri": "https://localhost:8080/"
        },
        "id": "4smruNbwGi1x",
        "outputId": "fd3e519f-7fcd-43f2-b0ea-0b40a73b13a1"
      },
      "execution_count": 3,
      "outputs": [
        {
          "output_type": "stream",
          "name": "stdout",
          "text": [
            "['A', 'l', 'g', 'o', 'r', 'i', 't', 'i', 'm', 'o', 's']\n",
            "Algoritimos\n"
          ]
        }
      ]
    },
    {
      "cell_type": "code",
      "source": [
        "#agora que tenho uma lista posso alterar uma string.\n",
        "\n",
        "s1[0] = 'a'\n",
        "print(''.join(s1))"
      ],
      "metadata": {
        "colab": {
          "base_uri": "https://localhost:8080/"
        },
        "id": "EEE794i6HI4_",
        "outputId": "94c1283f-7f97-46cc-b833-c0b9d776ef45"
      },
      "execution_count": 4,
      "outputs": [
        {
          "output_type": "stream",
          "name": "stdout",
          "text": [
            "algoritimos\n"
          ]
        }
      ]
    },
    {
      "cell_type": "markdown",
      "source": [
        "#Verificando caracteres"
      ],
      "metadata": {
        "id": "pTEFLRz0IKX-"
      }
    },
    {
      "cell_type": "code",
      "source": [
        "s1 = 'Lógica de Programação e Algoritimos'\n",
        "s1.startswith('Lógica') # se existe no inicio"
      ],
      "metadata": {
        "colab": {
          "base_uri": "https://localhost:8080/"
        },
        "id": "uubfAr7vIOOt",
        "outputId": "db40953b-5efe-4371-8c13-3f3a64aec905"
      },
      "execution_count": 5,
      "outputs": [
        {
          "output_type": "execute_result",
          "data": {
            "text/plain": [
              "True"
            ]
          },
          "metadata": {},
          "execution_count": 5
        }
      ]
    },
    {
      "cell_type": "code",
      "source": [
        "s1 = 'Lógica de Programação e Algoritimos'\n",
        "s1.endswith('Lógica') # se existe no final"
      ],
      "metadata": {
        "colab": {
          "base_uri": "https://localhost:8080/"
        },
        "id": "FBs0yufvIdfN",
        "outputId": "f03304d0-abaa-45b0-8caa-4b69cc3fbaa0"
      },
      "execution_count": 6,
      "outputs": [
        {
          "output_type": "execute_result",
          "data": {
            "text/plain": [
              "False"
            ]
          },
          "metadata": {},
          "execution_count": 6
        }
      ]
    },
    {
      "cell_type": "code",
      "source": [
        "s1 = 'Lógica de Programação e Algoritimos'\n",
        "s1.lower().endswith('algoritimos') # se existe no final"
      ],
      "metadata": {
        "colab": {
          "base_uri": "https://localhost:8080/"
        },
        "id": "UwV7FIuUJGj1",
        "outputId": "bd7f98da-365c-4ea1-ae5a-307771803ab9"
      },
      "execution_count": 9,
      "outputs": [
        {
          "output_type": "execute_result",
          "data": {
            "text/plain": [
              "True"
            ]
          },
          "metadata": {},
          "execution_count": 9
        }
      ]
    },
    {
      "cell_type": "code",
      "source": [
        "s1 = 'Lógica de Programação e Algoritimos'\n",
        "print(s1.upper())#converte para maiusculas\n",
        "print(s1.lower())#converte para minusculas"
      ],
      "metadata": {
        "colab": {
          "base_uri": "https://localhost:8080/"
        },
        "id": "JrHYm9ioJd8c",
        "outputId": "ccb68f97-e1d0-41ed-b66f-458870bacb16"
      },
      "execution_count": 11,
      "outputs": [
        {
          "output_type": "stream",
          "name": "stdout",
          "text": [
            "LÓGICA DE PROGRAMAÇÃO E ALGORITIMOS\n",
            "lógica de programação e algoritimos\n"
          ]
        }
      ]
    },
    {
      "cell_type": "markdown",
      "source": [
        "#Contagem de caracteres:"
      ],
      "metadata": {
        "id": "acm0nvFeJ5MH"
      }
    },
    {
      "cell_type": "code",
      "source": [
        "s1 = 'Logica de Programação e Algoritimos'\n",
        "s1.count('a') # quantos (a)aparecem na frase(Irá aparecer 3 por uma ser maiuscula)"
      ],
      "metadata": {
        "colab": {
          "base_uri": "https://localhost:8080/"
        },
        "id": "pGvGC8l2J33E",
        "outputId": "0dbf547a-d6a9-4eb6-b952-c4158035161d"
      },
      "execution_count": 13,
      "outputs": [
        {
          "output_type": "execute_result",
          "data": {
            "text/plain": [
              "3"
            ]
          },
          "metadata": {},
          "execution_count": 13
        }
      ]
    },
    {
      "cell_type": "code",
      "source": [
        "s1 = 'logica de Programação e Algoritimos'\n",
        "s1.lower().count('a')#ira aparecer 4 apos ser vonvertida para minusculas"
      ],
      "metadata": {
        "colab": {
          "base_uri": "https://localhost:8080/"
        },
        "id": "dKJsv2sqKlFE",
        "outputId": "7a19737e-b143-4c79-c5b7-6b91291008d8"
      },
      "execution_count": 14,
      "outputs": [
        {
          "output_type": "execute_result",
          "data": {
            "text/plain": [
              "4"
            ]
          },
          "metadata": {},
          "execution_count": 14
        }
      ]
    },
    {
      "cell_type": "code",
      "source": [
        "s1 = 'um mafagafinhos, dois mafagafinhos, tres mafagafinhos ...'\n",
        "s1.lower().count('mafagafinho')"
      ],
      "metadata": {
        "colab": {
          "base_uri": "https://localhost:8080/"
        },
        "id": "8nBAaUhhLDDB",
        "outputId": "f403a4ef-0784-4147-dcc5-dd0eef70dc81"
      },
      "execution_count": 15,
      "outputs": [
        {
          "output_type": "execute_result",
          "data": {
            "text/plain": [
              "3"
            ]
          },
          "metadata": {},
          "execution_count": 15
        }
      ]
    },
    {
      "cell_type": "markdown",
      "source": [
        "#quebrando strings"
      ],
      "metadata": {
        "id": "QlNFyUFHLiUV"
      }
    },
    {
      "cell_type": "code",
      "source": [
        "#cria uma lista\n",
        "s1 = 'um mafagafinhos, dois mafagafinhos, tres mafagafinhos ...'\n",
        "s1.split(' ')"
      ],
      "metadata": {
        "colab": {
          "base_uri": "https://localhost:8080/"
        },
        "id": "tAFbmKcDLmPT",
        "outputId": "1aec8ff5-4308-4903-ee23-8ea67bb642dc"
      },
      "execution_count": 16,
      "outputs": [
        {
          "output_type": "execute_result",
          "data": {
            "text/plain": [
              "['um', 'mafagafinhos,', 'dois', 'mafagafinhos,', 'tres', 'mafagafinhos', '...']"
            ]
          },
          "metadata": {},
          "execution_count": 16
        }
      ]
    },
    {
      "cell_type": "markdown",
      "source": [
        "#Substituir Strings"
      ],
      "metadata": {
        "id": "v6UsMA1kL9za"
      }
    },
    {
      "cell_type": "code",
      "source": [
        "s1 = 'um mafagafinhos, dois mafagafinhos, tres mafagafinhos ...'\n",
        "s1.replace('mafagafinho', 'Gatinho')"
      ],
      "metadata": {
        "colab": {
          "base_uri": "https://localhost:8080/",
          "height": 35
        },
        "id": "PZTdoyrfMCPP",
        "outputId": "e9213b14-eafd-4661-a272-e81e82d4b99b"
      },
      "execution_count": 20,
      "outputs": [
        {
          "output_type": "execute_result",
          "data": {
            "text/plain": [
              "'um Gatinhos, dois mafagafinhos, tres mafagafinhos ...'"
            ],
            "application/vnd.google.colaboratory.intrinsic+json": {
              "type": "string"
            }
          },
          "metadata": {},
          "execution_count": 20
        }
      ]
    },
    {
      "cell_type": "code",
      "source": [
        "s1 = 'um mafagafinhos, dois mafagafinhos, tres mafagafinhos ...'\n",
        "s1.replace('mafagafinho', 'Gatinho', 1)"
      ],
      "metadata": {
        "colab": {
          "base_uri": "https://localhost:8080/",
          "height": 35
        },
        "id": "2ucEmwLEMWFT",
        "outputId": "85232d9f-6a8e-4eb2-9682-e2deebdebfd8"
      },
      "execution_count": 21,
      "outputs": [
        {
          "output_type": "execute_result",
          "data": {
            "text/plain": [
              "'um Gatinhos, dois Gatinhos, tres Gatinhos ...'"
            ],
            "application/vnd.google.colaboratory.intrinsic+json": {
              "type": "string"
            }
          },
          "metadata": {},
          "execution_count": 21
        }
      ]
    },
    {
      "cell_type": "markdown",
      "source": [
        "#Validando dados:"
      ],
      "metadata": {
        "id": "JcmkgQ-_M4Pi"
      }
    },
    {
      "cell_type": "code",
      "source": [
        "s1 = 'logica de programação e algoritimos'\n",
        "s2 = '42'"
      ],
      "metadata": {
        "id": "Q0fgVKH3M61L"
      },
      "execution_count": 22,
      "outputs": []
    },
    {
      "cell_type": "code",
      "source": [
        "print(s1.isalnum())\n",
        "print(s2.isalnum())"
      ],
      "metadata": {
        "colab": {
          "base_uri": "https://localhost:8080/"
        },
        "id": "568lTQofNE_f",
        "outputId": "0f1ecd09-ab67-4b4b-eda1-3cf3275d346e"
      },
      "execution_count": 25,
      "outputs": [
        {
          "output_type": "stream",
          "name": "stdout",
          "text": [
            "False\n",
            "True\n"
          ]
        }
      ]
    },
    {
      "cell_type": "code",
      "source": [
        "print(s1.isalpha())\n",
        "print(s2.isalpha())"
      ],
      "metadata": {
        "colab": {
          "base_uri": "https://localhost:8080/"
        },
        "id": "3brOaES9NK1i",
        "outputId": "4c0a4c84-4fe1-442f-f796-40809419962e"
      },
      "execution_count": 26,
      "outputs": [
        {
          "output_type": "stream",
          "name": "stdout",
          "text": [
            "False\n",
            "False\n"
          ]
        }
      ]
    }
  ]
}