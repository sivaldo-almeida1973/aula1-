{
  "nbformat": 4,
  "nbformat_minor": 0,
  "metadata": {
    "colab": {
      "provenance": [],
      "authorship_tag": "ABX9TyMuoi42xKkGDU/QI+ZnHJ7f",
      "include_colab_link": true
    },
    "kernelspec": {
      "name": "python3",
      "display_name": "Python 3"
    },
    "language_info": {
      "name": "python"
    },
    "gpuClass": "standard"
  },
  "cells": [
    {
      "cell_type": "markdown",
      "metadata": {
        "id": "view-in-github",
        "colab_type": "text"
      },
      "source": [
        "<a href=\"https://colab.research.google.com/github/sivaldo-almeida1973/aula1-/blob/main/AulaTeorica_1_eng_soft.ipynb\" target=\"_parent\"><img src=\"https://colab.research.google.com/assets/colab-badge.svg\" alt=\"Open In Colab\"/></a>"
      ]
    },
    {
      "cell_type": "markdown",
      "source": [
        "2.0ciclo de processamneto de Dados"
      ],
      "metadata": {
        "id": "PHPWBav6wsFk"
      }
    },
    {
      "cell_type": "markdown",
      "source": [
        "2.0 Ciclo de Processamento de Dados\n",
        "Função de Saída-print()\n"
      ],
      "metadata": {
        "id": "XaGu8jBZxQfk"
      }
    },
    {
      "cell_type": "code",
      "source": [
        "print('Olá, Mundo!')"
      ],
      "metadata": {
        "colab": {
          "base_uri": "https://localhost:8080/"
        },
        "id": "DGWIJOSwxJHr",
        "outputId": "3a4c6cb5-e7b7-4303-a3f9-4947f8d40a0a"
      },
      "execution_count": 1,
      "outputs": [
        {
          "output_type": "stream",
          "name": "stdout",
          "text": [
            "Olá, Mundo!\n"
          ]
        }
      ]
    },
    {
      "cell_type": "markdown",
      "source": [
        "Operações Aritimética"
      ],
      "metadata": {
        "id": "juVVxgVJyex7"
      }
    },
    {
      "cell_type": "code",
      "source": [
        "print(2+3)"
      ],
      "metadata": {
        "colab": {
          "base_uri": "https://localhost:8080/"
        },
        "id": "yO5lTUi-ykpr",
        "outputId": "edff2840-d58a-4ae7-a623-cdfaafd3cce3"
      },
      "execution_count": 2,
      "outputs": [
        {
          "output_type": "stream",
          "name": "stdout",
          "text": [
            "5\n"
          ]
        }
      ]
    },
    {
      "cell_type": "markdown",
      "source": [
        "O que acontece aqui?"
      ],
      "metadata": {
        "id": "IV9xx3fyyvMj"
      }
    },
    {
      "cell_type": "code",
      "source": [
        "print('2+3')"
      ],
      "metadata": {
        "colab": {
          "base_uri": "https://localhost:8080/"
        },
        "id": "Vg2tMi2Hy1DD",
        "outputId": "6915c0ce-ae0d-4d69-928f-ffab38c58ba9"
      },
      "execution_count": 3,
      "outputs": [
        {
          "output_type": "stream",
          "name": "stdout",
          "text": [
            "2+3\n"
          ]
        }
      ]
    },
    {
      "cell_type": "markdown",
      "source": [
        "E aqui? Acontece uma concatenação."
      ],
      "metadata": {
        "id": "G0uzI4biy-qi"
      }
    },
    {
      "cell_type": "code",
      "source": [
        "print('2'+'3')"
      ],
      "metadata": {
        "colab": {
          "base_uri": "https://localhost:8080/"
        },
        "id": "cOIUeZyazNLD",
        "outputId": "c91e29ae-f0be-453a-ea09-5746e8774a87"
      },
      "execution_count": 4,
      "outputs": [
        {
          "output_type": "stream",
          "name": "stdout",
          "text": [
            "23\n"
          ]
        }
      ]
    },
    {
      "cell_type": "markdown",
      "source": [
        "Concatenção de mensagens:"
      ],
      "metadata": {
        "id": "FELtgPi2zUhr"
      }
    },
    {
      "cell_type": "code",
      "source": [
        "print('Olá,'+'Mundo!')\n",
        "print('Olá,','Mundo!')"
      ],
      "metadata": {
        "colab": {
          "base_uri": "https://localhost:8080/"
        },
        "id": "ePu5SgTDzaNT",
        "outputId": "18ea4b89-9a3e-4d65-fcd9-05ab4b723f55"
      },
      "execution_count": 10,
      "outputs": [
        {
          "output_type": "stream",
          "name": "stdout",
          "text": [
            "Olá,Mundo!\n",
            "Olá, Mundo!\n"
          ]
        }
      ]
    },
    {
      "cell_type": "markdown",
      "source": [
        "Concatenação mensagens e Numeros:"
      ],
      "metadata": {
        "id": "KnjuxX2U0CYD"
      }
    },
    {
      "cell_type": "code",
      "source": [
        "print('O resultado da soma 2+3 é:',2+3)"
      ],
      "metadata": {
        "colab": {
          "base_uri": "https://localhost:8080/"
        },
        "id": "cAP_FBZV0L5O",
        "outputId": "d23af978-a4ea-4df9-92aa-ab68d21b0067"
      },
      "execution_count": 14,
      "outputs": [
        {
          "output_type": "stream",
          "name": "stdout",
          "text": [
            "O resultado da soma 2+3 é: 5\n"
          ]
        }
      ]
    },
    {
      "cell_type": "markdown",
      "source": [
        "Ordem de precedência."
      ],
      "metadata": {
        "id": "A_UFp6Ia0rZL"
      }
    },
    {
      "cell_type": "code",
      "source": [
        "print(10*(2+3)/4)"
      ],
      "metadata": {
        "colab": {
          "base_uri": "https://localhost:8080/"
        },
        "id": "blBTfjhS0vg4",
        "outputId": "302aa6e5-ee9e-4dd2-cb9e-56c3b3ce26e0"
      },
      "execution_count": 16,
      "outputs": [
        {
          "output_type": "stream",
          "name": "stdout",
          "text": [
            "12.5\n"
          ]
        }
      ]
    },
    {
      "cell_type": "markdown",
      "source": [
        "#Variáveis ,dados e seus tipos."
      ],
      "metadata": {
        "id": "m0NR6Ni21d4R"
      }
    },
    {
      "cell_type": "markdown",
      "source": [
        "Dados-sequência de símbolos quantificados ou quantificáveis-valores fornecidos via entrada e manipulados ao longo do programa."
      ],
      "metadata": {
        "id": "9UY9j07o1tzT"
      }
    },
    {
      "cell_type": "code",
      "source": [],
      "metadata": {
        "id": "fR1fNZAh1kl_"
      },
      "execution_count": null,
      "outputs": []
    }
  ]
}