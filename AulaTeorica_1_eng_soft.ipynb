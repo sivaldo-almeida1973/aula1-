{
  "nbformat": 4,
  "nbformat_minor": 0,
  "metadata": {
    "colab": {
      "provenance": [],
      "authorship_tag": "ABX9TyNKga1oKY9oWbMq7Xb6CFu8",
      "include_colab_link": true
    },
    "kernelspec": {
      "name": "python3",
      "display_name": "Python 3"
    },
    "language_info": {
      "name": "python"
    },
    "gpuClass": "standard"
  },
  "cells": [
    {
      "cell_type": "markdown",
      "metadata": {
        "id": "view-in-github",
        "colab_type": "text"
      },
      "source": [
        "<a href=\"https://colab.research.google.com/github/sivaldo-almeida1973/aula1-/blob/main/AulaTeorica_1_eng_soft.ipynb\" target=\"_parent\"><img src=\"https://colab.research.google.com/assets/colab-badge.svg\" alt=\"Open In Colab\"/></a>"
      ]
    },
    {
      "cell_type": "markdown",
      "source": [
        "2.0ciclo de processamneto de Dados"
      ],
      "metadata": {
        "id": "PHPWBav6wsFk"
      }
    },
    {
      "cell_type": "markdown",
      "source": [
        "2.0 Ciclo de Processamento de Dados\n",
        "Função de Saída-print()\n"
      ],
      "metadata": {
        "id": "XaGu8jBZxQfk"
      }
    },
    {
      "cell_type": "code",
      "source": [
        "print('Olá, Mundo!')"
      ],
      "metadata": {
        "colab": {
          "base_uri": "https://localhost:8080/"
        },
        "id": "DGWIJOSwxJHr",
        "outputId": "3a4c6cb5-e7b7-4303-a3f9-4947f8d40a0a"
      },
      "execution_count": null,
      "outputs": [
        {
          "output_type": "stream",
          "name": "stdout",
          "text": [
            "Olá, Mundo!\n"
          ]
        }
      ]
    },
    {
      "cell_type": "markdown",
      "source": [
        "Operações Aritimética"
      ],
      "metadata": {
        "id": "juVVxgVJyex7"
      }
    },
    {
      "cell_type": "code",
      "source": [
        "print(2+3)"
      ],
      "metadata": {
        "colab": {
          "base_uri": "https://localhost:8080/"
        },
        "id": "yO5lTUi-ykpr",
        "outputId": "edff2840-d58a-4ae7-a623-cdfaafd3cce3"
      },
      "execution_count": null,
      "outputs": [
        {
          "output_type": "stream",
          "name": "stdout",
          "text": [
            "5\n"
          ]
        }
      ]
    },
    {
      "cell_type": "markdown",
      "source": [
        "O que acontece aqui?"
      ],
      "metadata": {
        "id": "IV9xx3fyyvMj"
      }
    },
    {
      "cell_type": "code",
      "source": [
        "print('2+3')"
      ],
      "metadata": {
        "colab": {
          "base_uri": "https://localhost:8080/"
        },
        "id": "Vg2tMi2Hy1DD",
        "outputId": "6915c0ce-ae0d-4d69-928f-ffab38c58ba9"
      },
      "execution_count": null,
      "outputs": [
        {
          "output_type": "stream",
          "name": "stdout",
          "text": [
            "2+3\n"
          ]
        }
      ]
    },
    {
      "cell_type": "markdown",
      "source": [
        "E aqui? Acontece uma concatenação."
      ],
      "metadata": {
        "id": "G0uzI4biy-qi"
      }
    },
    {
      "cell_type": "code",
      "source": [
        "print('2'+'3')"
      ],
      "metadata": {
        "colab": {
          "base_uri": "https://localhost:8080/"
        },
        "id": "cOIUeZyazNLD",
        "outputId": "c91e29ae-f0be-453a-ea09-5746e8774a87"
      },
      "execution_count": null,
      "outputs": [
        {
          "output_type": "stream",
          "name": "stdout",
          "text": [
            "23\n"
          ]
        }
      ]
    },
    {
      "cell_type": "markdown",
      "source": [
        "Concatenção de mensagens:"
      ],
      "metadata": {
        "id": "FELtgPi2zUhr"
      }
    },
    {
      "cell_type": "code",
      "source": [
        "print('Olá,'+'Mundo!')\n",
        "print('Olá,','Mundo!')"
      ],
      "metadata": {
        "colab": {
          "base_uri": "https://localhost:8080/"
        },
        "id": "ePu5SgTDzaNT",
        "outputId": "18ea4b89-9a3e-4d65-fcd9-05ab4b723f55"
      },
      "execution_count": null,
      "outputs": [
        {
          "output_type": "stream",
          "name": "stdout",
          "text": [
            "Olá,Mundo!\n",
            "Olá, Mundo!\n"
          ]
        }
      ]
    },
    {
      "cell_type": "markdown",
      "source": [
        "Concatenação mensagens e Numeros:"
      ],
      "metadata": {
        "id": "KnjuxX2U0CYD"
      }
    },
    {
      "cell_type": "code",
      "source": [
        "print('O resultado da soma 2+3 é:',2+3)"
      ],
      "metadata": {
        "colab": {
          "base_uri": "https://localhost:8080/"
        },
        "id": "cAP_FBZV0L5O",
        "outputId": "d23af978-a4ea-4df9-92aa-ab68d21b0067"
      },
      "execution_count": null,
      "outputs": [
        {
          "output_type": "stream",
          "name": "stdout",
          "text": [
            "O resultado da soma 2+3 é: 5\n"
          ]
        }
      ]
    },
    {
      "cell_type": "markdown",
      "source": [
        "Ordem de precedência."
      ],
      "metadata": {
        "id": "A_UFp6Ia0rZL"
      }
    },
    {
      "cell_type": "code",
      "source": [
        "print(10*(2+3)/4)"
      ],
      "metadata": {
        "colab": {
          "base_uri": "https://localhost:8080/"
        },
        "id": "blBTfjhS0vg4",
        "outputId": "302aa6e5-ee9e-4dd2-cb9e-56c3b3ce26e0"
      },
      "execution_count": null,
      "outputs": [
        {
          "output_type": "stream",
          "name": "stdout",
          "text": [
            "12.5\n"
          ]
        }
      ]
    },
    {
      "cell_type": "markdown",
      "source": [
        "Cuidado!!"
      ],
      "metadata": {
        "id": "hGDdPtBDDg0F"
      }
    },
    {
      "cell_type": "code",
      "source": [
        "print(10*(5+7/4))"
      ],
      "metadata": {
        "id": "0KooSbgpDbIO"
      },
      "execution_count": null,
      "outputs": []
    },
    {
      "cell_type": "markdown",
      "source": [
        "#Variáveis ,dados e seus tipos."
      ],
      "metadata": {
        "id": "m0NR6Ni21d4R"
      }
    },
    {
      "cell_type": "markdown",
      "source": [
        "Dados-sequência de símbolos quantificados ou quantificáveis-valores fornecidos via entrada e manipulados ao longo do programa.\n"
      ],
      "metadata": {
        "id": "9UY9j07o1tzT"
      }
    },
    {
      "cell_type": "markdown",
      "source": [
        "variável nome dado a uma ragião da memória do programa.Sempre que voce invocar o nome de uma variável no programa ,seu bloco de memória será automaticamente carregado da RAM"
      ],
      "metadata": {
        "id": "DmZy72N2EA8d"
      }
    },
    {
      "cell_type": "code",
      "source": [
        "#Lê-se : a variável \"nota\" recebe o dado 8,5\n",
        "# = simbolo de atribuição.\n",
        "nota = 8.5\n",
        "disciplina = 'Lógica de Programação e Algoritimos'\n",
        "\n",
        "print(nota)\n",
        "print(disciplina)\n",
        "\n"
      ],
      "metadata": {
        "id": "fR1fNZAh1kl_",
        "colab": {
          "base_uri": "https://localhost:8080/"
        },
        "outputId": "0d4e23cf-553d-4314-f999-8e7ab050f83b"
      },
      "execution_count": 2,
      "outputs": [
        {
          "output_type": "stream",
          "name": "stdout",
          "text": [
            "8.5\n",
            "Lógica de Programação e Algoritimos\n"
          ]
        }
      ]
    },
    {
      "cell_type": "code",
      "source": [
        "#posso fazer a impressão assim também.\n",
        "print('nota: ', nota ,'.disciplina: ',disciplina)"
      ],
      "metadata": {
        "colab": {
          "base_uri": "https://localhost:8080/"
        },
        "id": "UAu_KBq1Fcj2",
        "outputId": "69e3891f-7ddd-468d-aedc-fc4ab9f88378"
      },
      "execution_count": 7,
      "outputs": [
        {
          "output_type": "stream",
          "name": "stdout",
          "text": [
            "nota:  8.5 .disciplina:  Lógica de Programação e Algoritimos\n"
          ]
        }
      ]
    },
    {
      "cell_type": "markdown",
      "source": [
        "#Regras para nomes de Variáveis.\n",
        ".Nunca inicie o nome de uma variável com um número."
      ],
      "metadata": {
        "id": "kXElcSaiGLMN"
      }
    },
    {
      "cell_type": "markdown",
      "source": [
        ".Inicie o nome de uma variável com uma letra ou subilnado."
      ],
      "metadata": {
        "id": "tIZGsyUAGehE"
      }
    },
    {
      "cell_type": "markdown",
      "source": [
        "#Tipos Primitivos de dados\n",
        "\n",
        ".Numericos(inteiro e ponto flutuante)"
      ],
      "metadata": {
        "id": "Oxlf9LjbHmuW"
      }
    },
    {
      "cell_type": "markdown",
      "source": [
        ".quando queremos realizar operações aritiméticas."
      ],
      "metadata": {
        "id": "Mo7Jg2lyICOc"
      }
    },
    {
      "cell_type": "markdown",
      "source": [
        "#Inteiro(int)\n",
        ".Números sem casas decimais\n",
        "#Ponto flutuante(float)\n",
        ".Números com casas decimais\n"
      ],
      "metadata": {
        "id": "Ha2MCTXGIOHr"
      }
    },
    {
      "cell_type": "markdown",
      "source": [
        ".caractere"
      ],
      "metadata": {
        "id": "_vjI2UVtHy-M"
      }
    },
    {
      "cell_type": "markdown",
      "source": [
        "#Literal/booleana.\n",
        "verdadeiro (v) ou Falso(f), Nível lógico Alto e Baixo- ou 1 e 0"
      ],
      "metadata": {
        "id": "gvOdnjiBH4lE"
      }
    },
    {
      "cell_type": "markdown",
      "source": [
        "#Operadores Lógicos.\n",
        "\n"
      ],
      "metadata": {
        "id": "C0hzKa9AJXoQ"
      }
    },
    {
      "cell_type": "code",
      "source": [
        "# == igualdade\n",
        "# > maior que\n",
        "# < menor que\n",
        "# >= maior ou igual a\n",
        "# <= menor ou igual a\n",
        "# != diferente\n",
        "\n"
      ],
      "metadata": {
        "id": "x-rTA4oqGdVX"
      },
      "execution_count": null,
      "outputs": []
    },
    {
      "cell_type": "markdown",
      "source": [],
      "metadata": {
        "id": "qs0xAAHdKJgL"
      }
    },
    {
      "cell_type": "markdown",
      "source": [
        "#Variável lógica"
      ],
      "metadata": {
        "id": "HTAcDtabKQrU"
      }
    },
    {
      "cell_type": "code",
      "source": [
        "a = 1\n",
        "b = 5\n",
        "\n",
        "resposta = a != b\n",
        "print(resposta)"
      ],
      "metadata": {
        "colab": {
          "base_uri": "https://localhost:8080/"
        },
        "id": "jqDj-gEPKUWn",
        "outputId": "5d4066b4-187b-4e10-d218-5ffff10ab4ce"
      },
      "execution_count": 8,
      "outputs": [
        {
          "output_type": "stream",
          "name": "stdout",
          "text": [
            "True\n"
          ]
        }
      ]
    },
    {
      "cell_type": "code",
      "source": [
        "resposta = a == b\n",
        "print(resposta)"
      ],
      "metadata": {
        "colab": {
          "base_uri": "https://localhost:8080/"
        },
        "id": "Woumy9AGKuSI",
        "outputId": "9fadb3b8-2b89-4f7e-a18c-24f76ebc09ec"
      },
      "execution_count": 9,
      "outputs": [
        {
          "output_type": "stream",
          "name": "stdout",
          "text": [
            "False\n"
          ]
        }
      ]
    },
    {
      "cell_type": "markdown",
      "source": [
        "#Strings"
      ],
      "metadata": {
        "id": "pkKXUFt-LKoL"
      }
    },
    {
      "cell_type": "code",
      "source": [
        "#Acessando por índices\n",
        "frase = 'Olá, Mundo!'\n",
        "\n",
        "print(frase)\n",
        "print(frase[0])\n",
        "print(frase[1])\n"
      ],
      "metadata": {
        "colab": {
          "base_uri": "https://localhost:8080/"
        },
        "id": "yXe1zCZ7K0KD",
        "outputId": "28bfa81e-7013-4e09-a279-cbd6c0790aa2"
      },
      "execution_count": 13,
      "outputs": [
        {
          "output_type": "stream",
          "name": "stdout",
          "text": [
            "Olá, Mundo!\n",
            "O\n",
            "l\n"
          ]
        }
      ]
    }
  ]
}