{
  "nbformat": 4,
  "nbformat_minor": 0,
  "metadata": {
    "colab": {
      "provenance": [],
      "authorship_tag": "ABX9TyPn3++NtW0vo4jnH4JWxQWz",
      "include_colab_link": true
    },
    "kernelspec": {
      "name": "python3",
      "display_name": "Python 3"
    },
    "language_info": {
      "name": "python"
    },
    "gpuClass": "standard"
  },
  "cells": [
    {
      "cell_type": "markdown",
      "metadata": {
        "id": "view-in-github",
        "colab_type": "text"
      },
      "source": [
        "<a href=\"https://colab.research.google.com/github/sivaldo-almeida1973/aula1-/blob/main/AulaTeorica_1_eng_soft.ipynb\" target=\"_parent\"><img src=\"https://colab.research.google.com/assets/colab-badge.svg\" alt=\"Open In Colab\"/></a>"
      ]
    },
    {
      "cell_type": "markdown",
      "source": [
        "2.0ciclo de processamneto de Dados"
      ],
      "metadata": {
        "id": "PHPWBav6wsFk"
      }
    },
    {
      "cell_type": "markdown",
      "source": [
        "2.0 Ciclo de Processamento de Dados\n",
        "Função de Saída-print()\n"
      ],
      "metadata": {
        "id": "XaGu8jBZxQfk"
      }
    },
    {
      "cell_type": "code",
      "source": [
        "print('Olá, Mundo!')"
      ],
      "metadata": {
        "colab": {
          "base_uri": "https://localhost:8080/"
        },
        "id": "DGWIJOSwxJHr",
        "outputId": "3a4c6cb5-e7b7-4303-a3f9-4947f8d40a0a"
      },
      "execution_count": null,
      "outputs": [
        {
          "output_type": "stream",
          "name": "stdout",
          "text": [
            "Olá, Mundo!\n"
          ]
        }
      ]
    },
    {
      "cell_type": "markdown",
      "source": [
        "Operações Aritimética"
      ],
      "metadata": {
        "id": "juVVxgVJyex7"
      }
    },
    {
      "cell_type": "code",
      "source": [
        "print(2+3)"
      ],
      "metadata": {
        "colab": {
          "base_uri": "https://localhost:8080/"
        },
        "id": "yO5lTUi-ykpr",
        "outputId": "edff2840-d58a-4ae7-a623-cdfaafd3cce3"
      },
      "execution_count": null,
      "outputs": [
        {
          "output_type": "stream",
          "name": "stdout",
          "text": [
            "5\n"
          ]
        }
      ]
    },
    {
      "cell_type": "markdown",
      "source": [
        "O que acontece aqui?"
      ],
      "metadata": {
        "id": "IV9xx3fyyvMj"
      }
    },
    {
      "cell_type": "code",
      "source": [
        "print('2+3')"
      ],
      "metadata": {
        "colab": {
          "base_uri": "https://localhost:8080/"
        },
        "id": "Vg2tMi2Hy1DD",
        "outputId": "6915c0ce-ae0d-4d69-928f-ffab38c58ba9"
      },
      "execution_count": null,
      "outputs": [
        {
          "output_type": "stream",
          "name": "stdout",
          "text": [
            "2+3\n"
          ]
        }
      ]
    },
    {
      "cell_type": "markdown",
      "source": [
        "E aqui? Acontece uma concatenação."
      ],
      "metadata": {
        "id": "G0uzI4biy-qi"
      }
    },
    {
      "cell_type": "code",
      "source": [
        "print('2'+'3')"
      ],
      "metadata": {
        "colab": {
          "base_uri": "https://localhost:8080/"
        },
        "id": "cOIUeZyazNLD",
        "outputId": "c91e29ae-f0be-453a-ea09-5746e8774a87"
      },
      "execution_count": null,
      "outputs": [
        {
          "output_type": "stream",
          "name": "stdout",
          "text": [
            "23\n"
          ]
        }
      ]
    },
    {
      "cell_type": "markdown",
      "source": [
        "Concatenção de mensagens:"
      ],
      "metadata": {
        "id": "FELtgPi2zUhr"
      }
    },
    {
      "cell_type": "code",
      "source": [
        "print('Olá,'+'Mundo!')\n",
        "print('Olá,','Mundo!')"
      ],
      "metadata": {
        "colab": {
          "base_uri": "https://localhost:8080/"
        },
        "id": "ePu5SgTDzaNT",
        "outputId": "18ea4b89-9a3e-4d65-fcd9-05ab4b723f55"
      },
      "execution_count": null,
      "outputs": [
        {
          "output_type": "stream",
          "name": "stdout",
          "text": [
            "Olá,Mundo!\n",
            "Olá, Mundo!\n"
          ]
        }
      ]
    },
    {
      "cell_type": "markdown",
      "source": [
        "Concatenação mensagens e Numeros:"
      ],
      "metadata": {
        "id": "KnjuxX2U0CYD"
      }
    },
    {
      "cell_type": "code",
      "source": [
        "print('O resultado da soma 2+3 é:',2+3)"
      ],
      "metadata": {
        "colab": {
          "base_uri": "https://localhost:8080/"
        },
        "id": "cAP_FBZV0L5O",
        "outputId": "d23af978-a4ea-4df9-92aa-ab68d21b0067"
      },
      "execution_count": null,
      "outputs": [
        {
          "output_type": "stream",
          "name": "stdout",
          "text": [
            "O resultado da soma 2+3 é: 5\n"
          ]
        }
      ]
    },
    {
      "cell_type": "markdown",
      "source": [
        "Ordem de precedência."
      ],
      "metadata": {
        "id": "A_UFp6Ia0rZL"
      }
    },
    {
      "cell_type": "code",
      "source": [
        "print(10*(2+3)/4)"
      ],
      "metadata": {
        "colab": {
          "base_uri": "https://localhost:8080/"
        },
        "id": "blBTfjhS0vg4",
        "outputId": "302aa6e5-ee9e-4dd2-cb9e-56c3b3ce26e0"
      },
      "execution_count": null,
      "outputs": [
        {
          "output_type": "stream",
          "name": "stdout",
          "text": [
            "12.5\n"
          ]
        }
      ]
    },
    {
      "cell_type": "markdown",
      "source": [
        "Cuidado!!"
      ],
      "metadata": {
        "id": "hGDdPtBDDg0F"
      }
    },
    {
      "cell_type": "code",
      "source": [
        "print(10*(5+7/4))"
      ],
      "metadata": {
        "id": "0KooSbgpDbIO"
      },
      "execution_count": null,
      "outputs": []
    },
    {
      "cell_type": "markdown",
      "source": [
        "#Variáveis ,dados e seus tipos."
      ],
      "metadata": {
        "id": "m0NR6Ni21d4R"
      }
    },
    {
      "cell_type": "markdown",
      "source": [
        "Dados-sequência de símbolos quantificados ou quantificáveis-valores fornecidos via entrada e manipulados ao longo do programa.\n"
      ],
      "metadata": {
        "id": "9UY9j07o1tzT"
      }
    },
    {
      "cell_type": "markdown",
      "source": [
        "variável nome dado a uma ragião da memória do programa.Sempre que voce invocar o nome de uma variável no programa ,seu bloco de memória será automaticamente carregado da RAM"
      ],
      "metadata": {
        "id": "DmZy72N2EA8d"
      }
    },
    {
      "cell_type": "code",
      "source": [
        "#Lê-se : a variável \"nota\" recebe o dado 8,5\n",
        "# = simbolo de atribuição.\n",
        "nota = 8.5\n",
        "disciplina = 'Lógica de Programação e Algoritimos'\n",
        "\n",
        "print(nota)\n",
        "print(disciplina)\n",
        "\n"
      ],
      "metadata": {
        "id": "fR1fNZAh1kl_",
        "colab": {
          "base_uri": "https://localhost:8080/"
        },
        "outputId": "0d4e23cf-553d-4314-f999-8e7ab050f83b"
      },
      "execution_count": null,
      "outputs": [
        {
          "output_type": "stream",
          "name": "stdout",
          "text": [
            "8.5\n",
            "Lógica de Programação e Algoritimos\n"
          ]
        }
      ]
    },
    {
      "cell_type": "code",
      "source": [
        "#posso fazer a impressão assim também.\n",
        "print('nota: ', nota ,'.disciplina: ',disciplina)"
      ],
      "metadata": {
        "colab": {
          "base_uri": "https://localhost:8080/"
        },
        "id": "UAu_KBq1Fcj2",
        "outputId": "69e3891f-7ddd-468d-aedc-fc4ab9f88378"
      },
      "execution_count": null,
      "outputs": [
        {
          "output_type": "stream",
          "name": "stdout",
          "text": [
            "nota:  8.5 .disciplina:  Lógica de Programação e Algoritimos\n"
          ]
        }
      ]
    },
    {
      "cell_type": "markdown",
      "source": [
        "#Regras para nomes de Variáveis.\n",
        ".Nunca inicie o nome de uma variável com um número."
      ],
      "metadata": {
        "id": "kXElcSaiGLMN"
      }
    },
    {
      "cell_type": "markdown",
      "source": [
        ".Inicie o nome de uma variável com uma letra ou subilnado."
      ],
      "metadata": {
        "id": "tIZGsyUAGehE"
      }
    },
    {
      "cell_type": "markdown",
      "source": [
        "#Tipos Primitivos de dados\n",
        "\n",
        ".Numericos(inteiro e ponto flutuante)"
      ],
      "metadata": {
        "id": "Oxlf9LjbHmuW"
      }
    },
    {
      "cell_type": "markdown",
      "source": [
        ".quando queremos realizar operações aritiméticas."
      ],
      "metadata": {
        "id": "Mo7Jg2lyICOc"
      }
    },
    {
      "cell_type": "markdown",
      "source": [
        "#Inteiro(int)\n",
        ".Números sem casas decimais\n",
        "#Ponto flutuante(float)\n",
        ".Números com casas decimais\n"
      ],
      "metadata": {
        "id": "Ha2MCTXGIOHr"
      }
    },
    {
      "cell_type": "markdown",
      "source": [
        ".caractere"
      ],
      "metadata": {
        "id": "_vjI2UVtHy-M"
      }
    },
    {
      "cell_type": "markdown",
      "source": [
        "#Literal/booleana.\n",
        "verdadeiro (v) ou Falso(f), Nível lógico Alto e Baixo- ou 1 e 0"
      ],
      "metadata": {
        "id": "gvOdnjiBH4lE"
      }
    },
    {
      "cell_type": "markdown",
      "source": [
        "#Operadores Lógicos.\n",
        "\n"
      ],
      "metadata": {
        "id": "C0hzKa9AJXoQ"
      }
    },
    {
      "cell_type": "code",
      "source": [
        "# == igualdade\n",
        "# > maior que\n",
        "# < menor que\n",
        "# >= maior ou igual a\n",
        "# <= menor ou igual a\n",
        "# != diferente\n",
        "\n"
      ],
      "metadata": {
        "id": "x-rTA4oqGdVX"
      },
      "execution_count": null,
      "outputs": []
    },
    {
      "cell_type": "markdown",
      "source": [],
      "metadata": {
        "id": "qs0xAAHdKJgL"
      }
    },
    {
      "cell_type": "markdown",
      "source": [
        "#Variável lógica"
      ],
      "metadata": {
        "id": "HTAcDtabKQrU"
      }
    },
    {
      "cell_type": "code",
      "source": [
        "a = 1\n",
        "b = 5\n",
        "\n",
        "resposta = a != b\n",
        "print(resposta)"
      ],
      "metadata": {
        "colab": {
          "base_uri": "https://localhost:8080/"
        },
        "id": "jqDj-gEPKUWn",
        "outputId": "5d4066b4-187b-4e10-d218-5ffff10ab4ce"
      },
      "execution_count": null,
      "outputs": [
        {
          "output_type": "stream",
          "name": "stdout",
          "text": [
            "True\n"
          ]
        }
      ]
    },
    {
      "cell_type": "code",
      "source": [
        "resposta = a == b\n",
        "print(resposta)"
      ],
      "metadata": {
        "colab": {
          "base_uri": "https://localhost:8080/"
        },
        "id": "Woumy9AGKuSI",
        "outputId": "9fadb3b8-2b89-4f7e-a18c-24f76ebc09ec"
      },
      "execution_count": null,
      "outputs": [
        {
          "output_type": "stream",
          "name": "stdout",
          "text": [
            "False\n"
          ]
        }
      ]
    },
    {
      "cell_type": "markdown",
      "source": [
        "#Strings"
      ],
      "metadata": {
        "id": "pkKXUFt-LKoL"
      }
    },
    {
      "cell_type": "code",
      "source": [
        "#Acessando por índices\n",
        "frase = 'Olá, Mundo!'\n",
        "\n",
        "print(frase)\n",
        "print(frase[0])\n",
        "print(frase[1])\n"
      ],
      "metadata": {
        "colab": {
          "base_uri": "https://localhost:8080/"
        },
        "id": "yXe1zCZ7K0KD",
        "outputId": "28bfa81e-7013-4e09-a279-cbd6c0790aa2"
      },
      "execution_count": null,
      "outputs": [
        {
          "output_type": "stream",
          "name": "stdout",
          "text": [
            "Olá, Mundo!\n",
            "O\n",
            "l\n"
          ]
        }
      ]
    },
    {
      "cell_type": "markdown",
      "source": [
        "#Concatenação\n",
        ".juntar/somar strings"
      ],
      "metadata": {
        "id": "B9eDppWJyngR"
      }
    },
    {
      "cell_type": "code",
      "source": [
        "s1 = 'Lógica de Programação '\n",
        "s1 = s1 + 'e Algoritimos'\n",
        "print(s1)"
      ],
      "metadata": {
        "colab": {
          "base_uri": "https://localhost:8080/"
        },
        "id": "NTewkkEU_cmG",
        "outputId": "80b0ce65-a380-4fd0-ab17-e044abb85a12"
      },
      "execution_count": 2,
      "outputs": [
        {
          "output_type": "stream",
          "name": "stdout",
          "text": [
            "Lógica de Programação e Algoritimos\n"
          ]
        }
      ]
    },
    {
      "cell_type": "code",
      "source": [
        "s1 = 'A' + '-' * 10 + 'B'\n",
        "print(s1)"
      ],
      "metadata": {
        "colab": {
          "base_uri": "https://localhost:8080/"
        },
        "id": "dME_le4V_0ea",
        "outputId": "09977530-b34b-443b-b702-999913668182"
      },
      "execution_count": 6,
      "outputs": [
        {
          "output_type": "stream",
          "name": "stdout",
          "text": [
            "A----------B\n"
          ]
        }
      ]
    },
    {
      "cell_type": "markdown",
      "source": [
        "#Composição\n",
        ".juntar diferentes variáveis e strings"
      ],
      "metadata": {
        "id": "l68a1fwqAXPY"
      }
    },
    {
      "cell_type": "code",
      "source": [
        "nota = 8.5\n",
        "s1 = 'Você tirou %f na disciplina de algoritimos' % nota\n",
        "print(s1)"
      ],
      "metadata": {
        "colab": {
          "base_uri": "https://localhost:8080/"
        },
        "id": "BkIKtyKvAEvI",
        "outputId": "5e53c565-e79f-414a-a22f-3e46c6bbd56a"
      },
      "execution_count": 7,
      "outputs": [
        {
          "output_type": "stream",
          "name": "stdout",
          "text": [
            "Você tirou 8.500000 na disciplina de algoritimos\n"
          ]
        }
      ]
    },
    {
      "cell_type": "markdown",
      "source": [
        "Limitando casas decimais:\n"
      ],
      "metadata": {
        "id": "kNby_NANA9Vy"
      }
    },
    {
      "cell_type": "code",
      "source": [
        "nota = 8.5\n",
        "s1 = 'Você tirou %.2f na disciplina de Algoritimos' % nota\n",
        "print(s1)"
      ],
      "metadata": {
        "colab": {
          "base_uri": "https://localhost:8080/"
        },
        "id": "vObZ7rZhA1TB",
        "outputId": "8eb7180e-8600-4a94-b721-6262f6790bd3"
      },
      "execution_count": 8,
      "outputs": [
        {
          "output_type": "stream",
          "name": "stdout",
          "text": [
            "Você tirou 8.50 na disciplina de Algoritimos\n"
          ]
        }
      ]
    },
    {
      "cell_type": "markdown",
      "source": [
        "Varias variáveis:\n"
      ],
      "metadata": {
        "id": "BlkUV8m3Bp_s"
      }
    },
    {
      "cell_type": "code",
      "source": [
        "nota = 8.5\n",
        "disciplina = 'Algoritimos'\n",
        "s1 = 'Você tirou %.2f na disciplina  de %s' %( nota , disciplina)\n",
        "print(s1)"
      ],
      "metadata": {
        "colab": {
          "base_uri": "https://localhost:8080/"
        },
        "id": "DowFyWx-BU6A",
        "outputId": "bece2480-4845-4472-beaa-b782d9a67750"
      },
      "execution_count": 15,
      "outputs": [
        {
          "output_type": "stream",
          "name": "stdout",
          "text": [
            "Você tirou 8.50 na disciplina  de Algoritimos\n"
          ]
        }
      ]
    },
    {
      "cell_type": "markdown",
      "source": [
        "#Composição Moderna"
      ],
      "metadata": {
        "id": "8xp3VLn_CfDQ"
      }
    },
    {
      "cell_type": "code",
      "source": [
        "#'Você tirou %d na disciplina de %s' % (nota, disciplina)\n",
        "#'Você tirou {} na disciplina de {}'.format(nota, disciplina)\n",
        "nota = 8.5\n",
        "disciplina = 'Algoritimos'\n",
        "s1 = 'Você tirou {} na disciplina de {}'.format(nota, disciplina)\n",
        "print(s1)"
      ],
      "metadata": {
        "colab": {
          "base_uri": "https://localhost:8080/"
        },
        "id": "veFB0RdDCVhj",
        "outputId": "8d1589c5-71eb-4226-d95e-a40c227d6c1e"
      },
      "execution_count": 19,
      "outputs": [
        {
          "output_type": "stream",
          "name": "stdout",
          "text": [
            "Você tirou 8.5 na disciplina de Algoritimos\n"
          ]
        }
      ]
    },
    {
      "cell_type": "markdown",
      "source": [
        "#fatiamento"
      ],
      "metadata": {
        "id": "zjyoFethD7rH"
      }
    },
    {
      "cell_type": "code",
      "source": [
        "s1 = 'Lógica de Programação e Algoritimos'\n",
        "print(s1[0:6])"
      ],
      "metadata": {
        "colab": {
          "base_uri": "https://localhost:8080/"
        },
        "id": "j70PuiGtEEgg",
        "outputId": "5e1b67c1-77dc-4582-f1c0-b67659f94590"
      },
      "execution_count": 20,
      "outputs": [
        {
          "output_type": "stream",
          "name": "stdout",
          "text": [
            "Lógica\n"
          ]
        }
      ]
    },
    {
      "cell_type": "code",
      "source": [
        "s1 = 'Lógica de Programação e Algoritimos'\n",
        "print(s1[24:34])"
      ],
      "metadata": {
        "colab": {
          "base_uri": "https://localhost:8080/"
        },
        "id": "3YMfBIgUEQX3",
        "outputId": "cb635471-b23e-4faf-fd8d-215ebd62f5fe"
      },
      "execution_count": 21,
      "outputs": [
        {
          "output_type": "stream",
          "name": "stdout",
          "text": [
            "Algoritimo\n"
          ]
        }
      ]
    },
    {
      "cell_type": "code",
      "source": [
        "s1 = 'Lógica de Programação e Algoritimos'\n",
        "print(s1[:6])"
      ],
      "metadata": {
        "colab": {
          "base_uri": "https://localhost:8080/"
        },
        "id": "XdmjFsdlEa2f",
        "outputId": "cc9a7794-0f0f-433d-9b0b-35715580e7da"
      },
      "execution_count": 22,
      "outputs": [
        {
          "output_type": "stream",
          "name": "stdout",
          "text": [
            "Lógica\n"
          ]
        }
      ]
    },
    {
      "cell_type": "markdown",
      "source": [
        "#Tamanho (length)"
      ],
      "metadata": {
        "id": "vhMan__DEsZv"
      }
    },
    {
      "cell_type": "code",
      "source": [
        "s1 = 'Lógica de Programação e Algoritimos '\n",
        "tamanho = len(s1)\n",
        "print(tamanho)"
      ],
      "metadata": {
        "colab": {
          "base_uri": "https://localhost:8080/"
        },
        "id": "yxRcDrsEE0My",
        "outputId": "4047c7ab-3a54-455a-9446-dd67509fad35"
      },
      "execution_count": 23,
      "outputs": [
        {
          "output_type": "stream",
          "name": "stdout",
          "text": [
            "36\n"
          ]
        }
      ]
    },
    {
      "cell_type": "markdown",
      "source": [
        "#Função de entrada e fluxo de execução do programa.\n",
        "Função de entrada - input(comando, instrução, função) = (Ler)\n"
      ],
      "metadata": {
        "id": "Du3Jyh17FVzG"
      }
    },
    {
      "cell_type": "code",
      "source": [
        "idade = input('Qual sua idadde? ')\n",
        "print(idade)"
      ],
      "metadata": {
        "colab": {
          "base_uri": "https://localhost:8080/"
        },
        "id": "aAfFlap5FkFz",
        "outputId": "a7ecf047-3718-4324-89e1-8489ffb79667"
      },
      "execution_count": 25,
      "outputs": [
        {
          "output_type": "stream",
          "name": "stdout",
          "text": [
            "Qual sua idadde? 23\n",
            "23\n"
          ]
        }
      ]
    },
    {
      "cell_type": "code",
      "source": [
        "nome = input('Qual seu nome? ')\n",
        "print('Olá {}, seja bem-vindo!'.format(nome))"
      ],
      "metadata": {
        "colab": {
          "base_uri": "https://localhost:8080/"
        },
        "id": "8iWnHHkvGSp3",
        "outputId": "5c50e7ab-676b-433f-b94a-e45c753ff1d1"
      },
      "execution_count": 26,
      "outputs": [
        {
          "output_type": "stream",
          "name": "stdout",
          "text": [
            "Qual seu nome? sivaldo\n",
            "Olá sivaldo, seja bem-vindo!\n"
          ]
        }
      ]
    },
    {
      "cell_type": "markdown",
      "source": [
        "#Convertendo dados de entrada:"
      ],
      "metadata": {
        "id": "bTagYOQdLjCK"
      }
    },
    {
      "cell_type": "code",
      "source": [
        "nota = float(input('qual nota  você recebeu na disciplina? '))\n",
        "print('Voce tirou nota {}.'.format(nota))"
      ],
      "metadata": {
        "colab": {
          "base_uri": "https://localhost:8080/"
        },
        "id": "rZRCqfz4LqCd",
        "outputId": "fa6a0369-3819-4eea-f427-091611235454"
      },
      "execution_count": 27,
      "outputs": [
        {
          "output_type": "stream",
          "name": "stdout",
          "text": [
            "qual nota  você recebeu na disciplina? 10\n",
            "Voce tirou nota 10.0.\n"
          ]
        }
      ]
    },
    {
      "cell_type": "markdown",
      "source": [
        "#Exercício\n",
        "Desenvolva um algoritimo que solicite ao usuário dois números inteiros.Imprima a soma destes dois números na tela."
      ],
      "metadata": {
        "id": "hVgi0-eNMQDk"
      }
    },
    {
      "cell_type": "code",
      "source": [
        "#Várias maneiras de imprimir\n",
        "\n",
        "num1 = int(input('digite um numero inteiro: '))\n",
        "num2 = int(input('Digite outro numero inteiro:  '))\n",
        "soma = num1 + num1\n",
        "#maneira antiga\n",
        "print('A soma %d com %d é igual a %d' % (num1, num2 , soma))\n",
        "#maneira moderna\n",
        "print('O resultado da soma entre {} e {} é {}'.format(num1 , num2 , soma))\n",
        "#maneira atual\n",
        "print(f'A soma entre {num1} e 1{num2} é igual á {soma}')\n"
      ],
      "metadata": {
        "id": "ml88glx4MkO-"
      },
      "execution_count": null,
      "outputs": []
    }
  ]
}