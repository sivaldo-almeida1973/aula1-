{
  "nbformat": 4,
  "nbformat_minor": 0,
  "metadata": {
    "colab": {
      "provenance": [],
      "authorship_tag": "ABX9TyM2Eu6DN3g6sFySuHZewMWq",
      "include_colab_link": true
    },
    "kernelspec": {
      "name": "python3",
      "display_name": "Python 3"
    },
    "language_info": {
      "name": "python"
    }
  },
  "cells": [
    {
      "cell_type": "markdown",
      "metadata": {
        "id": "view-in-github",
        "colab_type": "text"
      },
      "source": [
        "<a href=\"https://colab.research.google.com/github/sivaldo-almeida1973/aula1-/blob/main/aulat_eng_soft_log_prog_Fun%C3%A7%C3%B5es2.ipynb\" target=\"_parent\"><img src=\"https://colab.research.google.com/assets/colab-badge.svg\" alt=\"Open In Colab\"/></a>"
      ]
    },
    {
      "cell_type": "markdown",
      "source": [
        "#Escopo de Variáveis\n",
        "Escopo é uma propriedade que determina onde uma variável pode ser utilizada dentro de um programa.\n"
      ],
      "metadata": {
        "id": "HTN4utg-fzon"
      }
    },
    {
      "cell_type": "code",
      "source": [
        "def comida():\n",
        "  print(ovos)\n",
        "\n",
        "#programa principal\n",
        "ovos = 12\n",
        "comida()"
      ],
      "metadata": {
        "colab": {
          "base_uri": "https://localhost:8080/"
        },
        "id": "kxZgxM4ch4D9",
        "outputId": "f61b5536-277c-4153-9ba3-6e9f3938e54d"
      },
      "execution_count": 1,
      "outputs": [
        {
          "output_type": "stream",
          "name": "stdout",
          "text": [
            "12\n"
          ]
        }
      ]
    },
    {
      "cell_type": "code",
      "source": [
        "def comida():\n",
        "  ovos = 12\n",
        "  bacon()\n",
        "  print(ovos)\n",
        "\n",
        "def bacon():\n",
        "  ovos = 6\n",
        "\n",
        "#programa principal\n",
        "comida()"
      ],
      "metadata": {
        "colab": {
          "base_uri": "https://localhost:8080/"
        },
        "id": "536obphRiOqn",
        "outputId": "e914a075-9738-4e31-90c6-4b40fa13f9c9"
      },
      "execution_count": 2,
      "outputs": [
        {
          "output_type": "stream",
          "name": "stdout",
          "text": [
            "12\n"
          ]
        }
      ]
    },
    {
      "cell_type": "markdown",
      "source": [
        "#Escopo local\n",
        "criado sempre que uma função é chamada."
      ],
      "metadata": {
        "id": "f4OBTc72gWZM"
      }
    },
    {
      "cell_type": "code",
      "source": [
        "def comida(): #escopo local(comida)\n",
        "  ovos = 'variável local de comida'\n",
        "  print(ovos)\n",
        "\n",
        "def bacon(): #escopo local(bacon)\n",
        "  ovos = 'variável local bacon'\n",
        "  print(ovos)\n",
        "  comida()\n",
        "  print(ovos)\n",
        "\n",
        "#programa principal\n",
        "ovos = 'variável global'\n",
        "bacon()\n",
        "print(ovos)"
      ],
      "metadata": {
        "id": "ZA4rEZ7MgUKR"
      },
      "execution_count": null,
      "outputs": []
    },
    {
      "cell_type": "markdown",
      "source": [
        "A instrução global\n",
        "permite alterar uma variável  global"
      ],
      "metadata": {
        "id": "mGJgHR8ilISM"
      }
    },
    {
      "cell_type": "code",
      "source": [
        "def comida():\n",
        "  global ovos #altera variavel global\n",
        "  ovos = \"comida\"\n",
        "\n",
        "#programa principal\n",
        "\n",
        "ovos = 'global'\n",
        "comida()\n",
        "print(ovos)"
      ],
      "metadata": {
        "colab": {
          "base_uri": "https://localhost:8080/"
        },
        "id": "WBkQv9qIlrjV",
        "outputId": "fdd68366-0831-44df-de27-ef8c47ef63b3"
      },
      "execution_count": 4,
      "outputs": [
        {
          "output_type": "stream",
          "name": "stdout",
          "text": [
            "comida\n"
          ]
        }
      ]
    },
    {
      "cell_type": "markdown",
      "source": [],
      "metadata": {
        "id": "U4U3YcqPgyt9"
      }
    }
  ]
}