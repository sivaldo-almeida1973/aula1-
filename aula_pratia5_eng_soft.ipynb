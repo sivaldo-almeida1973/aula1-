{
  "cells": [
    {
      "cell_type": "markdown",
      "metadata": {
        "id": "view-in-github",
        "colab_type": "text"
      },
      "source": [
        "<a href=\"https://colab.research.google.com/github/sivaldo-almeida1973/aula1-/blob/main/aula_pratia5_eng_soft.ipynb\" target=\"_parent\"><img src=\"https://colab.research.google.com/assets/colab-badge.svg\" alt=\"Open In Colab\"/></a>"
      ]
    },
    {
      "cell_type": "markdown",
      "metadata": {
        "id": "PM8sdpCl-3jo"
      },
      "source": [
        "#interactive help:\n",
        "manual explicativo de tudo dentro do python.comando /função via terminal:help().Para sair do help, digite :quit"
      ]
    },
    {
      "cell_type": "markdown",
      "metadata": {
        "id": "Z3ioeS5OYbCQ"
      },
      "source": [
        "#validação do dados:\n",
        "Exercício-1"
      ]
    },
    {
      "cell_type": "code",
      "execution_count": null,
      "metadata": {
        "colab": {
          "base_uri": "https://localhost:8080/"
        },
        "id": "N2yk52kj_b09",
        "outputId": "5d9b0328-0b7c-4b0f-d1c2-4bf252504689"
      },
      "outputs": [
        {
          "name": "stdout",
          "output_type": "stream",
          "text": [
            "digite um valor inteiro e positivo para calcular a fatorial:-100\n",
            "digite um valor inteiro e positivo para calcular a fatorial:10\n",
            "Fatorial de:10 = 3628800\n"
          ]
        }
      ],
      "source": [
        "#validação serve para forçar que o usuário digite dados válidos.\n",
        "#nesse caso fatorial  só aceita números inteiros e positivos\n",
        "def valida_int(pergunta, min, max): #irá forçar digitar um valor valido\n",
        "  x = int(input(pergunta)) #ler o dado\n",
        "\n",
        "  while ((x < min) or (x > max)): #vai validar um intervalo\n",
        "    x = int(input(pergunta))# se não estiver no intervalo ,faz a pergunta novamente\n",
        "  return x # se sim retorna x\n",
        "\n",
        "\n",
        "\n",
        "def fatorial(num):#se começar com 0 o resultado vai ser 1\n",
        "  fat = 1         #criar variavel fat = 1 (menor valor de fatorial possivel é 1)\n",
        "  if num == 0:    # se num for igual a 0\n",
        "    return fat    # encerra a função aqui\n",
        "  for i in range(1, num + 1, 1): # apartir daqui, só se num for acima de 1, 2...\n",
        "    fat *=  i     #calculo da fatorial\n",
        "  return fat # esse return só acontece caso meu num não seja zero\n",
        "\n",
        "\n",
        "#programa principal(chamar a função)\n",
        "x = valida_int('digite um valor para calcular a fatorial:',0 ,9999) #ler o valor que vai como parâmetro para (num)\n",
        "print('Fatorial de:{} = {}'.format(x, fatorial(x)))"
      ]
    },
    {
      "cell_type": "markdown",
      "metadata": {
        "id": "pYepZCJN8wEK"
      },
      "source": [
        "Exercicio-2\n",
        "#Exercicio 2"
      ]
    },
    {
      "cell_type": "code",
      "execution_count": null,
      "metadata": {
        "colab": {
          "base_uri": "https://localhost:8080/"
        },
        "id": "yDYf8i9p8ypV",
        "outputId": "81de0fc8-b816-4309-f8aa-9d4600d004ba"
      },
      "outputs": [
        {
          "name": "stdout",
          "output_type": "stream",
          "text": [
            "Arquivo localizado no computador!\n",
            "=====MENU=====\n",
            "1 - Cadastrar novo item: \n",
            "2 - Listar cadastros: \n",
            "3 - Sair:\n",
            "Escolha a opção desejada: 6\n",
            "Escolha a opção desejada: 4\n"
          ]
        }
      ],
      "source": [
        "# abrir arquivo: open()\n",
        "# fechar arquivo: arquivo.close()\n",
        "# ler arquivo:arquivo.read(), arquivo.readline()\n",
        "# escrever arquivo: arquivo.write()\n",
        "\n",
        "def valida_int(pergunta, min, max):\n",
        "  x = int(input(pergunta))\n",
        "  while ((x < min) or (x > max)):\n",
        "    x = int(input(pergunta))\n",
        "  return x\n",
        "\n",
        "\n",
        "def criaArquivo(nomeArquivo):\n",
        "  try:\n",
        "    a = open(nomeArquivo, 'wt+')# escrita ,texto e criação caso o arquivo não exista\n",
        "    a.close()\n",
        "  except:\n",
        "    print('Erro na criação do arquivo!')\n",
        "  else:\n",
        "    print('arquivo {} foi criado com sucesso'.format(nomeArquivo))\n",
        "\n",
        "#criar função para ver se arquivo existe\n",
        "def existeArquivo(nomeArquivo):  \n",
        "  try:\n",
        "    a = open(nomeArquivo, 'rt' )# r arquivo de leitura, t de txt\n",
        "    a.close()\n",
        "  except  FileNotFoundError:# se der erro retorna False\n",
        "    return False\n",
        "  else:   # se tiver sucesso retorna true\n",
        "    return True\n",
        "\n",
        "def listarArquivo(nomeArquivo):\n",
        "  try:\n",
        "    a = open(nomeArquivo, 'rt')#leitura\n",
        "  except:\n",
        "    print('Erro ao lar arquivo!')\n",
        "  else:\n",
        "    print(a.read())\n",
        "  finally:\n",
        "    a.close()\n",
        "\n",
        "def cadastrar_jogo(nomeArquivo, nomeJogo, nomeVideogame):\n",
        "  try:\n",
        "    a = open(nomeArquivo, 'at') #(a)abrir arquivo para escrita,se existir conteudo não irei apagar\n",
        "  except:\n",
        "    print('Erro ao abrir arquivo!')\n",
        "  else:\n",
        "    a.write('{};{}\\n'.format(nomeJogo, nomeVideogame))\n",
        "  finally:\n",
        "    a.close()\n",
        "\n",
        "\n",
        "#programa principal\n",
        "arquivo = 'games.txt1'\n",
        "if existeArquivo(arquivo):\n",
        "  print('Arquivo localizado no computador!')\n",
        "else:\n",
        "  print('Arquivo inexistente!')\n",
        "\n",
        "  criaArquivo(arquivo) #função cria arquivo\n",
        "\n",
        "\n",
        "while True:\n",
        "  print('=====MENU=====')\n",
        "  print('1 - Cadastrar novo item: ')\n",
        "  print('2 - Listar cadastros: ')\n",
        "  print('3 - Sair:')\n",
        "\n",
        "  op = valida_int('Escolha a opção desejada: ', 1, 3)\n",
        "  if op == 1:\n",
        "    print('Opção de cadastrar novo item selecionada..\\n')\n",
        "    nomeJogo = input('Nome do jogo:')\n",
        "    nomeVideogame = input('Nome do videogame: ')\n",
        "    cadastrar_jogo(arquivo, nomeJogo, nomeVideogame)\n",
        "\n",
        "  elif op == 2:\n",
        "        print('Opção de listar selecionada..\\n')\n",
        "        listarArquivo(arquivo)\n",
        "      \n",
        "  elif op == 3:\n",
        "     print('Encerrando o programa..')\n",
        "     break\n"
      ]
    }
  ],
  "metadata": {
    "colab": {
      "provenance": [],
      "authorship_tag": "ABX9TyNyE2hRLuijRFpnIuhgLUxy",
      "include_colab_link": true
    },
    "kernelspec": {
      "display_name": "Python 3",
      "name": "python3"
    },
    "language_info": {
      "name": "python"
    }
  },
  "nbformat": 4,
  "nbformat_minor": 0
}