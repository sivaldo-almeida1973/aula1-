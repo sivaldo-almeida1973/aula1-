{
  "nbformat": 4,
  "nbformat_minor": 0,
  "metadata": {
    "colab": {
      "provenance": [],
      "authorship_tag": "ABX9TyMsnKqk7noseMQEB03cb0Xc",
      "include_colab_link": true
    },
    "kernelspec": {
      "name": "python3",
      "display_name": "Python 3"
    },
    "language_info": {
      "name": "python"
    }
  },
  "cells": [
    {
      "cell_type": "markdown",
      "metadata": {
        "id": "view-in-github",
        "colab_type": "text"
      },
      "source": [
        "<a href=\"https://colab.research.google.com/github/sivaldo-almeida1973/aula1-/blob/main/aula_pratia5_eng_soft.ipynb\" target=\"_parent\"><img src=\"https://colab.research.google.com/assets/colab-badge.svg\" alt=\"Open In Colab\"/></a>"
      ]
    },
    {
      "cell_type": "markdown",
      "source": [
        "#interactive help:\n",
        "manual explicativo de tudo dentro do python.comando /função via terminal:help().Para sair do help, digite :quit"
      ],
      "metadata": {
        "id": "PM8sdpCl-3jo"
      }
    },
    {
      "cell_type": "markdown",
      "source": [
        "#validação do dados:"
      ],
      "metadata": {
        "id": "Z3ioeS5OYbCQ"
      }
    },
    {
      "cell_type": "code",
      "source": [
        "#validação serve para forçar que o usuário digite dados válidos.\n",
        "#nesse caso fatorial  só aceita números inteiros e positivos\n",
        "def valida_int(pergunta, min, max): #irá forçar digitar um valor valido\n",
        "  x = int(input(pergunta)) #ler o dado\n",
        "\n",
        "  while ((x < min) or (x > max)): #vai validar um intervalo\n",
        "    x = int(input(pergunta))# se não estiver no intervalo ,faz a pergunta novamente\n",
        "  return x # se sim retorna x\n",
        "\n",
        "\n",
        "\n",
        "def fatorial(num):#se começar com 0 o resultado vai ser 1\n",
        "  fat = 1         #criar variavel fat = 1 (menor valor de fatorial possivel é 1)\n",
        "  if num == 0:    # se num for igual a 0\n",
        "    return fat    # encerra a função aqui\n",
        "  for i in range(1, num + 1, 1): # apartir daqui, só se num for acima de 1, 2...\n",
        "    fat *=  i     #calculo da fatorial\n",
        "  return fat # esse return só acontece caso meu num não seja zero\n",
        "\n",
        "\n",
        "#programa principal(chamar a função)\n",
        "x = valida_int('digite um valor para calcular a fatorial:',0 ,9999) #ler o valor que vai como parâmetro para (num)\n",
        "print('Fatorial de:{} = {}'.format(x, fatorial(x)))"
      ],
      "metadata": {
        "colab": {
          "base_uri": "https://localhost:8080/"
        },
        "id": "N2yk52kj_b09",
        "outputId": "5d9b0328-0b7c-4b0f-d1c2-4bf252504689"
      },
      "execution_count": 14,
      "outputs": [
        {
          "output_type": "stream",
          "name": "stdout",
          "text": [
            "digite um valor inteiro e positivo para calcular a fatorial:-100\n",
            "digite um valor inteiro e positivo para calcular a fatorial:10\n",
            "Fatorial de:10 = 3628800\n"
          ]
        }
      ]
    }
  ]
}