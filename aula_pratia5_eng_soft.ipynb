{
  "nbformat": 4,
  "nbformat_minor": 0,
  "metadata": {
    "colab": {
      "provenance": [],
      "toc_visible": true,
      "authorship_tag": "ABX9TyPCL2pCz6L1ON9WpnRPHEdZ",
      "include_colab_link": true
    },
    "kernelspec": {
      "name": "python3",
      "display_name": "Python 3"
    },
    "language_info": {
      "name": "python"
    }
  },
  "cells": [
    {
      "cell_type": "markdown",
      "metadata": {
        "id": "view-in-github",
        "colab_type": "text"
      },
      "source": [
        "<a href=\"https://colab.research.google.com/github/sivaldo-almeida1973/aula1-/blob/main/aula_pratia5_eng_soft.ipynb\" target=\"_parent\"><img src=\"https://colab.research.google.com/assets/colab-badge.svg\" alt=\"Open In Colab\"/></a>"
      ]
    },
    {
      "cell_type": "markdown",
      "source": [
        "#interactive help:\n",
        "manual explicativo de tudo dentro do python.comando /função via terminal:help().Para sair do help, digite :quit"
      ],
      "metadata": {
        "id": "PM8sdpCl-3jo"
      }
    },
    {
      "cell_type": "markdown",
      "source": [
        "#validação do dados:\n",
        "Exercício-1"
      ],
      "metadata": {
        "id": "Z3ioeS5OYbCQ"
      }
    },
    {
      "cell_type": "code",
      "source": [
        "#validação serve para forçar que o usuário digite dados válidos.\n",
        "#nesse caso fatorial  só aceita números inteiros e positivos\n",
        "def valida_int(pergunta, min, max): #irá forçar digitar um valor valido\n",
        "  x = int(input(pergunta)) #ler o dado\n",
        "\n",
        "  while ((x < min) or (x > max)): #vai validar um intervalo\n",
        "    x = int(input(pergunta))# se não estiver no intervalo ,faz a pergunta novamente\n",
        "  return x # se sim retorna x\n",
        "\n",
        "\n",
        "\n",
        "def fatorial(num):#se começar com 0 o resultado vai ser 1\n",
        "  fat = 1         #criar variavel fat = 1 (menor valor de fatorial possivel é 1)\n",
        "  if num == 0:    # se num for igual a 0\n",
        "    return fat    # encerra a função aqui\n",
        "  for i in range(1, num + 1, 1): # apartir daqui, só se num for acima de 1, 2...\n",
        "    fat *=  i     #calculo da fatorial\n",
        "  return fat # esse return só acontece caso meu num não seja zero\n",
        "\n",
        "\n",
        "#programa principal(chamar a função)\n",
        "x = valida_int('digite um valor para calcular a fatorial:',0 ,9999) #ler o valor que vai como parâmetro para (num)\n",
        "print('Fatorial de:{} = {}'.format(x, fatorial(x)))"
      ],
      "metadata": {
        "colab": {
          "base_uri": "https://localhost:8080/"
        },
        "id": "N2yk52kj_b09",
        "outputId": "5d9b0328-0b7c-4b0f-d1c2-4bf252504689"
      },
      "execution_count": 14,
      "outputs": [
        {
          "output_type": "stream",
          "name": "stdout",
          "text": [
            "digite um valor inteiro e positivo para calcular a fatorial:-100\n",
            "digite um valor inteiro e positivo para calcular a fatorial:10\n",
            "Fatorial de:10 = 3628800\n"
          ]
        }
      ]
    },
    {
      "cell_type": "markdown",
      "source": [
        "Exercicio-2\n",
        "#Exercicio 2"
      ],
      "metadata": {
        "id": "pYepZCJN8wEK"
      }
    },
    {
      "cell_type": "code",
      "source": [
        "# abrir arquivo: open()\n",
        "# fechar arquivo: arquivo.close()\n",
        "# ler arquivo:arquivo.read(), arquivo.readline()\n",
        "# escrever arquivo: arquivo.write()\n",
        "\n",
        "def valida_int(pergunta, min, max):\n",
        "  x = int(input(pergunta))\n",
        "  while ((x < min) or (x > max)):\n",
        "    x = int(input(pergunta))\n",
        "  return x\n",
        "\n",
        "\n",
        "def criaArquivo(nomeArquivo):\n",
        "  try:\n",
        "    a = open(nomeArquivo, 'wt+')# escrita ,texto e criação caso o arquivo não exista\n",
        "    a.close()\n",
        "  except:\n",
        "    print('Erro na criação do arquivo!')\n",
        "  else:\n",
        "    print('arquivo {} foi criado com sucesso'.format(nomeArquivo))\n",
        "\n",
        "#criar função para ver se arquivo existe\n",
        "def existeArquivo(nomeArquivo):  \n",
        "  try:\n",
        "    a = open(nomeArquivo, 'rt' )# r arquivo de leitura, t de txt\n",
        "    a.close()\n",
        "  except  FileNotFoundError:# se der erro retorna False\n",
        "    return False\n",
        "  else:   # se tiver sucesso retorna true\n",
        "    return True\n",
        "\n",
        "\n",
        "#programa principal\n",
        "arquivo = 'games.txt1'\n",
        "if existeArquivo(arquivo):\n",
        "  print('Arquivo localizado no computador!')\n",
        "else:\n",
        "  print('Arquivo inexistente!')\n",
        "\n",
        "  criaArquivo(arquivo) #função cria arquivo\n",
        "\n",
        "\n",
        "while True:\n",
        "  print('=====MENU=====')\n",
        "  print('1 - Cadastrar novo item: ')\n",
        "  print('2 - Listar cadastros: ')\n",
        "  print('3 - Sair:')\n",
        "\n",
        "  op = valida_int('Escolha a opção desejada: ', 1, 3)\n",
        "  if op == 1:\n",
        "    print('Opção de cadastrar novo item selecionada..\\n')\n",
        "\n",
        "\n",
        "  elif op == 2:\n",
        "        print('Opção de listar selecionada..\\n')\n",
        "\n",
        "      \n",
        "  elif op == 3:\n",
        "     print('Encerrando o programa..')\n",
        "     break\n"
      ],
      "metadata": {
        "colab": {
          "base_uri": "https://localhost:8080/"
        },
        "id": "yDYf8i9p8ypV",
        "outputId": "107e5639-079a-4da9-dfac-11da209db2c5"
      },
      "execution_count": null,
      "outputs": [
        {
          "output_type": "stream",
          "name": "stdout",
          "text": [
            "Arquivo inexistente!\n",
            "arquivo games.txt1 foi criado com sucesso\n",
            "=====MENU=====\n",
            "1 - Cadastrar novo item: \n",
            "2 - Listar cadastros: \n",
            "3 - Sair:\n"
          ]
        }
      ]
    }
  ]
}