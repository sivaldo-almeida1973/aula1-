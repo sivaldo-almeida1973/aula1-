{
  "nbformat": 4,
  "nbformat_minor": 0,
  "metadata": {
    "colab": {
      "provenance": [],
      "authorship_tag": "ABX9TyNa9WsitRdm32Clq2RS4BUD",
      "include_colab_link": true
    },
    "kernelspec": {
      "name": "python3",
      "display_name": "Python 3"
    },
    "language_info": {
      "name": "python"
    }
  },
  "cells": [
    {
      "cell_type": "markdown",
      "metadata": {
        "id": "view-in-github",
        "colab_type": "text"
      },
      "source": [
        "<a href=\"https://colab.research.google.com/github/sivaldo-almeida1973/aula1-/blob/main/aula_teorica5_eng_soft.ipynb\" target=\"_parent\"><img src=\"https://colab.research.google.com/assets/colab-badge.svg\" alt=\"Open In Colab\"/></a>"
      ]
    },
    {
      "cell_type": "markdown",
      "source": [
        "#lógica de programação e algorítimos\n",
        ".Funções"
      ],
      "metadata": {
        "id": "nyM7I3-MF3zH"
      }
    },
    {
      "cell_type": "code",
      "source": [
        "print('|' , '__' * 10, '|')\n",
        "print('|' , '__' * 10, '|')\n",
        "print('          MENU   ')\n",
        "print('|', '__' * 10, '|')\n",
        "print('|', '__' * 10, '|')\n"
      ],
      "metadata": {
        "colab": {
          "base_uri": "https://localhost:8080/"
        },
        "id": "cTJRrZykGCVj",
        "outputId": "cb30fb9d-39d1-4a99-e06b-642cf0b667e0"
      },
      "execution_count": null,
      "outputs": [
        {
          "output_type": "stream",
          "name": "stdout",
          "text": [
            "| ____________________ |\n",
            "| ____________________ |\n",
            "          MENU   \n",
            "| ____________________ |\n",
            "| ____________________ |\n"
          ]
        }
      ]
    },
    {
      "cell_type": "code",
      "source": [
        "def realce():\n",
        "  #corpo da função\n",
        "  print('|','__' * 10, '|')\n",
        "  print('|','__' * 10, '|')\n",
        "\n",
        "#Programa principal chama a função realce()\n",
        "realce()\n",
        "print('       MENU')\n",
        "realce()"
      ],
      "metadata": {
        "colab": {
          "base_uri": "https://localhost:8080/"
        },
        "id": "cbNVd4WPI5FB",
        "outputId": "c55232a5-a68c-4aad-c6ff-51fc36b97ec1"
      },
      "execution_count": null,
      "outputs": [
        {
          "output_type": "stream",
          "name": "stdout",
          "text": [
            "| ____________________ |\n",
            "| ____________________ |\n",
            "       MENU\n",
            "| ____________________ |\n",
            "| ____________________ |\n"
          ]
        }
      ]
    },
    {
      "cell_type": "markdown",
      "source": [
        "#Parâmetros de funções:\n",
        ".Dados recebidos pela função(passagem de parâmetros)\n"
      ],
      "metadata": {
        "id": "820QHn52LvXq"
      }
    },
    {
      "cell_type": "code",
      "source": [
        "def realce(s1):\n",
        "  print('|' , '__' * 10, '|')\n",
        "  print('|' , '__' * 10, '|')\n",
        "  print(s1)\n",
        "  print('|', '__' * 10, '|')\n",
        "  print('|', '__' * 10, '|')\n",
        "\n",
        "\n",
        "# programa principal\n",
        "realce('      sivaldo')\n",
        "\n"
      ],
      "metadata": {
        "colab": {
          "base_uri": "https://localhost:8080/"
        },
        "id": "NYZ6ko0rL0bf",
        "outputId": "f6883052-8038-4017-d4c5-8f82bb2d3a3b"
      },
      "execution_count": null,
      "outputs": [
        {
          "output_type": "stream",
          "name": "stdout",
          "text": [
            "| ____________________ |\n",
            "| ____________________ |\n",
            "      sivaldo\n",
            "| ____________________ |\n",
            "| ____________________ |\n"
          ]
        }
      ]
    },
    {
      "cell_type": "code",
      "source": [
        "def sub2(x, y):\n",
        "  res = x - y\n",
        "  print(res)\n",
        "\n",
        "#programa principal\n",
        "sub2(5, 7) #passagem de parâmetros para a função (5, 7)"
      ],
      "metadata": {
        "colab": {
          "base_uri": "https://localhost:8080/"
        },
        "id": "fi0gIv7rNRfp",
        "outputId": "a7cbbf35-653a-4faa-fbb7-4e8a71e30bff"
      },
      "execution_count": null,
      "outputs": [
        {
          "output_type": "stream",
          "name": "stdout",
          "text": [
            "-2\n"
          ]
        }
      ]
    },
    {
      "cell_type": "markdown",
      "source": [
        "Posso forçar a passagem de parâmetros com valores especificos"
      ],
      "metadata": {
        "id": "LQx8j1HnOuL0"
      }
    },
    {
      "cell_type": "code",
      "source": [
        "# y recebe 7 , x recebe 5\n",
        "sub2(y = 7, x = 5)"
      ],
      "metadata": {
        "colab": {
          "base_uri": "https://localhost:8080/"
        },
        "id": "VowJiosRO5SY",
        "outputId": "4b7c9d2b-ee40-4ba4-87e7-9920f8413dc9"
      },
      "execution_count": null,
      "outputs": [
        {
          "output_type": "stream",
          "name": "stdout",
          "text": [
            "-2\n"
          ]
        }
      ]
    },
    {
      "cell_type": "markdown",
      "source": [
        "#Parâmetros Opcionais"
      ],
      "metadata": {
        "id": "GU8OuliHPX4s"
      }
    },
    {
      "cell_type": "code",
      "source": [
        "def soma3(x, y, z):\n",
        "  res = x + y + z\n",
        "  print(res)"
      ],
      "metadata": {
        "id": "4NeERum6PdPM"
      },
      "execution_count": null,
      "outputs": []
    },
    {
      "cell_type": "code",
      "source": [
        "def soma3(x = 0, y = 0, z = 0):\n",
        "  res = x + y + z\n",
        "  print(res)\n",
        "soma3()"
      ],
      "metadata": {
        "id": "ZnWCUdguP-1j",
        "colab": {
          "base_uri": "https://localhost:8080/"
        },
        "outputId": "baca211d-3d61-4bb3-a4e0-4f7abc55efe4"
      },
      "execution_count": 9,
      "outputs": [
        {
          "output_type": "stream",
          "name": "stdout",
          "text": [
            "0\n"
          ]
        }
      ]
    },
    {
      "cell_type": "code",
      "source": [
        "soma3(1,2,3)\n",
        "soma3(1,2)# z foi omitido\n",
        "soma3(1) # y e z foram omitidos\n",
        "soma3()# x, y, z foram omitidos"
      ],
      "metadata": {
        "id": "RpximifcQUTp"
      },
      "execution_count": null,
      "outputs": []
    },
    {
      "cell_type": "markdown",
      "source": [
        "#Exercício"
      ],
      "metadata": {
        "id": "d2z5G9m56pID"
      }
    },
    {
      "cell_type": "code",
      "source": [
        "def borda(s1):\n",
        "  tam =len(s1)\n",
        "  #só vai imprimir caso exista algum caractere.\n",
        "  if tam:\n",
        "    print('+','=' * tam ,  ' +')\n",
        "    print('||',s1, '||')\n",
        "    print('+', '=' * tam , ' +')\n",
        "\n",
        "#programa principal\n",
        "borda('ola, mundo')\n",
        "borda('Lógica de programação')\n"
      ],
      "metadata": {
        "colab": {
          "base_uri": "https://localhost:8080/"
        },
        "id": "HhmAS3-y6ofL",
        "outputId": "fa2c90af-960a-4553-effe-06f155e90afc"
      },
      "execution_count": 21,
      "outputs": [
        {
          "output_type": "stream",
          "name": "stdout",
          "text": [
            "+ ==========  +\n",
            "|| ola, mundo ||\n",
            "+ ==========  +\n",
            "+ =====================  +\n",
            "|| Lógica de programação ||\n",
            "+ =====================  +\n"
          ]
        }
      ]
    },
    {
      "cell_type": "markdown",
      "source": [
        "#3 .Escopo de Variáveis."
      ],
      "metadata": {
        "id": "JYdtZgT9JntL"
      }
    },
    {
      "cell_type": "code",
      "source": [
        "def comida():\n",
        "  print(ovos)\n",
        "\n",
        "#programa principal\n",
        "ovos = 12\n",
        "comida()"
      ],
      "metadata": {
        "id": "jZCjvqPrJw3H",
        "colab": {
          "base_uri": "https://localhost:8080/"
        },
        "outputId": "29001da5-3bac-4234-878d-41bc74a996c0"
      },
      "execution_count": 22,
      "outputs": [
        {
          "output_type": "stream",
          "name": "stdout",
          "text": [
            "12\n"
          ]
        }
      ]
    },
    {
      "cell_type": "code",
      "source": [
        "def comida():\n",
        "  ovos = 12\n",
        "  bacon()\n",
        "  print(ovos)\n",
        "\n",
        "def bacon():\n",
        "  ovos = 6\n",
        "  \n",
        "  \n",
        "  \n",
        "#programa principal\n",
        "comida()"
      ],
      "metadata": {
        "colab": {
          "base_uri": "https://localhost:8080/"
        },
        "id": "G2BOTc7oKBe9",
        "outputId": "0b542fa3-c381-4616-a6e1-b1e1d70cb0ea"
      },
      "execution_count": 29,
      "outputs": [
        {
          "output_type": "stream",
          "name": "stdout",
          "text": [
            "12\n"
          ]
        }
      ]
    },
    {
      "cell_type": "code",
      "source": [
        "def comida():\n",
        "  ovos = 'variável local de comida'\n",
        "  print(ovos)\n",
        "\n",
        "\n",
        "def bacon():\n",
        "  ovos = 'variável local de bacon'\n",
        "  print(ovos)\n",
        "  comida()\n",
        "  print(ovos)\n",
        "\n",
        "#programa principal\n",
        "ovos = 'variável global'\n",
        "bacon()\n",
        "print(ovos)"
      ],
      "metadata": {
        "colab": {
          "base_uri": "https://localhost:8080/"
        },
        "id": "n5SNzJ5lLTTD",
        "outputId": "5cc53c48-1732-4544-cad7-4306604357d6"
      },
      "execution_count": 31,
      "outputs": [
        {
          "output_type": "stream",
          "name": "stdout",
          "text": [
            "variável local de bacon\n",
            "variável local de comida\n",
            "variável local de bacon\n",
            "variável global\n"
          ]
        }
      ]
    },
    {
      "cell_type": "markdown",
      "source": [
        "#A instrução global"
      ],
      "metadata": {
        "id": "5KMbvDfHBxaD"
      }
    },
    {
      "cell_type": "code",
      "source": [
        "def comida():\n",
        "  global ovos\n",
        "  ovos = 'comida'\n",
        "\n",
        "#programa principal\n",
        "ovos = 'global'\n",
        "comida()\n",
        "print(ovos)"
      ],
      "metadata": {
        "colab": {
          "base_uri": "https://localhost:8080/"
        },
        "id": "9qYoTPta5Aoc",
        "outputId": "1b6beea1-313c-480c-bc41-a3a1d85c55a8"
      },
      "execution_count": 32,
      "outputs": [
        {
          "output_type": "stream",
          "name": "stdout",
          "text": [
            "comida\n"
          ]
        }
      ]
    },
    {
      "cell_type": "markdown",
      "source": [
        "#Retorno De Valores Em Funções"
      ],
      "metadata": {
        "id": "DjjoUFgaEa1L"
      }
    },
    {
      "cell_type": "code",
      "source": [
        "def soma3(x = 0, y = 0, z = 0):\n",
        "  res = x + y + z \n",
        "  return res\n",
        "\n",
        "#programa principal\n",
        "retornado = soma3(1,2,3)\n",
        "\n",
        "\n",
        "#forma alternativa simplificada\n",
        "print(soma3(2,2))"
      ],
      "metadata": {
        "colab": {
          "base_uri": "https://localhost:8080/"
        },
        "id": "OrD-Po4gEkiA",
        "outputId": "cb338343-32aa-482a-e4f9-78860c3df772"
      },
      "execution_count": 45,
      "outputs": [
        {
          "output_type": "stream",
          "name": "stdout",
          "text": [
            "4\n"
          ]
        }
      ]
    },
    {
      "cell_type": "code",
      "source": [
        "#programa principal\n",
        "retornado1 = soma3(1,2,3)\n",
        "retornado2 = soma3(1,2)\n",
        "retornado3 = soma3()\n",
        "print('Somatório: {}, {} e {}.'.format(retornado1,retornado2,retornado3))\n"
      ],
      "metadata": {
        "colab": {
          "base_uri": "https://localhost:8080/"
        },
        "id": "0ibGJ99-GHOU",
        "outputId": "f62de616-6005-412d-fe96-093631a00e32"
      },
      "execution_count": 44,
      "outputs": [
        {
          "output_type": "stream",
          "name": "stdout",
          "text": [
            "Somatório: 6, 3 e 0.\n"
          ]
        }
      ]
    },
    {
      "cell_type": "markdown",
      "source": [
        "#Exercício"
      ],
      "metadata": {
        "id": "92qTCKxnHGAD"
      }
    },
    {
      "cell_type": "code",
      "source": [
        "def valida_string(pergunta,min ,max):\n",
        "  s1 = input(pergunta) # leio a string\n",
        "  tam = len(s1) # vejo o tamanho dela\n",
        "  while ((tam < min)or (tam > max)): #verifico se esta dentro do intervalo\n",
        "    s1 = input(pergunta)\n",
        "    tam = len(s1)\n",
        "  return s1 # se string estiver de acordo com pedido retorna o print final e encerra\n",
        "\n",
        "#programa principal\n",
        "x = valida_string('digite uma string: ' , 10, 30) #parâmetros\n",
        "print('Você digitou a string: {}. \\n Dado válido. encerrando o programa..'.format(x))\n"
      ],
      "metadata": {
        "colab": {
          "base_uri": "https://localhost:8080/"
        },
        "id": "QLrjiA8NHIyG",
        "outputId": "8b57f794-0202-4fc6-fd72-4c55e920c79c"
      },
      "execution_count": 47,
      "outputs": [
        {
          "output_type": "stream",
          "name": "stdout",
          "text": [
            "digite uma string: alica\n",
            "digite uma string: lucas\n",
            "digite uma string: sivaldo\n",
            "digite uma string: siavdlo alice lucas\n",
            "Você digitou a string: siavdlo alice lucas. \n",
            " dado valido. encerrando o programa..\n"
          ]
        }
      ]
    },
    {
      "cell_type": "markdown",
      "source": [
        "#Recursos avançados com funções\n",
        ".Tratamento de erros!!"
      ],
      "metadata": {
        "id": "es7n1oaxQKs1"
      }
    },
    {
      "cell_type": "code",
      "source": [
        "#Erro de sintaxe (esqueceu dos 2 pontos vai gerar um erro de sintaxe)\n",
        "while True\n",
        "print('Olá,Mundo')\n"
      ],
      "metadata": {
        "id": "fYgvjDP9Qh1g"
      },
      "execution_count": null,
      "outputs": []
    },
    {
      "cell_type": "code",
      "source": [
        "#Erro de exceção!\n",
        "\n",
        "#ZeroDivisionError - erro de divisão por zero\n",
        "100 *(2/0)\n"
      ],
      "metadata": {
        "id": "V_WYWifwQlsr"
      },
      "execution_count": null,
      "outputs": []
    },
    {
      "cell_type": "code",
      "source": [
        "#ValueError - erro de um dado não esperado sendo digitado.\n",
        "\n",
        "\n",
        "while True:\n",
        "  try:\n",
        "    x = int(input('Por favor digite um número:'))\n",
        "    break \n",
        "  except ValueError:\n",
        "    print('Oops! Número Inválido.Tente novamente')"
      ],
      "metadata": {
        "colab": {
          "base_uri": "https://localhost:8080/"
        },
        "id": "R7gsVR5_SNTT",
        "outputId": "fe760506-af67-4a0f-b594-be7cc1aac999"
      },
      "execution_count": 55,
      "outputs": [
        {
          "name": "stdout",
          "output_type": "stream",
          "text": [
            "Por favor digite um número:a\n",
            "Oops! Número Inválido.Tentte novamente\n",
            "Por favor digite um número:a\n",
            "Oops! Número Inválido.Tentte novamente\n",
            "Por favor digite um número:12\n"
          ]
        }
      ]
    },
    {
      "cell_type": "code",
      "source": [
        "\n",
        "def div():\n",
        "  try:# vai tentar executar\n",
        "    num1 = int(input('Digite um numero: '))\n",
        "    num2 = int(input('Digite um numero: '))\n",
        "    res = num1 / num2 # se tudo der certo vai cair no else\n",
        "  except ZeroDivisionError: # caso tenha algum erro de divisão por zero\n",
        "    print('Ooops! erro de divisão por zero..')\n",
        "  except: # qualquer outro erro que acontecer aparece essa mensagem\n",
        "    print('Algo de errado aconteceu..')\n",
        "  else:\n",
        "    return res\n",
        "  finally:\n",
        "    print('Executará sempre! ')\n",
        "\n",
        "  #programa principal\n",
        "\n",
        "print(div())\n"
      ],
      "metadata": {
        "colab": {
          "base_uri": "https://localhost:8080/"
        },
        "id": "pc-DebVwT3ut",
        "outputId": "c6f42f49-2502-4139-eb4e-c8944acc4dd2"
      },
      "execution_count": 63,
      "outputs": [
        {
          "output_type": "stream",
          "name": "stdout",
          "text": [
            "Digite um numero: 10\n",
            "Digite um numero: 0\n",
            "Ooops! erro de divisão por zero..\n",
            "Executará sempre! \n",
            "None\n"
          ]
        }
      ]
    },
    {
      "cell_type": "markdown",
      "source": [
        "#Função como parâmetro de função"
      ],
      "metadata": {
        "id": "5Oqj0LXxXBmN"
      }
    },
    {
      "cell_type": "code",
      "source": [
        "def imprime_com_condicao(num, fcond):\n",
        "  if fcond(num):# se atender a condição ira imprimir (num)\n",
        "    print(num)\n",
        "\n",
        "def par(x):\n",
        "  return x % 2 == 0\n",
        "\n",
        "def impar(x):\n",
        "  return not par(x)\n",
        "\n",
        "\n",
        "#programa principal\n",
        "\n",
        "imprime_com_condicao(4, par)\n"
      ],
      "metadata": {
        "id": "dztzUPu-XHJb"
      },
      "execution_count": null,
      "outputs": []
    },
    {
      "cell_type": "markdown",
      "source": [
        "#Função lambda"
      ],
      "metadata": {
        "id": "j8emtEXAZHo7"
      }
    },
    {
      "cell_type": "code",
      "source": [
        "res = lambda x: x * x\n",
        "print(res(3))"
      ],
      "metadata": {
        "colab": {
          "base_uri": "https://localhost:8080/"
        },
        "id": "veV1_SW0ZMv7",
        "outputId": "84aaf191-0f90-45f9-8e1b-6d280bb5e283"
      },
      "execution_count": 67,
      "outputs": [
        {
          "output_type": "stream",
          "name": "stdout",
          "text": [
            "9\n"
          ]
        }
      ]
    },
    {
      "cell_type": "code",
      "source": [
        "soma = lambda x , y: x + y\n",
        "print(soma(3,5))\n",
        "\n"
      ],
      "metadata": {
        "colab": {
          "base_uri": "https://localhost:8080/"
        },
        "id": "8A9RKl7KZfq2",
        "outputId": "401212e5-e375-44b9-eb9c-162756ac8f23"
      },
      "execution_count": 68,
      "outputs": [
        {
          "output_type": "stream",
          "name": "stdout",
          "text": [
            "8\n"
          ]
        }
      ]
    }
  ]
}