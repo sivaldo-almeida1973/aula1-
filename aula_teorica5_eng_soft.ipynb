{
  "nbformat": 4,
  "nbformat_minor": 0,
  "metadata": {
    "colab": {
      "provenance": [],
      "authorship_tag": "ABX9TyPD2E0DPywQYt+qQ4t+tgS0",
      "include_colab_link": true
    },
    "kernelspec": {
      "name": "python3",
      "display_name": "Python 3"
    },
    "language_info": {
      "name": "python"
    }
  },
  "cells": [
    {
      "cell_type": "markdown",
      "metadata": {
        "id": "view-in-github",
        "colab_type": "text"
      },
      "source": [
        "<a href=\"https://colab.research.google.com/github/sivaldo-almeida1973/aula1-/blob/main/aula_teorica5_eng_soft.ipynb\" target=\"_parent\"><img src=\"https://colab.research.google.com/assets/colab-badge.svg\" alt=\"Open In Colab\"/></a>"
      ]
    },
    {
      "cell_type": "markdown",
      "source": [
        "#lógica de programação e algorítimos\n",
        ".Funções"
      ],
      "metadata": {
        "id": "nyM7I3-MF3zH"
      }
    },
    {
      "cell_type": "code",
      "source": [
        "print('|' , '__' * 10, '|')\n",
        "print('|' , '__' * 10, '|')\n",
        "print('          MENU   ')\n",
        "print('|', '__' * 10, '|')\n",
        "print('|', '__' * 10, '|')\n"
      ],
      "metadata": {
        "colab": {
          "base_uri": "https://localhost:8080/"
        },
        "id": "cTJRrZykGCVj",
        "outputId": "cb30fb9d-39d1-4a99-e06b-642cf0b667e0"
      },
      "execution_count": null,
      "outputs": [
        {
          "output_type": "stream",
          "name": "stdout",
          "text": [
            "| ____________________ |\n",
            "| ____________________ |\n",
            "          MENU   \n",
            "| ____________________ |\n",
            "| ____________________ |\n"
          ]
        }
      ]
    },
    {
      "cell_type": "code",
      "source": [
        "def realce():\n",
        "  #corpo da função\n",
        "  print('|','__' * 10, '|')\n",
        "  print('|','__' * 10, '|')\n",
        "\n",
        "#Programa principal chama a função realce()\n",
        "realce()\n",
        "print('       MENU')\n",
        "realce()"
      ],
      "metadata": {
        "colab": {
          "base_uri": "https://localhost:8080/"
        },
        "id": "cbNVd4WPI5FB",
        "outputId": "c55232a5-a68c-4aad-c6ff-51fc36b97ec1"
      },
      "execution_count": null,
      "outputs": [
        {
          "output_type": "stream",
          "name": "stdout",
          "text": [
            "| ____________________ |\n",
            "| ____________________ |\n",
            "       MENU\n",
            "| ____________________ |\n",
            "| ____________________ |\n"
          ]
        }
      ]
    },
    {
      "cell_type": "markdown",
      "source": [
        "#Parâmetros de funções:\n",
        ".Dados recebidos pela função(passagem de parâmetros)\n"
      ],
      "metadata": {
        "id": "820QHn52LvXq"
      }
    },
    {
      "cell_type": "code",
      "source": [
        "def realce(s1):\n",
        "  print('|' , '__' * 10, '|')\n",
        "  print('|' , '__' * 10, '|')\n",
        "  print(s1)\n",
        "  print('|', '__' * 10, '|')\n",
        "  print('|', '__' * 10, '|')\n",
        "\n",
        "\n",
        "# programa principal\n",
        "realce('      sivaldo')\n",
        "\n"
      ],
      "metadata": {
        "colab": {
          "base_uri": "https://localhost:8080/"
        },
        "id": "NYZ6ko0rL0bf",
        "outputId": "f6883052-8038-4017-d4c5-8f82bb2d3a3b"
      },
      "execution_count": null,
      "outputs": [
        {
          "output_type": "stream",
          "name": "stdout",
          "text": [
            "| ____________________ |\n",
            "| ____________________ |\n",
            "      sivaldo\n",
            "| ____________________ |\n",
            "| ____________________ |\n"
          ]
        }
      ]
    },
    {
      "cell_type": "code",
      "source": [
        "def sub2(x, y):\n",
        "  res = x - y\n",
        "  print(res)\n",
        "\n",
        "#programa principal\n",
        "sub2(5, 7) #passagem de parâmetros para a função (5, 7)"
      ],
      "metadata": {
        "colab": {
          "base_uri": "https://localhost:8080/"
        },
        "id": "fi0gIv7rNRfp",
        "outputId": "a7cbbf35-653a-4faa-fbb7-4e8a71e30bff"
      },
      "execution_count": null,
      "outputs": [
        {
          "output_type": "stream",
          "name": "stdout",
          "text": [
            "-2\n"
          ]
        }
      ]
    },
    {
      "cell_type": "markdown",
      "source": [
        "Posso forçar a passagem de parâmetros com valores especificos"
      ],
      "metadata": {
        "id": "LQx8j1HnOuL0"
      }
    },
    {
      "cell_type": "code",
      "source": [
        "# y recebe 7 , x recebe 5\n",
        "sub2(y = 7, x = 5)"
      ],
      "metadata": {
        "colab": {
          "base_uri": "https://localhost:8080/"
        },
        "id": "VowJiosRO5SY",
        "outputId": "4b7c9d2b-ee40-4ba4-87e7-9920f8413dc9"
      },
      "execution_count": null,
      "outputs": [
        {
          "output_type": "stream",
          "name": "stdout",
          "text": [
            "-2\n"
          ]
        }
      ]
    },
    {
      "cell_type": "markdown",
      "source": [
        "#Parâmetros Opcionais"
      ],
      "metadata": {
        "id": "GU8OuliHPX4s"
      }
    },
    {
      "cell_type": "code",
      "source": [
        "def soma3(x, y, z):\n",
        "  res = x + y + z\n",
        "  print(res)"
      ],
      "metadata": {
        "id": "4NeERum6PdPM"
      },
      "execution_count": null,
      "outputs": []
    },
    {
      "cell_type": "code",
      "source": [
        "def soma3(x = 0, y = 0, z = 0):\n",
        "  res = x + y + z\n",
        "  print(res)"
      ],
      "metadata": {
        "id": "ZnWCUdguP-1j"
      },
      "execution_count": null,
      "outputs": []
    },
    {
      "cell_type": "code",
      "source": [
        "soma3(1,2,3)\n",
        "soma3(1,2)# z foi omitido\n",
        "soma3(1) # y e z foram omitidos\n",
        "soma3()# x, y, z foram omitidos"
      ],
      "metadata": {
        "colab": {
          "base_uri": "https://localhost:8080/"
        },
        "id": "RpximifcQUTp",
        "outputId": "d8f9159c-bcb6-47de-8f0d-f19a46432e80"
      },
      "execution_count": null,
      "outputs": [
        {
          "output_type": "stream",
          "name": "stdout",
          "text": [
            "6\n",
            "3\n",
            "1\n",
            "0\n"
          ]
        }
      ]
    },
    {
      "cell_type": "markdown",
      "source": [
        "#3 .Escopo de Variáveis."
      ],
      "metadata": {
        "id": "JYdtZgT9JntL"
      }
    },
    {
      "cell_type": "code",
      "source": [
        "def comida():\n",
        "  print(ovos)\n",
        "\n",
        "#programa principal\n",
        "ovos = 12\n",
        "comida()"
      ],
      "metadata": {
        "id": "jZCjvqPrJw3H"
      },
      "execution_count": null,
      "outputs": []
    },
    {
      "cell_type": "code",
      "source": [
        "def comida():\n",
        "  ovos = 12\n",
        "  bacon()\n",
        "  print(ovos)\n",
        "\n",
        "def bacon():\n",
        "  ovos = 6\n",
        "  \n",
        "#programa principal\n",
        "comida()"
      ],
      "metadata": {
        "colab": {
          "base_uri": "https://localhost:8080/"
        },
        "id": "G2BOTc7oKBe9",
        "outputId": "8409aeb5-35e6-4397-954a-80e52539ebd1"
      },
      "execution_count": 4,
      "outputs": [
        {
          "output_type": "stream",
          "name": "stdout",
          "text": [
            "12\n"
          ]
        }
      ]
    },
    {
      "cell_type": "code",
      "source": [
        "def comida():\n",
        "  ovos = 'variável local de comida'\n",
        "  print(ovos)\n",
        "\n",
        "\n",
        "def bacon():\n",
        "  ovos = 'variável local de bacon'\n",
        "  print(ovos)\n",
        "  comida()\n",
        "  print(ovos)\n",
        "\n",
        "#programa principal\n",
        "ovos = 'variável global'\n",
        "bacon()\n",
        "print(ovos)"
      ],
      "metadata": {
        "colab": {
          "base_uri": "https://localhost:8080/"
        },
        "id": "n5SNzJ5lLTTD",
        "outputId": "46ea7cb5-e5bb-4254-baa9-5296e96adc9a"
      },
      "execution_count": 5,
      "outputs": [
        {
          "output_type": "stream",
          "name": "stdout",
          "text": [
            "variável local de bacon\n",
            "variável local de comida\n",
            "variável local de bacon\n",
            "variável global\n"
          ]
        }
      ]
    }
  ]
}