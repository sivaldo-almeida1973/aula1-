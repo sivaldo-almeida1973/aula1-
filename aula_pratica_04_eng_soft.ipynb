{
  "nbformat": 4,
  "nbformat_minor": 0,
  "metadata": {
    "colab": {
      "provenance": [],
      "authorship_tag": "ABX9TyMgsQEz8vGsWrGxmFT15qBf",
      "include_colab_link": true
    },
    "kernelspec": {
      "name": "python3",
      "display_name": "Python 3"
    },
    "language_info": {
      "name": "python"
    }
  },
  "cells": [
    {
      "cell_type": "markdown",
      "metadata": {
        "id": "view-in-github",
        "colab_type": "text"
      },
      "source": [
        "<a href=\"https://colab.research.google.com/github/sivaldo-almeida1973/aula1-/blob/main/aula_pratica_04_eng_soft.ipynb\" target=\"_parent\"><img src=\"https://colab.research.google.com/assets/colab-badge.svg\" alt=\"Open In Colab\"/></a>"
      ]
    },
    {
      "cell_type": "markdown",
      "source": [
        "#while x for"
      ],
      "metadata": {
        "id": "T6GZ-gVyPRlP"
      }
    },
    {
      "cell_type": "code",
      "execution_count": null,
      "metadata": {
        "id": "TPiQ-AWsPEhV"
      },
      "outputs": [],
      "source": [
        "#inteiros de 3 até 12, com 12 incluso(while)\n",
        "x = 3\n",
        "while (x < 13):\n",
        "  print(x)\n",
        "  x += 1\n",
        "\n",
        "print('-'*20)\n",
        "\n",
        "#inteiros de 3 até 12, com 12 incluso(for)\n",
        "for i in range(3, 13, 1):\n",
        "  print(i)\n"
      ]
    },
    {
      "cell_type": "code",
      "source": [
        "#inteiros de 0 até 9, exluindo 9, com passo de 2(while)\n",
        "x = 0\n",
        "while (x < 9):\n",
        "  print(x)\n",
        "  x += 2\n",
        "\n",
        "print('-'*20)\n",
        "\n",
        "#inteiros de 0 até 9, exluindo 9, com passo de 2(for)\n",
        "for i in range (0, 9, 2):\n",
        "\n",
        "  print(i)\n"
      ],
      "metadata": {
        "id": "ukNvDt_HQLoA"
      },
      "execution_count": null,
      "outputs": []
    },
    {
      "cell_type": "markdown",
      "source": [
        "#EXERCÍCIO"
      ],
      "metadata": {
        "id": "Yz2UF3ZnoOP5"
      }
    },
    {
      "cell_type": "code",
      "source": [
        "print('=====Claculadora=====')\n",
        "print('+ adição')\n",
        "print('- subtração')\n",
        "print('* multiplicação')\n",
        "print('/ divisão')\n",
        "print('Digite qualquer tecla para sair')\n",
        "op = ''\n",
        "while (op != 's'):\n",
        "  op = input('qual operaçaõ deseja realizar?')\n",
        "  if op == '+' or op == '-' or op == '*' or op == '/':\n",
        "    valor1 = int(input('Digite o 1º valor: '))\n",
        "    valor2 = int(input('Digite o 2º valor: '))\n",
        "\n",
        "    if op == '+':\n",
        "      res = valor1 + valor2\n",
        "      print('A adição de {} + {} = {} '.format(valor1, valor2, res))\n",
        "\n",
        "\n",
        "    elif op == '-':\n",
        "      res = valor1 - valor2\n",
        "      print('A subtração de {} - {}  = {} '.format(valor1 , valor2 , res))\n",
        "\n",
        "    elif op == '*':\n",
        "      res = valor1 * valor2\n",
        "      print('A multiplicação de {} x {} = {} '.format(valor1 , valor2, res))\n",
        "\n",
        "    elif op == '/':\n",
        "      res = valor1 / valor2 \n",
        "      print('A divisão de {} / {} = {} '.format(valor1, valor2, res))\n",
        "   \n",
        "\n",
        "    op = input('qual operaçaõ deseja realizar?')\n",
        "    if op == '+' or op == '-' or op == '*' or op == '/':\n",
        "     valor1 = int(input('Digite o 1º valor: '))\n",
        "     valor2 = int(input('Digite o 2º valor: '))\n",
        "\n",
        "    else:\n",
        "     print('Operação Inválida!')\n",
        "print('Encerrando programa...')\n",
        "\n"
      ],
      "metadata": {
        "id": "GI6iWpjKoRSU"
      },
      "execution_count": null,
      "outputs": []
    },
    {
      "cell_type": "code",
      "source": [
        "# Essa maneira é a mas utilizada em python\n",
        "\n",
        "print('=====Claculadora=====')\n",
        "print('+ adição')\n",
        "print('- subtração')\n",
        "print('* multiplicação')\n",
        "print('/ divisão')\n",
        "print('Digite qualquer tecla para sair')\n",
        "\n",
        "\n",
        "while True:\n",
        "    op = input('qual operaçaõ deseja realizar?')\n",
        "    if op == '+' or op == '-' or op == '*' or op == '/':\n",
        "      x = int(input('Digite o 1º valor: '))\n",
        "      y = int(input('Digite o 2º valor: '))\n",
        "\n",
        "    if op == '+':\n",
        "      res = x + y\n",
        "      print('A adição de {} + {} = {} '.format(x, y, res))\n",
        "      continue #volta para o começo do laço\n",
        "\n",
        "    elif op == '-':\n",
        "      res = x - y\n",
        "      print('A subtração de {} - {}  = {} '.format(x , y , res))\n",
        "      continue\n",
        "    elif op == '*':\n",
        "      res = x * y\n",
        "      print('A multiplicação de {} x {} = {} '.format(x , y, res))\n",
        "      continue\n",
        "    elif op == '/':\n",
        "      res = x / y \n",
        "      print('A divisão de {} / {} = {} '.format(x, y, res))\n",
        "      continue\n",
        "    elif op == 's':\n",
        "        break\n",
        "    \n",
        "    else:\n",
        "      print('Operação Inválida!')\n",
        "\n",
        "  \n",
        "\n",
        "    \n",
        "print('Encerrando programa...')\n",
        "\n"
      ],
      "metadata": {
        "id": "4qe_quwkyZPD"
      },
      "execution_count": null,
      "outputs": []
    },
    {
      "cell_type": "markdown",
      "source": [
        "#Exercício 2"
      ],
      "metadata": {
        "id": "iBIswnnh_Hf_"
      }
    },
    {
      "cell_type": "code",
      "source": [
        "valor = int(input('Digite um valor em R$: '))\n",
        "while True:\n",
        "  if valor >= 100:\n",
        "    cedulas100 = valor // 100\n",
        "    valor = valor - cedulas100 * 100\n",
        "    print('Cédulas de R$100: {}  '.format(cedulas100 ))\n",
        "    if not valor:\n",
        "      break\n",
        "\n",
        "    \n",
        "  if valor >=50:\n",
        "    cedulas50 = valor // 50\n",
        "    valor = valor - cedulas50 * 50\n",
        "    print('Cédulas de R$50: {}'.format(cedulas50))\n",
        "    if not valor:\n",
        "      break\n",
        "\n",
        "\n",
        "  if valor >= 20:\n",
        "    cedulas20 = valor // 20\n",
        "    valor = valor - cedulas20 * 20\n",
        "    print('Cédulas de R$20: {}'.format(cedulas20))\n",
        "    if not valor:\n",
        "      break\n",
        "\n",
        "\n",
        "  if valor >= 5:\n",
        "    cedulas5 = valor // 5\n",
        "    valor = valor - cedulas5 * 5\n",
        "    print('Cédulas de R$5: {}'.format(cedulas5))\n",
        "    if not valor:\n",
        "      break\n",
        "\n",
        "\n",
        "  if valor >= 1:\n",
        "    cedulas1 = valor // 1\n",
        "    valor = valor - cedulas1 * 1\n",
        "    print('Cédulas de R$1 : {}'.format(cedulas1))\n",
        "    break\n",
        "\n",
        "print('Operação Realizada com Sucesso!')"
      ],
      "metadata": {
        "colab": {
          "base_uri": "https://localhost:8080/"
        },
        "id": "l5TcktAW_Gpw",
        "outputId": "befdf10b-3250-4f7d-a11c-583067936d3e"
      },
      "execution_count": 55,
      "outputs": [
        {
          "output_type": "stream",
          "name": "stdout",
          "text": [
            "Digite um valor em R$: 100055\n",
            "Cédulas de R$100: 1000  \n",
            "Cédulas de R$50: 1\n",
            "Cédulas de R$5: 1\n",
            "Operação Realizada com Sucesso!\n"
          ]
        }
      ]
    },
    {
      "cell_type": "markdown",
      "source": [
        "#Exercício 3"
      ],
      "metadata": {
        "id": "likaQB6MV-Iu"
      }
    },
    {
      "cell_type": "code",
      "source": [
        "total = 0\n",
        "dinheiro = 0\n",
        "\n",
        "while True:\n",
        "  idade = input('Qual sua idade? ')\n",
        "  if idade == 'sair':\n",
        "    break\n",
        "\n",
        "  idade = int(idade)\n",
        "  total += 1\n",
        "  if idade < 3:\n",
        "    ingresso = 0\n",
        "  else:\n",
        "    if idade >= 3 and idade < 12:\n",
        "      ingresso = 15\n",
        "    else:\n",
        "      if idade > 12:\n",
        "        ingresso = 30\n",
        "  dinheiro += ingresso\n",
        "\n",
        "media = dinheiro / total\n",
        "print('total de pessoas: {}'.format(total))\n",
        "print('Total arrecadado: {}'.format(dinheiro))\n",
        "print('Media arrecadada: {}'.format(media))\n",
        "\n",
        "\n"
      ],
      "metadata": {
        "colab": {
          "base_uri": "https://localhost:8080/"
        },
        "id": "pqexZa8NWBUi",
        "outputId": "c63c59ee-fa24-4956-9e57-37fa019acb14"
      },
      "execution_count": 58,
      "outputs": [
        {
          "output_type": "stream",
          "name": "stdout",
          "text": [
            "Qual sua idade? 10\n",
            "Qual sua idade? 15\n",
            "Qual sua idade? 3\n",
            "Qual sua idade? 2\n",
            "Qual sua idade? sair\n",
            "total de pessoas: 5\n",
            "Total arrecadado: 60\n",
            "Media arrecadada: 12.0\n"
          ]
        }
      ]
    }
  ]
}