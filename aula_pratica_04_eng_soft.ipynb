{
  "nbformat": 4,
  "nbformat_minor": 0,
  "metadata": {
    "colab": {
      "provenance": [],
      "authorship_tag": "ABX9TyP3fQGqbkIuvsCT3qZV1JyE",
      "include_colab_link": true
    },
    "kernelspec": {
      "name": "python3",
      "display_name": "Python 3"
    },
    "language_info": {
      "name": "python"
    }
  },
  "cells": [
    {
      "cell_type": "markdown",
      "metadata": {
        "id": "view-in-github",
        "colab_type": "text"
      },
      "source": [
        "<a href=\"https://colab.research.google.com/github/sivaldo-almeida1973/aula1-/blob/main/aula_pratica_04_eng_soft.ipynb\" target=\"_parent\"><img src=\"https://colab.research.google.com/assets/colab-badge.svg\" alt=\"Open In Colab\"/></a>"
      ]
    },
    {
      "cell_type": "markdown",
      "source": [
        "#while x for"
      ],
      "metadata": {
        "id": "T6GZ-gVyPRlP"
      }
    },
    {
      "cell_type": "code",
      "execution_count": null,
      "metadata": {
        "id": "TPiQ-AWsPEhV"
      },
      "outputs": [],
      "source": [
        "#inteiros de 3 até 12, com 12 incluso(while)\n",
        "x = 3\n",
        "while (x < 13):\n",
        "  print(x)\n",
        "  x += 1\n",
        "\n",
        "print('-'*20)\n",
        "\n",
        "#inteiros de 3 até 12, com 12 incluso(for)\n",
        "for i in range(3, 13, 1):\n",
        "  print(i)\n"
      ]
    },
    {
      "cell_type": "code",
      "source": [
        "#inteiros de 0 até 9, exluindo 9, com passo de 2(while)\n",
        "x = 0\n",
        "while (x < 9):\n",
        "  print(x)\n",
        "  x += 2\n",
        "\n",
        "print('-'*20)\n",
        "\n",
        "#inteiros de 0 até 9, exluindo 9, com passo de 2(for)\n",
        "for i in range (0, 9, 2):\n",
        "\n",
        "  print(i)\n"
      ],
      "metadata": {
        "id": "ukNvDt_HQLoA"
      },
      "execution_count": null,
      "outputs": []
    },
    {
      "cell_type": "markdown",
      "source": [
        "#EXERCÍCIO"
      ],
      "metadata": {
        "id": "Yz2UF3ZnoOP5"
      }
    },
    {
      "cell_type": "code",
      "source": [
        "print('=====Claculadora=====')\n",
        "print('+ adição')\n",
        "print('- subtração')\n",
        "print('* multiplicação')\n",
        "print('/ divisão')\n",
        "print('Digite qualquer tecla para sair')\n",
        "op = ''\n",
        "while (op != 's'):\n",
        "  op = input('qual operaçaõ deseja realizar?')\n",
        "  if op == '+' or op == '-' or op == '*' or op == '/':\n",
        "    valor1 = int(input('Digite o 1º valor: '))\n",
        "    valor2 = int(input('Digite o 2º valor: '))\n",
        "\n",
        "    if op == '+':\n",
        "      res = valor1 + valor2\n",
        "      print('A adição de {} + {} = {} '.format(valor1, valor2, res))\n",
        "\n",
        "\n",
        "    elif op == '-':\n",
        "      res = valor1 - valor2\n",
        "      print('A subtração de {} - {}  = {} '.format(valor1 , valor2 , res))\n",
        "\n",
        "    elif op == '*':\n",
        "      res = valor1 * valor2\n",
        "      print('A multiplicação de {} x {} = {} '.format(valor1 , valor2, res))\n",
        "\n",
        "    elif op == '/':\n",
        "      res = valor1 / valor2 \n",
        "      print('A divisão de {} / {} = {} '.format(valor1, valor2, res))\n",
        "   \n",
        "\n",
        "    op = input('qual operaçaõ deseja realizar?')\n",
        "    if op == '+' or op == '-' or op == '*' or op == '/':\n",
        "     valor1 = int(input('Digite o 1º valor: '))\n",
        "     valor2 = int(input('Digite o 2º valor: '))\n",
        "\n",
        "    else:\n",
        "     print('Operação Inválida!')\n",
        "print('Encerrando programa...')\n",
        "\n"
      ],
      "metadata": {
        "id": "GI6iWpjKoRSU",
        "colab": {
          "base_uri": "https://localhost:8080/"
        },
        "outputId": "8d786c5e-fa1c-453f-ff0c-e44fcb81dcbb"
      },
      "execution_count": 29,
      "outputs": [
        {
          "output_type": "stream",
          "name": "stdout",
          "text": [
            "=====Claculadora=====\n",
            "+ adição\n",
            "- subtração\n",
            "* multiplicação\n",
            "/ divisão\n",
            "Digite qualquer tecla para sair\n",
            "qual operaçaõ deseja realizar?s\n",
            "Encerrando programa...\n"
          ]
        }
      ]
    },
    {
      "cell_type": "code",
      "source": [
        "# Essa maneira é a mas utilizada em python\n",
        "\n",
        "print('=====Claculadora=====')\n",
        "print('+ adição')\n",
        "print('- subtração')\n",
        "print('* multiplicação')\n",
        "print('/ divisão')\n",
        "print('Digite qualquer tecla para sair')\n",
        "\n",
        "\n",
        "while True:\n",
        "    op = input('qual operaçaõ deseja realizar?')\n",
        "    if op == '+' or op == '-' or op == '*' or op == '/':\n",
        "      x = int(input('Digite o 1º valor: '))\n",
        "      y = int(input('Digite o 2º valor: '))\n",
        "\n",
        "    if op == '+':\n",
        "      res = x + y\n",
        "      print('A adição de {} + {} = {} '.format(x, y, res))\n",
        "      continue #volta para o começo do laço\n",
        "\n",
        "    elif op == '-':\n",
        "      res = x - y\n",
        "      print('A subtração de {} - {}  = {} '.format(x , y , res))\n",
        "      continue\n",
        "    elif op == '*':\n",
        "      res = x * y\n",
        "      print('A multiplicação de {} x {} = {} '.format(x , y, res))\n",
        "      continue\n",
        "    elif op == '/':\n",
        "      res = x / y \n",
        "      print('A divisão de {} / {} = {} '.format(x, y, res))\n",
        "      continue\n",
        "    elif op == 's':\n",
        "        break\n",
        "    \n",
        "    else:\n",
        "      print('Operação Inválida!')\n",
        "\n",
        "  \n",
        "\n",
        "    \n",
        "print('Encerrando programa...')\n",
        "\n"
      ],
      "metadata": {
        "colab": {
          "base_uri": "https://localhost:8080/"
        },
        "id": "4qe_quwkyZPD",
        "outputId": "d3a22287-8153-4a83-be7e-45e8e6505b2a"
      },
      "execution_count": 28,
      "outputs": [
        {
          "output_type": "stream",
          "name": "stdout",
          "text": [
            "=====Claculadora=====\n",
            "+ adição\n",
            "- subtração\n",
            "* multiplicação\n",
            "/ divisão\n",
            "Digite qualquer tecla para sair\n",
            "qual operaçaõ deseja realizar?s\n",
            "Encerrando programa...\n"
          ]
        }
      ]
    }
  ]
}