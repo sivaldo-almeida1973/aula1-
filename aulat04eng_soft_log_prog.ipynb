{
  "nbformat": 4,
  "nbformat_minor": 0,
  "metadata": {
    "colab": {
      "provenance": [],
      "authorship_tag": "ABX9TyMcduZ651cqL3ItX8//YlZK",
      "include_colab_link": true
    },
    "kernelspec": {
      "name": "python3",
      "display_name": "Python 3"
    },
    "language_info": {
      "name": "python"
    }
  },
  "cells": [
    {
      "cell_type": "markdown",
      "metadata": {
        "id": "view-in-github",
        "colab_type": "text"
      },
      "source": [
        "<a href=\"https://colab.research.google.com/github/sivaldo-almeida1973/aula1-/blob/main/aulat04eng_soft_log_prog.ipynb\" target=\"_parent\"><img src=\"https://colab.research.google.com/assets/colab-badge.svg\" alt=\"Open In Colab\"/></a>"
      ]
    },
    {
      "cell_type": "markdown",
      "source": [],
      "metadata": {
        "id": "dIMj9i21Q39Y"
      }
    },
    {
      "cell_type": "markdown",
      "source": [
        "##Estruturas de Repetições"
      ],
      "metadata": {
        "id": "O2rwEiH3QcXp"
      }
    },
    {
      "cell_type": "markdown",
      "source": [
        "Sinonimos: estrutura iterativa, laço de repetição ou loop de repetição"
      ],
      "metadata": {
        "id": "Rtnvdc1DREXt"
      }
    },
    {
      "cell_type": "code",
      "execution_count": 1,
      "metadata": {
        "colab": {
          "base_uri": "https://localhost:8080/"
        },
        "id": "fXQjHfCkP_R6",
        "outputId": "63678c66-2ac8-469e-d2b4-88a105f46b72"
      },
      "outputs": [
        {
          "output_type": "stream",
          "name": "stdout",
          "text": [
            "1\n",
            "2\n",
            "3\n",
            "4\n",
            "5\n"
          ]
        }
      ],
      "source": [
        "print(1)\n",
        "print(2)\n",
        "print(3)\n",
        "print(4)\n",
        "print(5)"
      ]
    },
    {
      "cell_type": "code",
      "source": [
        "x = 1\n",
        "print(x)\n",
        "\n",
        "x = 2\n",
        "print(x)\n",
        "\n",
        "x = 3\n",
        "print(x)\n",
        "\n",
        "x = 4\n",
        "print(x)\n",
        "\n",
        "x = 5\n",
        "print(x)\n",
        "\n"
      ],
      "metadata": {
        "colab": {
          "base_uri": "https://localhost:8080/"
        },
        "id": "PvwV0zLyR0ma",
        "outputId": "68364f83-f0df-4d21-982b-f0946b081524"
      },
      "execution_count": 2,
      "outputs": [
        {
          "output_type": "stream",
          "name": "stdout",
          "text": [
            "1\n",
            "2\n",
            "3\n",
            "4\n",
            "5\n"
          ]
        }
      ]
    },
    {
      "cell_type": "code",
      "source": [
        "x = 1\n",
        "print(x)\n",
        "x = x + 1\n",
        "print(x)\n",
        "x = x + 1\n",
        "print(x)\n",
        "x = x + 1\n",
        "print(x)\n",
        "x = x + 1\n",
        "print(x)\n"
      ],
      "metadata": {
        "colab": {
          "base_uri": "https://localhost:8080/"
        },
        "id": "BzthBFkbSS94",
        "outputId": "4a6bd430-1335-45fd-9d86-8ff9f746285c"
      },
      "execution_count": 3,
      "outputs": [
        {
          "output_type": "stream",
          "name": "stdout",
          "text": [
            "1\n",
            "2\n",
            "3\n",
            "4\n",
            "5\n"
          ]
        }
      ]
    },
    {
      "cell_type": "markdown",
      "source": [
        "#Estrutura de repetição while(enquanto)"
      ],
      "metadata": {
        "id": "45vrxOSuTBNK"
      }
    },
    {
      "cell_type": "markdown",
      "source": [
        "Cuidado com a indentação!"
      ],
      "metadata": {
        "id": "O3mufEzuTuhp"
      }
    },
    {
      "cell_type": "markdown",
      "source": [
        "enquanto x menor que 6"
      ],
      "metadata": {
        "id": "Z7Aia0GDUbah"
      }
    },
    {
      "cell_type": "code",
      "source": [
        "x = 1\n",
        "while (x < 6):\n",
        "  print(x)\n",
        "  x = x + 1"
      ],
      "metadata": {
        "colab": {
          "base_uri": "https://localhost:8080/"
        },
        "id": "tc3xVHOiS7VI",
        "outputId": "f2298efd-47c6-48df-c2b2-5be280534828"
      },
      "execution_count": 8,
      "outputs": [
        {
          "output_type": "stream",
          "name": "stdout",
          "text": [
            "1\n",
            "2\n",
            "3\n",
            "4\n",
            "5\n"
          ]
        }
      ]
    },
    {
      "cell_type": "markdown",
      "source": [
        "#Variavel de controle ou iterador:"
      ],
      "metadata": {
        "id": "Ue0XboYjUtpq"
      }
    },
    {
      "cell_type": "code",
      "source": [
        "x = 0\n",
        "while(x <= 9):\n",
        "  print(x)\n",
        "  x = x + 1"
      ],
      "metadata": {
        "colab": {
          "base_uri": "https://localhost:8080/"
        },
        "id": "gUqa7YjTU7G4",
        "outputId": "230435a7-556c-4080-affa-0c2cf320d6fe"
      },
      "execution_count": 10,
      "outputs": [
        {
          "output_type": "stream",
          "name": "stdout",
          "text": [
            "0\n",
            "1\n",
            "2\n",
            "3\n",
            "4\n",
            "5\n",
            "6\n",
            "7\n",
            "8\n",
            "9\n"
          ]
        }
      ]
    },
    {
      "cell_type": "markdown",
      "source": [
        "##variaveis contadoras e acumuladoras\n",
        "contadoras: acrescentam valores em uma variavel-\n",
        "Acumuladoras: acumulam totais, como um somatorio"
      ],
      "metadata": {
        "id": "twXtXU-bVZuF"
      }
    },
    {
      "cell_type": "markdown",
      "source": [
        "##contador"
      ],
      "metadata": {
        "id": "3DPBMtKcXQ5i"
      }
    },
    {
      "cell_type": "code",
      "source": [
        "inicio = int(input('Qual valor deseja iniciar a contagem? '))\n",
        "final = int(input('Qual valor deseja encerrar a contagem? '))\n",
        "x = inicio\n",
        "while (x <= final):\n",
        "  if (x % 2 == 0):\n",
        "    print(x)\n",
        "  x = x + 1\n"
      ],
      "metadata": {
        "colab": {
          "base_uri": "https://localhost:8080/"
        },
        "id": "rGwqcidMVKAZ",
        "outputId": "c80e72e3-8096-4509-8fb6-a6dfa452d528"
      },
      "execution_count": 11,
      "outputs": [
        {
          "output_type": "stream",
          "name": "stdout",
          "text": [
            "Qual valor deseja iniciar a contagem? 10\n",
            "Qual valor deseja encerrar a contagem? 20\n",
            "10\n",
            "12\n",
            "14\n",
            "16\n",
            "18\n",
            "20\n"
          ]
        }
      ]
    },
    {
      "cell_type": "markdown",
      "source": [
        "##Acumulador:"
      ],
      "metadata": {
        "id": "p3F3ldGKXT9K"
      }
    },
    {
      "cell_type": "code",
      "source": [
        "soma = 0\n",
        "cont = 1\n",
        "while (cont <= 5):\n",
        "  x = float(input('Digite a {}ª nota:'.format(cont)))\n",
        "  soma = soma + x \n",
        "  cont = cont + 1\n",
        "media = soma / 5\n",
        "print('media final : {}'.format(media))"
      ],
      "metadata": {
        "colab": {
          "base_uri": "https://localhost:8080/"
        },
        "id": "Kn8tGN8uWuv3",
        "outputId": "b76226d9-6254-4bc4-9c85-eb85af9b5826"
      },
      "execution_count": 12,
      "outputs": [
        {
          "output_type": "stream",
          "name": "stdout",
          "text": [
            "Digite a 1ª nota:6\n",
            "Digite a 2ª nota:9\n",
            "Digite a 3ª nota:8\n",
            "Digite a 4ª nota:4\n",
            "Digite a 5ª nota:6\n",
            "media final : 6.6\n"
          ]
        }
      ]
    },
    {
      "cell_type": "code",
      "source": [],
      "metadata": {
        "id": "w8jYQeBjYFGm"
      },
      "execution_count": null,
      "outputs": []
    }
  ]
}