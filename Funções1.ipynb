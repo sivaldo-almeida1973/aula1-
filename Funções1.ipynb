{
  "nbformat": 4,
  "nbformat_minor": 0,
  "metadata": {
    "colab": {
      "provenance": [],
      "authorship_tag": "ABX9TyPE6Vc2/ddT2qhCp0CCWDWY",
      "include_colab_link": true
    },
    "kernelspec": {
      "name": "python3",
      "display_name": "Python 3"
    },
    "language_info": {
      "name": "python"
    }
  },
  "cells": [
    {
      "cell_type": "markdown",
      "metadata": {
        "id": "view-in-github",
        "colab_type": "text"
      },
      "source": [
        "<a href=\"https://colab.research.google.com/github/sivaldo-almeida1973/aula1-/blob/main/Fun%C3%A7%C3%B5es1.ipynb\" target=\"_parent\"><img src=\"https://colab.research.google.com/assets/colab-badge.svg\" alt=\"Open In Colab\"/></a>"
      ]
    },
    {
      "cell_type": "markdown",
      "source": [],
      "metadata": {
        "id": "wfXPfQOHWZfR"
      }
    },
    {
      "cell_type": "markdown",
      "source": [
        "#funcões\n"
      ],
      "metadata": {
        "id": "GfaK6-vrV0xv"
      }
    },
    {
      "cell_type": "code",
      "source": [
        "print('|','__'*10,'|')\n",
        "print('|','__'*10,'|')\n",
        "print('         MENU')\n",
        "print('|','__'*10,'|')\n",
        "print('|','__'*10,'|')"
      ],
      "metadata": {
        "id": "qII1IeQ0V5ik"
      },
      "execution_count": null,
      "outputs": []
    },
    {
      "cell_type": "code",
      "source": [
        "def realce():\n",
        "  #corpo da função\n",
        "  print('|','__' * 10,'|')\n",
        "  print('|','__' * 10,'|')\n",
        "\n",
        " "
      ],
      "metadata": {
        "colab": {
          "base_uri": "https://localhost:8080/"
        },
        "id": "6BxO4Iu-W1Z3",
        "outputId": "695ed873-1fb7-4ff1-b09f-289d8ae3919b"
      },
      "execution_count": null,
      "outputs": [
        {
          "output_type": "stream",
          "name": "stdout",
          "text": [
            "| ____________________ |\n",
            "| ____________________ |\n",
            "          MENU\n",
            "| ____________________ |\n",
            "| ____________________ |\n"
          ]
        }
      ]
    },
    {
      "cell_type": "code",
      "source": [
        " #programa principal\n",
        "realce()\n",
        "print('          MENU')\n",
        "realce()"
      ],
      "metadata": {
        "colab": {
          "base_uri": "https://localhost:8080/"
        },
        "id": "CEO5ys7UYUIH",
        "outputId": "e1a6a34b-c65b-4dcf-e12f-ea58a7a5514c"
      },
      "execution_count": null,
      "outputs": [
        {
          "output_type": "stream",
          "name": "stdout",
          "text": [
            "| ____________________ |\n",
            "| ____________________ |\n",
            "          MENU\n",
            "| ____________________ |\n",
            "| ____________________ |\n"
          ]
        }
      ]
    },
    {
      "cell_type": "markdown",
      "source": [
        "#funções \n",
        "passagem de parametros:\n",
        "dados recebidos pelas funções"
      ],
      "metadata": {
        "id": "Kr-mO5ATemzB"
      }
    },
    {
      "cell_type": "code",
      "source": [
        "def realce(s1):\n",
        "  #corpo da função\n",
        "  print('|','__' * 10,'|')\n",
        "  print('|','__' * 10,'|')\n",
        "  print(s1)\n",
        "  \n",
        "  print('|','__' * 10,'|')\n",
        "  print('|','__' * 10,'|')\n",
        "\n",
        " "
      ],
      "metadata": {
        "id": "pN0g0gHIetp8"
      },
      "execution_count": null,
      "outputs": []
    },
    {
      "cell_type": "code",
      "source": [
        "realce('      sivaldo')"
      ],
      "metadata": {
        "colab": {
          "base_uri": "https://localhost:8080/"
        },
        "id": "TPyx1i5ByGHg",
        "outputId": "65c3d775-48c0-465b-fde6-200950d9b56e"
      },
      "execution_count": null,
      "outputs": [
        {
          "output_type": "stream",
          "name": "stdout",
          "text": [
            "| ____________________ |\n",
            "| ____________________ |\n",
            "      sivaldo\n",
            "| ____________________ |\n",
            "| ____________________ |\n"
          ]
        }
      ]
    },
    {
      "cell_type": "markdown",
      "source": [
        "#mais de um parâmetro"
      ],
      "metadata": {
        "id": "Hq06qS1gywXg"
      }
    },
    {
      "cell_type": "code",
      "source": [
        "def sub2(x,y):\n",
        "  res = x - y \n",
        "  print(res)\n",
        "\n",
        "sub2(5, 7)"
      ],
      "metadata": {
        "colab": {
          "base_uri": "https://localhost:8080/"
        },
        "id": "zLRJOYg4jqP7",
        "outputId": "56b57c22-c34f-4180-a94a-ceab04fc1f11"
      },
      "execution_count": null,
      "outputs": [
        {
          "output_type": "stream",
          "name": "stdout",
          "text": [
            "-2\n"
          ]
        }
      ]
    },
    {
      "cell_type": "code",
      "source": [
        "sub2(7, 5)"
      ],
      "metadata": {
        "colab": {
          "base_uri": "https://localhost:8080/"
        },
        "id": "kYwRM1WgkWrb",
        "outputId": "c69bc860-4b87-4d90-9617-e715073d91ee"
      },
      "execution_count": null,
      "outputs": [
        {
          "output_type": "stream",
          "name": "stdout",
          "text": [
            "2\n"
          ]
        }
      ]
    },
    {
      "cell_type": "code",
      "source": [
        "sub2(y = 7, x = 5)"
      ],
      "metadata": {
        "colab": {
          "base_uri": "https://localhost:8080/"
        },
        "id": "ioDFsoxSyiJ5",
        "outputId": "5091bd2c-4efa-42ff-dfcb-294900db6c0f"
      },
      "execution_count": null,
      "outputs": [
        {
          "output_type": "stream",
          "name": "stdout",
          "text": [
            "-2\n"
          ]
        }
      ]
    },
    {
      "cell_type": "markdown",
      "source": [
        "#Parâmetros opcionais\n"
      ],
      "metadata": {
        "id": "voU8_j3zkfYy"
      }
    },
    {
      "cell_type": "code",
      "source": [
        "def soma3(x, y, z):\n",
        "  res = x + y + z\n",
        "  print(res)\n",
        "  "
      ],
      "metadata": {
        "id": "Q3IyXN12kq-a"
      },
      "execution_count": null,
      "outputs": []
    },
    {
      "cell_type": "code",
      "source": [
        "def soma3(x = 0, y = 0, z = 0):\n",
        "  res = x + y + z\n",
        "  print(res)\n"
      ],
      "metadata": {
        "id": "FelStMbplrdj"
      },
      "execution_count": null,
      "outputs": []
    },
    {
      "cell_type": "code",
      "source": [
        "soma3(1,2,3)\n",
        "soma3(1,2) # z foi omitido\n",
        "soma3(1) #y e z foram omitidos\n",
        "soma3() # x, y, z foram omitidos"
      ],
      "metadata": {
        "id": "hl1F2eGZmK9e",
        "colab": {
          "base_uri": "https://localhost:8080/"
        },
        "outputId": "cd373b71-99b9-4614-a5ae-1d738bcd5783"
      },
      "execution_count": null,
      "outputs": [
        {
          "output_type": "stream",
          "name": "stdout",
          "text": [
            "6\n",
            "3\n",
            "1\n",
            "0\n"
          ]
        }
      ]
    },
    {
      "cell_type": "markdown",
      "source": [
        "#Exercício\n",
        "escreva uma rotina que crie uma borda ao redor de uma palavra para destaca-la como sendo um titulo.A rotina deve receber como parâmetro a palavra a ser destacada.O tamanho da caixa de texto deverá ser adaptavél com o tamanho da palavra."
      ],
      "metadata": {
        "id": "q2shSvZc0lyI"
      }
    },
    {
      "cell_type": "code",
      "source": [
        "#exercício\n",
        "def borda (s1):\n",
        "  tam = len(s1)\n",
        "  #só imprime caso exista algum caractere\n",
        "  if tam:\n",
        "    print('+','-' * tam,'+')\n",
        "    print('|' ,s1 ,'|')\n",
        "    print('+','-' * tam,'+')\n",
        "\n",
        "borda('Olá, Mundo!')\n",
        "borda('Lógica de programação e algoritimo')"
      ],
      "metadata": {
        "id": "_Plvcj3107hu"
      },
      "execution_count": null,
      "outputs": []
    },
    {
      "cell_type": "code",
      "source": [
        "def pais(p1):\n",
        "  tam = len(p1)\n",
        "  if tam: \n",
        "    print('+','=' * tam,'+')\n",
        "    print('|',p1 ,'|')\n",
        "    print('+','=' * tam,'+')\n",
        "\n",
        "pais('Brasil')\n",
        "pais('Portugal')\n",
        "pais('Italia')\n"
      ],
      "metadata": {
        "colab": {
          "base_uri": "https://localhost:8080/"
        },
        "id": "WWuflRIeAYkw",
        "outputId": "10a07182-8fac-4144-926a-6755933a561d"
      },
      "execution_count": null,
      "outputs": [
        {
          "output_type": "stream",
          "name": "stdout",
          "text": [
            "+ ====== +\n",
            "| Brasil |\n",
            "+ ====== +\n",
            "+ ======== +\n",
            "| Portugal |\n",
            "+ ======== +\n",
            "+ ====== +\n",
            "| Italia |\n",
            "+ ====== +\n"
          ]
        }
      ]
    }
  ]
}