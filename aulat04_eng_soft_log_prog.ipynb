{
  "nbformat": 4,
  "nbformat_minor": 0,
  "metadata": {
    "colab": {
      "provenance": [],
      "authorship_tag": "ABX9TyOLILkHMedC/LwoXtkhtzBf",
      "include_colab_link": true
    },
    "kernelspec": {
      "name": "python3",
      "display_name": "Python 3"
    },
    "language_info": {
      "name": "python"
    }
  },
  "cells": [
    {
      "cell_type": "markdown",
      "metadata": {
        "id": "view-in-github",
        "colab_type": "text"
      },
      "source": [
        "<a href=\"https://colab.research.google.com/github/sivaldo-almeida1973/aula1-/blob/main/aulat04_eng_soft_log_prog.ipynb\" target=\"_parent\"><img src=\"https://colab.research.google.com/assets/colab-badge.svg\" alt=\"Open In Colab\"/></a>"
      ]
    },
    {
      "cell_type": "markdown",
      "source": [
        "#Operadores Especiais de aribuiçãp\n",
        "+=,   -=,   *=,   /=,   **=,  //= "
      ],
      "metadata": {
        "id": "6LDjVTx0oySh"
      }
    },
    {
      "cell_type": "code",
      "source": [
        "soma = 0 \n",
        "cont = 1\n",
        "while (cont <= 5):\n",
        "  x = int(input('digite o {}ª numero:'. format(cont)))\n",
        "  soma += x\n",
        "  cont += 1\n",
        "print('Somatorio: {}'.format(soma))\n",
        "\n"
      ],
      "metadata": {
        "colab": {
          "base_uri": "https://localhost:8080/"
        },
        "id": "vTlNqnmlpLnV",
        "outputId": "15443c2a-b865-48e9-9749-85425d165a7d"
      },
      "execution_count": null,
      "outputs": [
        {
          "output_type": "stream",
          "name": "stdout",
          "text": [
            "digite o 1ª numero:2\n",
            "digite o 2ª numero:2\n",
            "digite o 3ª numero:3\n",
            "digite o 4ª numero:6\n",
            "digite o 5ª numero:9\n",
            "Somatorio: 22\n"
          ]
        }
      ]
    },
    {
      "cell_type": "markdown",
      "source": [
        "#Validando dados de entrada"
      ],
      "metadata": {
        "id": "YqtlGEmsH4uC"
      }
    },
    {
      "cell_type": "code",
      "source": [
        "x = int(input('Digite um valor maior do que zero:'))\n",
        "while (x <= 0):\n",
        "  x = int(input('Digite um valor maior que zero: '))\n",
        "  print('Voce digitou {} .Encerrando o programa...'.format(x))"
      ],
      "metadata": {
        "id": "5-SRKLLVqbLt",
        "colab": {
          "base_uri": "https://localhost:8080/"
        },
        "outputId": "9310269f-03d0-4a2e-abdd-8458407750ac"
      },
      "execution_count": null,
      "outputs": [
        {
          "output_type": "stream",
          "name": "stdout",
          "text": [
            "Digite um valor maior do que zero:0\n",
            "Digite um valor maior que zero: 3\n",
            "Voce digitou 3 .Encerrando o programa...\n"
          ]
        }
      ]
    },
    {
      "cell_type": "markdown",
      "source": [
        "#Instrução break\n",
        "encerra um laço de repetição previamente independente do estado da variavel de controle do laço."
      ],
      "metadata": {
        "id": "LVtTILKdJgYq"
      }
    },
    {
      "cell_type": "code",
      "source": [
        "print('digite um amensagem que irei repetir para voce! ')\n",
        "print('Para encerrar escreva \"sair\".')\n",
        "while True:\n",
        "  texto = input('')\n",
        "  print(texto)\n",
        "  if texto == 'sair':\n",
        "    break \n",
        "print('Encerrando o programa...')\n"
      ],
      "metadata": {
        "id": "5V_49dcwLglx"
      },
      "execution_count": null,
      "outputs": []
    },
    {
      "cell_type": "markdown",
      "source": [
        "#Instrução continue\n",
        "serve para retornar o laço ao inicio a qualquer momento"
      ],
      "metadata": {
        "id": "lP2ZtuUlOfqe"
      }
    },
    {
      "cell_type": "code",
      "source": [
        "while True:\n",
        "  nome = input('Qual o seu nome? ')\n",
        "  if (nome != 'sivaldo'):\n",
        "    continue\n",
        "  senha = input('Qual a sua senha?')\n",
        "  if (senha == 'uninter'):\n",
        "    break\n",
        "print('Acesso concedido.')\n"
      ],
      "metadata": {
        "id": "SCuNWJ7TNEwZ"
      },
      "execution_count": null,
      "outputs": []
    },
    {
      "cell_type": "markdown",
      "source": [
        "#Valores Truthy e Falsey"
      ],
      "metadata": {
        "id": "HwxP-N1UQRj9"
      }
    },
    {
      "cell_type": "code",
      "source": [
        "nome = ''\n",
        "while not nome:\n",
        "  nome = input('Digite seu nome: ')\n",
        "  valor = int(input('Digite um valor qualquer: '))\n",
        "  if valor:\n",
        "    print('Voce digitou um valor diferente de zero:')\n",
        "  else:\n",
        "      print('Voce digitou zero:')"
      ],
      "metadata": {
        "colab": {
          "base_uri": "https://localhost:8080/"
        },
        "id": "88_DLC62Pffi",
        "outputId": "dede5d97-96c7-4486-af2d-e8e8f1e10eb8"
      },
      "execution_count": 16,
      "outputs": [
        {
          "output_type": "stream",
          "name": "stdout",
          "text": [
            "Digite seu nome: ddd\n",
            "Digite um valor qualquer: 0\n",
            "Voce digitou zero:\n"
          ]
        }
      ]
    },
    {
      "cell_type": "code",
      "source": [],
      "metadata": {
        "id": "lXZtzXjCR7RY"
      },
      "execution_count": null,
      "outputs": []
    }
  ]
}