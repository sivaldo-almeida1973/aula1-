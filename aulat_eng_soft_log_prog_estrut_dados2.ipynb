{
  "nbformat": 4,
  "nbformat_minor": 0,
  "metadata": {
    "colab": {
      "provenance": [],
      "authorship_tag": "ABX9TyMPW6vxzjjzSNantCf68qn3",
      "include_colab_link": true
    },
    "kernelspec": {
      "name": "python3",
      "display_name": "Python 3"
    },
    "language_info": {
      "name": "python"
    }
  },
  "cells": [
    {
      "cell_type": "markdown",
      "metadata": {
        "id": "view-in-github",
        "colab_type": "text"
      },
      "source": [
        "<a href=\"https://colab.research.google.com/github/sivaldo-almeida1973/aula1-/blob/main/aulat_eng_soft_log_prog_estrut_dados2.ipynb\" target=\"_parent\"><img src=\"https://colab.research.google.com/assets/colab-badge.svg\" alt=\"Open In Colab\"/></a>"
      ]
    },
    {
      "cell_type": "markdown",
      "source": [
        "#listas\n",
        "Estrutura de dados dinâmica-podemos alterar dados e tamanho-indexadas por valores numéricos inteiros-representadas em python por colchetes [ ]."
      ],
      "metadata": {
        "id": "qrQfyQo8uOSG"
      }
    },
    {
      "cell_type": "code",
      "execution_count": null,
      "metadata": {
        "colab": {
          "base_uri": "https://localhost:8080/"
        },
        "id": "ArVnK7jduNQN",
        "outputId": "691b6c13-cd73-40c5-8a30-5c026cb1e7cc"
      },
      "outputs": [
        {
          "output_type": "stream",
          "name": "stdout",
          "text": [
            "Lista ['Machado', 'Camisa', 'Bacon', 'Abacate']\n"
          ]
        }
      ],
      "source": [
        "mochila = ['Machado', 'Camisa','Bacon','Abacate']\n",
        "print('Lista', mochila)"
      ]
    },
    {
      "cell_type": "markdown",
      "source": [
        "#Manipulando listas"
      ],
      "metadata": {
        "id": "jl-6EQBVv_2s"
      }
    },
    {
      "cell_type": "code",
      "source": [
        "#substituir no indice 2 laraja por bacon\n",
        "\n",
        "mochila[2] = 'Laranja'\n",
        "print('lista:', mochila)"
      ],
      "metadata": {
        "colab": {
          "base_uri": "https://localhost:8080/"
        },
        "id": "O9Y5-QwuwHSp",
        "outputId": "71ff50d5-a2c1-40c7-e8d8-4934628005b7"
      },
      "execution_count": null,
      "outputs": [
        {
          "output_type": "stream",
          "name": "stdout",
          "text": [
            "lista: ['Machado', 'Camisa', 'Laranja', 'Abacate']\n"
          ]
        }
      ]
    },
    {
      "cell_type": "code",
      "source": [
        "#acrescentar valor no final\n",
        "\n",
        "mochila.append('Ovos')\n",
        "print('lista:', mochila)"
      ],
      "metadata": {
        "colab": {
          "base_uri": "https://localhost:8080/"
        },
        "id": "0rf7A4n6wgF0",
        "outputId": "374beb3f-1403-48c8-d14f-f00f8852d3e1"
      },
      "execution_count": null,
      "outputs": [
        {
          "output_type": "stream",
          "name": "stdout",
          "text": [
            "lista: ['Machado', 'Camisa', 'Laranja', 'Abacate', 'Ovos']\n"
          ]
        }
      ]
    },
    {
      "cell_type": "code",
      "source": [
        "#inserir valor em local determinado , nesse caso altera todos os indices após.\n",
        "\n",
        "mochila.insert(1,'canivete')#indice 1\n",
        "print('lista:'  ,mochila)"
      ],
      "metadata": {
        "colab": {
          "base_uri": "https://localhost:8080/"
        },
        "id": "ejNHs90Uwt4k",
        "outputId": "c98a1f8b-a177-4e4a-bf84-330b5afe3ce0"
      },
      "execution_count": null,
      "outputs": [
        {
          "output_type": "stream",
          "name": "stdout",
          "text": [
            "lista: ['Machado', 'canivete', 'Camisa', 'Laranja', 'Abacate', 'Ovos']\n"
          ]
        }
      ]
    },
    {
      "cell_type": "markdown",
      "source": [
        "#remover item da lista"
      ],
      "metadata": {
        "id": "iSGyHQf4xn2k"
      }
    },
    {
      "cell_type": "code",
      "source": [
        "del mochila[1] #usando o indice\n",
        "print('lista:', mochila)\n",
        "mochila.remove('Ovos') #especificando o item a ser removido\n",
        "print('lista',mochila)"
      ],
      "metadata": {
        "colab": {
          "base_uri": "https://localhost:8080/"
        },
        "id": "pybCDQRIxff9",
        "outputId": "4bef8274-b835-42aa-b227-6e7fb9c57974"
      },
      "execution_count": null,
      "outputs": [
        {
          "output_type": "stream",
          "name": "stdout",
          "text": [
            "lista: ['Machado', 'Camisa', 'Laranja', 'Abacate', 'Ovos']\n",
            "lista ['Machado', 'Camisa', 'Laranja', 'Abacate']\n"
          ]
        }
      ]
    },
    {
      "cell_type": "markdown",
      "source": [
        "\n",
        "\n",
        "Copia de listas"
      ],
      "metadata": {
        "id": "zpXtkJt7yQPd"
      }
    },
    {
      "cell_type": "code",
      "source": [
        "x = [5,7,9,11]\n",
        "y = x  #somente referenciar (cria copia identica)\n",
        "print(x)\n",
        "print(y)\n"
      ],
      "metadata": {
        "id": "ZXTHQw2K2TL6",
        "colab": {
          "base_uri": "https://localhost:8080/"
        },
        "outputId": "7a7ffc02-50f3-4b7f-e9d1-7f7d62c5e269"
      },
      "execution_count": 1,
      "outputs": [
        {
          "output_type": "stream",
          "name": "stdout",
          "text": [
            "[5, 7, 9, 11]\n",
            "[5, 7, 9, 11]\n"
          ]
        }
      ]
    },
    {
      "cell_type": "markdown",
      "source": [
        "mas se alterar x ou y as duas serão alteradas simultaneamente por serm copias"
      ],
      "metadata": {
        "id": "UWLbJTQHuK7J"
      }
    },
    {
      "cell_type": "code",
      "source": [
        "y[0] = 2 #substituir indice 0 para numero 2\n",
        "print(x)\n",
        "print(y)"
      ],
      "metadata": {
        "colab": {
          "base_uri": "https://localhost:8080/"
        },
        "id": "dsoUVSbUueyi",
        "outputId": "f93b1cdd-29b9-4b63-c83c-65ad49ace975"
      },
      "execution_count": 2,
      "outputs": [
        {
          "output_type": "stream",
          "name": "stdout",
          "text": [
            "[2, 7, 9, 11]\n",
            "[2, 7, 9, 11]\n"
          ]
        }
      ]
    },
    {
      "cell_type": "markdown",
      "source": [
        "#como corrigir esse problema acima.\n"
      ],
      "metadata": {
        "id": "M7rcw93du9DJ"
      }
    },
    {
      "cell_type": "code",
      "source": [
        "x = [5,7,9,11]\n",
        "y = x[:] # esse couxete faz criar uma copia diferente na memoria\n",
        "print(x)\n",
        "print(y)"
      ],
      "metadata": {
        "colab": {
          "base_uri": "https://localhost:8080/"
        },
        "id": "zE9QBBwmvLK2",
        "outputId": "c706da4b-4e63-4828-e4fc-f17716f3ee35"
      },
      "execution_count": 3,
      "outputs": [
        {
          "output_type": "stream",
          "name": "stdout",
          "text": [
            "[5, 7, 9, 11]\n",
            "[5, 7, 9, 11]\n"
          ]
        }
      ]
    },
    {
      "cell_type": "code",
      "source": [
        "y[0] = 2\n",
        "print(x)\n",
        "print(y)"
      ],
      "metadata": {
        "colab": {
          "base_uri": "https://localhost:8080/"
        },
        "id": "CSD95ry6vZ4a",
        "outputId": "174b97f2-7372-4855-80d8-57f8b26b9132"
      },
      "execution_count": 4,
      "outputs": [
        {
          "output_type": "stream",
          "name": "stdout",
          "text": [
            "[5, 7, 9, 11]\n",
            "[2, 7, 9, 11]\n"
          ]
        }
      ]
    }
  ]
}