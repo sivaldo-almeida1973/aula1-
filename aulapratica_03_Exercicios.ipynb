{
  "nbformat": 4,
  "nbformat_minor": 0,
  "metadata": {
    "colab": {
      "provenance": [],
      "authorship_tag": "ABX9TyPsi4Zi30cBFXypHsoWsSek",
      "include_colab_link": true
    },
    "kernelspec": {
      "name": "python3",
      "display_name": "Python 3"
    },
    "language_info": {
      "name": "python"
    }
  },
  "cells": [
    {
      "cell_type": "markdown",
      "metadata": {
        "id": "view-in-github",
        "colab_type": "text"
      },
      "source": [
        "<a href=\"https://colab.research.google.com/github/sivaldo-almeida1973/aula1-/blob/main/aulapratica_03_Exercicios.ipynb\" target=\"_parent\"><img src=\"https://colab.research.google.com/assets/colab-badge.svg\" alt=\"Open In Colab\"/></a>"
      ]
    },
    {
      "cell_type": "code",
      "execution_count": 8,
      "metadata": {
        "colab": {
          "base_uri": "https://localhost:8080/"
        },
        "id": "_HQWRlJPr5nZ",
        "outputId": "3ef11289-e7ca-448a-935c-6d7dd74ac4fd"
      },
      "outputs": [
        {
          "name": "stdout",
          "output_type": "stream",
          "text": [
            "Digite 1º valor: 6\n",
            "Digite 2º valor: 4\n",
            "Digite 3º valor: 11\n"
          ]
        }
      ],
      "source": [
        "#formar Tiângulos\n",
        "\n",
        "lado_a = int(input('Digite 1º valor: '))\n",
        "lado_b = int(input('Digite 2º valor: '))\n",
        "lado_c = int(input('Digite 3º valor: '))\n",
        "\n",
        "if lado_a > 0 and lado_b > 0 and lado_c > 0:\n",
        "  if (lado_a + lado_b > lado_c) and (lado_a + lado_c > lado_b) and (lado_b + lado_c > lado_a):\n",
        "   if (lado_a != lado_b ) and (lado_a != lado_c ) and ( lado_b != lado_c):\n",
        "      print('Trinagulo Escaleno')\n",
        "   else:\n",
        "     if (lado_a == lado_b) and (lado_a == lado_c) and (lado_b == lado_c):\n",
        "      print('Triângulo Equilatero')\n",
        "     else:\n",
        "       print('Triângulo Isosceles')\n",
        "else:\n",
        "  print('algum dos valore não formam um triângulo!')\n",
        "\n",
        "    \n"
      ]
    }
  ]
}