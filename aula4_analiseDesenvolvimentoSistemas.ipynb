{
  "nbformat": 4,
  "nbformat_minor": 0,
  "metadata": {
    "colab": {
      "provenance": [],
      "authorship_tag": "ABX9TyMgLYUoZ5WbdiFuE5GVy6Vo",
      "include_colab_link": true
    },
    "kernelspec": {
      "name": "python3",
      "display_name": "Python 3"
    },
    "language_info": {
      "name": "python"
    }
  },
  "cells": [
    {
      "cell_type": "markdown",
      "metadata": {
        "id": "view-in-github",
        "colab_type": "text"
      },
      "source": [
        "<a href=\"https://colab.research.google.com/github/sivaldo-almeida1973/aula1-/blob/main/aula4_analiseDesenvolvimentoSistemas.ipynb\" target=\"_parent\"><img src=\"https://colab.research.google.com/assets/colab-badge.svg\" alt=\"Open In Colab\"/></a>"
      ]
    },
    {
      "cell_type": "markdown",
      "source": [
        "#UML(Unified Modelling Language)\n",
        "Linguagem ou Notação de diagramas para especificar,visualizar e documentar modelos de software desenvolvidos sob os preceitos da orientação pr objetos,surgiu em 1994(James Rumbaughq e Grady Booch)Rational Software Corporation.Com o crescimento da empresa surgiu o ciclo de vida de software (RUP)Rational Unified Process.\n",
        "\n",
        "#Modelo de processo de desenvolvimento de Software.\n",
        "É uma representação,ou abstração dos objetos e atividades envolvidas no processo de software.Dessa forma , modelo é uma simplificação ou abstração da realidade que é construído pra compreender melhor o sistema que será desenvolvido e codificado\n",
        "\n",
        "#tipos de Modelos:\n",
        "##Visão estrutural:\n",
        "Os modelos criados tentam capturar a estrutura do sistema,ou seja quais elementos compõem a estrutura do sistema e como eles se relacionam.\n",
        "\n",
        "##Coportamental:\n",
        "Os modelos criados tentam capturar a dinâmica do sistema,ou seja como os elementos que compõem o software se comunicam,se comportam e respondem aos diversos estímulos.\n",
        "\n",
        "#Modelo orientado a objeto:\n",
        "A orientação a objeto é um modelo conceitual independente de uma linguagem de programação.Pois tem como foco visualizar o domínio do problema a ser automatizado como uma coleção de objetos e métodos associados.\n",
        "###Todo objeto é identificável e deve ter um nome claro e direto,que identifique o real objetivo do objeto.Ou seja as coisas do mundo real.Um obejeto é portanto ,uma entidade real ou abstrata,que modela um conceito presente na realidade humana,ocupando espaço físico ou lógico.Ex: aluno ,matricula.\n",
        "\n",
        "#Abstração:\n",
        "Consiste em se concentrar nos aspectos essenciais, próprios de uma entidade e em ignorar suas propriedades acidentais.Ou seja dar foco em aspectos relevantes para um determinado proprosito.\n",
        "\n",
        "#Encapsulamento:\n",
        "Consiste na sepração dos aspectos externos de um objeto.Consiste separar o software em partes, o mais isoladas possível.É uma forma de restringir o acesso ao comportamento interno de um objeto.\n",
        "\n",
        "#Herança:\n",
        "É o compartilhamento de atributos e operações entre objetos com base em um relacionamento hierárquico.\n",
        "\n",
        "#Diagrama de caso de uso:\n",
        "Normalmente é primeiro a ser construido, após o levantamento de requisitos.Construir o diagrama  de caso de uso,é uma das formas de analisar o relacionamento de cada uma das funcionalidades que o software deve executar com os usuários que as executam.\n",
        "\n",
        "##usa um padrão facil de ser compreendido.\n",
        "##o foco é o problema e não a solução computacional,por isso o diagrama de caso de uso representa os requisitos funcionais do software.\n",
        "#permite registrar de fato o que o sistema deve fazer,e como as funcionalidades se relacionam entre si.\n",
        "\n",
        "#componentes do diagrama de caso de uso(elementos):\n",
        "Copoem a identidade visual do modelo.\n",
        "\n",
        "#Ator:\n",
        "representa o papel executado por uma entidade,que interage com o sistema em questão.Pode ser tambemm outros sistemas.\n",
        "\n",
        "#relacionamentos:\n",
        "mostram a ligação entre os elementos de um diagrama de caso de uso.\n",
        "\n",
        "\n",
        "#Relacionamento entre atores:\n",
        "quando temos dois atores semelhantes, mas com um deles realizando algo a mais.\n",
        "\n",
        "#Relacionamento entre casos de uso:\n",
        "Include=> um relacionamento de um caso de uso A para um caso de suo B, indica que B é essencial para A.\n",
        "###Pode ser dito também que B is_part_of A\n",
        "\n",
        "Extent => Um relacionamento de caso de uso B para um A indica que o B pode ser acrescentado para descrever o comportamento de A(não é obrigatório)\n",
        "\n",
        "#Analisando um diagrama de caso de uso:\n"
      ],
      "metadata": {
        "id": "kCvDriZOl4bZ"
      }
    }
  ]
}