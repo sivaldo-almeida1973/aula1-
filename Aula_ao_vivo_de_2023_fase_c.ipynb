{
  "cells": [
    {
      "cell_type": "markdown",
      "metadata": {
        "id": "view-in-github",
        "colab_type": "text"
      },
      "source": [
        "<a href=\"https://colab.research.google.com/github/sivaldo-almeida1973/aula1-/blob/main/Aula_ao_vivo_de_2023_fase_c.ipynb\" target=\"_parent\"><img src=\"https://colab.research.google.com/assets/colab-badge.svg\" alt=\"Open In Colab\"/></a>"
      ]
    },
    {
      "cell_type": "markdown",
      "metadata": {
        "id": "F5SCD6ckeyMI"
      },
      "source": [
        "#1º Exercicio da Atividade Prática"
      ]
    },
    {
      "cell_type": "markdown",
      "metadata": {
        "id": "ItXuOY2rewEY"
      },
      "source": []
    },
    {
      "cell_type": "code",
      "execution_count": null,
      "metadata": {
        "id": "E3cOGsWPiI6Z"
      },
      "outputs": [],
      "source": [
        "print('Bem Vindo, a Loja de Sivaldo Vieira de Almeida: RU-4139872. ')\n",
        "valor_produto = float(input('Entre com o valor do produto: '))\n",
        "qtd_produto = int(input('Entre com quantidade do produto: '))\n",
        "\n",
        "desconto_produto = 0\n",
        "\n",
        "if( qtd_produto <= 9): # outra maneira if qtd_produto < 10:\n",
        "    desconto_produto = 0.00\n",
        "   \n",
        "elif(qtd_produto >= 10 and qtd_produto <= 99):\n",
        "    desconto_produto = 0.05 # 5% de desconto\n",
        "    \n",
        "elif(qtd_produto >= 100 and qtd_produto <= 999 ):\n",
        "    desconto_produto = 0.10 # 10% de desconto\n",
        "   \n",
        "else:\n",
        "    desconto_produto = 0.15 # 15% de desconto\n",
        "\n",
        "\n",
        "total_sem_desconto = valor_produto * qtd_produto\n",
        "print('O valor do produto sem desconto é de {:.2f}: '.format(total_sem_desconto))\n",
        "#print(f'o valor do produto sem desconto {total_com_desconto}')\n",
        "\n",
        "total_com_desconto = total_sem_desconto - (total_sem_desconto * desconto_produto)\n",
        "print('O valor do produto com desconto é de {:.2f}: '.format(total_com_desconto))\n",
        "print(desconto_produto)\n",
        "  \n",
        "\n",
        "\n"
      ]
    },
    {
      "cell_type": "markdown",
      "source": [
        "# 2º exercicio da atividade pratica"
      ],
      "metadata": {
        "id": "NfWkKHyo_oX7"
      }
    },
    {
      "cell_type": "code",
      "source": [
        "#Exercicio 2 de 4 da atividade prática\n",
        "print(' Bem Vindo a Lanchonete de Sivaldo Vieira de Almeida   ')\n",
        "print('*'*25,'CARDÁPIO','*'*25)\n",
        "print('  codigo |       Descrição          |    Valor(R$)      |')\n",
        "print('     100 |    Cachorro-Quente       |       9.00        |')\n",
        "print('     101 |    Cachorro-Quente- Duplo|       11.00       |')\n",
        "print('     102 |           X-Egg          |       12.00       |')\n",
        "print('     103 |           X-Salada       |       13.00       |')\n",
        "print('     104 |           X-Bacon        |       14.00       |')\n",
        "print('     105 |           X-Tudo         |       17.00       |')\n",
        "print('     200 |        Refrigerante      |        5.00       |')\n",
        "print('     201 |          Chá Gelado      |        4.00       |')\n",
        "print('*'*25,'CARDÁPIO','*'*25)\n",
        "\n",
        "acumulador = 0\n",
        "\n",
        "while True:\n",
        "  codigo = input('Entre com o codigo do produto desejado(100/101/102/103/104/105/200/201): ')\n",
        "  if codigo != '100' and codigo != '101'and codigo != '102' and codigo != '103' and codigo != '104' and codigo!= '105'and codigo != '200' and codigo != '201':\n",
        "    print('Opção inválida.Escolha produtos existente na lista!')\n",
        "    continue # se digitar algo errado volta pro começo do while\n",
        "\n",
        "  if codigo == '100' :\n",
        "    print('Você escolheu Cachorro-Quente')\n",
        "    acumulador = acumulador + 9.00 #pegue o valor que tinha no acumulador + 9.00\n",
        "\n",
        "\n",
        "  elif codigo == '101' :\n",
        "    print('Você escolheu Cachorro-Quente Duplo')\n",
        "    acumulador = acumulador + 11.00 #pegue o valor que tinha no acumulador + 11.00\n",
        "\n",
        "  elif codigo == '102' :\n",
        "    print('Você escolheu X-Eggs')\n",
        "    acumulador = acumulador + 12.00 #pegue o valor que tinha no acumulador + 12.00\n",
        "  \n",
        "  elif codigo == '103' :\n",
        "    print('Você escolheu X-Salada')\n",
        "    acumulador = acumulador + 13.00 #pegue o valor que tinha no acumulador + 13\n",
        "\n",
        "  elif codigo == '104' :\n",
        "    print('Você escolheu X-Bacon')\n",
        "    acumulador = acumulador + 14.00 #pegue o valor que tinha no acumulaor + 14\n",
        "\n",
        "  elif codigo == '105' :\n",
        "    print('Você escolheu X-Tudo')\n",
        "    acumulador = acumulador + 17.00 #pegue o valor que tinha no acumulador +  17\n",
        "    \n",
        "  elif codigo == '200' :\n",
        "    print('Você escolheu Refrigerante')\n",
        "    acumulador = acumulador + 5.00 #pegue o valor que tinha no acumulador + 5\n",
        "\n",
        "  elif codigo == '201' :\n",
        "    print('Você escolheu Chá Gelado')\n",
        "    acumulador = acumulador + 4.00 #pegue o valor que tinha no acumulador + 4\n",
        "   \n",
        "  quer_pedir_mais = input('Deseja pedir mais alguma coisa (S/N)? ')\n",
        "  quer_pedir_mais= quer_pedir_mais.upper() #poderá digitar maiuculas e minusculas\n",
        "  if quer_pedir_mais == 'S':\n",
        "   continue\n",
        "  else:\n",
        "    print('Pedido Encerrado.O valor total a ser Pago é:: R${:.2f}'.format(acumulador))\n",
        "    break\n",
        "\n",
        "  \n",
        "     \n",
        "  print(acumulador)\n",
        "print('Volte Sempre.Obrigado!!')\n",
        "\n",
        " \n"
      ],
      "metadata": {
        "colab": {
          "base_uri": "https://localhost:8080/"
        },
        "id": "-1pn0966_yYo",
        "outputId": "41c578d6-29cc-422c-95c9-9ea3f1fc26c3"
      },
      "execution_count": null,
      "outputs": [
        {
          "output_type": "stream",
          "name": "stdout",
          "text": [
            " Bem Vindo a Lanchonete de Sivaldo Vieira de Almeida   \n",
            "************************* CARDÁPIO *************************\n",
            "  codigo |       Descrição          |    Valor(R$)      |\n",
            "     100 |    Cachorro-Quente       |       9.00        |\n",
            "     101 |    Cachorro-Quente- Duplo|       11.00       |\n",
            "     102 |           X-Egg          |       12.00       |\n",
            "     103 |           X-Salada       |       13.00       |\n",
            "     104 |           X-Bacon        |       14.00       |\n",
            "     105 |           X-Tudo         |       17.00       |\n",
            "     200 |        Refrigerante      |        5.00       |\n",
            "     201 |          Chá Gelado      |        4.00       |\n",
            "************************* CARDÁPIO *************************\n",
            "Entre com o codigo do produto desejado(100/101/102/103/104/105/200/201): 100\n",
            "Você escolheu Cachorro-Quente\n",
            "Deseja pedir mais alguma coisa (S/N)? s\n",
            "Entre com o codigo do produto desejado(100/101/102/103/104/105/200/201): 101\n",
            "Você escolheu Cachorro-Quente Duplo\n",
            "Deseja pedir mais alguma coisa (S/N)? s\n",
            "Entre com o codigo do produto desejado(100/101/102/103/104/105/200/201): 200\n",
            "Você escolheu Refrigerante\n",
            "Deseja pedir mais alguma coisa (S/N)? 10\n",
            "Pedido Encerrado.O valor total a ser Pago é:: R$25.00\n",
            "Volte Sempre.Obrigado!!\n"
          ]
        }
      ]
    },
    {
      "cell_type": "markdown",
      "source": [
        "# 3ºExercicio de Atividade Prática"
      ],
      "metadata": {
        "id": "exqVH22SzEGb"
      }
    },
    {
      "cell_type": "code",
      "source": [
        "# 3ºExercicio de Atividade Prática\n",
        "\n",
        "\n",
        "\n",
        "#função dimensões x valores()\n",
        "\n",
        "def dimensoesObjeto():\n",
        "  print('-'*20,'ROTA 1',20*('-'))\n",
        "  while True:\n",
        "   try:\n",
        "    altura = int(input('Digite a altura do obejeto em(cm):'))\n",
        "    comprimento = int(input('Digite o comprimento do objeto em(cm):'))\n",
        "    largura = int(input('Digite a largura do objeto em(cm):'))\n",
        "    volume = (altura*largura)*comprimento\n",
        "    valor = 1\n",
        "    if volume < 1000:\n",
        "      return valor * 10.0\n",
        "      \n",
        "      \n",
        "    elif volume >= 1000 and volume < 10000:\n",
        "       return valor * 20.0\n",
        "    \n",
        "    elif volume >=10000 and volume < 30000:\n",
        "       return valor * 30.0\n",
        "\n",
        "    elif volume >= 30000 and volume < 100000:\n",
        "       return valor * 40.0\n",
        "    \n",
        "    elif valor >= 100000:\n",
        "       return  'Nao é aceito!'\n",
        "\n",
        "      \n",
        "    else:\n",
        "      print('Pare de digitar valor incorreto! ')\n",
        "   except ValueError: # caso o usuario digite uma letra c por exemplo\n",
        "    print('Pare de digitar valores não inteiros!')\n",
        "#fim da fução dimensoesObjeto():\n",
        "\n",
        "#função dimensões x valores()\n",
        "\n",
        "def pesoObjeto():\n",
        "  print('-'*20,'ROTA 2',20*('-'))\n",
        "  while True:\n",
        "   try:\n",
        "    peso = float(input('Digite o peso do objeto em (KG)'))\n",
        "    multiplicador = 1\n",
        "    if peso <= 0.1:\n",
        "      return multiplicador * 1\n",
        "\n",
        "    elif peso >= 0.1 and peso < 1 :\n",
        "      return multiplicador * 1.5\n",
        "\n",
        "    elif peso >= 1.5 and peso < 10 :\n",
        "      return multiplicador * 2\n",
        "    \n",
        "    elif peso >= 10 and peso < 30 :\n",
        "      return multiplicador * 3\n",
        "\n",
        "    elif peso >= 30:\n",
        "      return  'Não é aceito'\n",
        "    \n",
        "   except ValueError:\n",
        "     print('Digite um valor numérico')\n",
        "  \n",
        "#fim da função pesoObjeto():\n",
        "\n",
        "#função dimensões x valores()\n",
        "\n",
        "def rotaObjeto():\n",
        "  print('-'*20,'ROTA 3',20*('-'))\n",
        "  \n",
        "\n",
        "#fum da função rotaObjeto():\n",
        "\n",
        "#Inicio do Main  \n",
        "\n",
        "print(10*'=','Seja Bem Vindo à Companhia de Logistica Sivaldo Vieira De Almeida S.A.',10*'=')\n",
        "\n",
        "total = dimensoesObjeto()\n",
        "print(total)\n",
        "\n",
        "\n",
        "\n",
        "peso_total = pesoObjeto()\n",
        "print(peso_total)\n",
        "\n",
        "\n",
        "\n",
        " \n",
        "rotaObjeto()\n",
        "\n",
        "\n"
      ],
      "metadata": {
        "colab": {
          "base_uri": "https://localhost:8080/"
        },
        "id": "44UR1BN7yzAh",
        "outputId": "29067877-9a35-44a5-f875-e4421cb6d1dc"
      },
      "execution_count": 80,
      "outputs": [
        {
          "output_type": "stream",
          "name": "stdout",
          "text": [
            "========== Seja Bem Vindo à Companhia de Logistica Sivaldo Vieira De Almeida S.A. ==========\n",
            "-------------------- ROTA 1 --------------------\n",
            "Digite a altura do obejeto em(cm):30\n",
            "Digite o comprimento do objeto em(cm):30\n",
            "Digite a largura do objeto em(cm):30\n",
            "30.0\n",
            "-------------------- ROTA 2 --------------------\n",
            "Digite o peso do objeto em (KG)25\n",
            "3\n",
            "-------------------- ROTA 3 --------------------\n"
          ]
        }
      ]
    }
  ],
  "metadata": {
    "colab": {
      "provenance": [],
      "collapsed_sections": [
        "F5SCD6ckeyMI",
        "NfWkKHyo_oX7"
      ],
      "authorship_tag": "ABX9TyMX+F2SVk/CZLN5UDLEAEVY",
      "include_colab_link": true
    },
    "kernelspec": {
      "display_name": "Python 3",
      "name": "python3"
    },
    "language_info": {
      "name": "python"
    }
  },
  "nbformat": 4,
  "nbformat_minor": 0
}