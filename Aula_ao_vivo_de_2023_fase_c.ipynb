{
  "cells": [
    {
      "cell_type": "markdown",
      "metadata": {
        "id": "view-in-github",
        "colab_type": "text"
      },
      "source": [
        "<a href=\"https://colab.research.google.com/github/sivaldo-almeida1973/aula1-/blob/main/Aula_ao_vivo_de_2023_fase_c.ipynb\" target=\"_parent\"><img src=\"https://colab.research.google.com/assets/colab-badge.svg\" alt=\"Open In Colab\"/></a>"
      ]
    },
    {
      "cell_type": "markdown",
      "metadata": {
        "id": "ItXuOY2rewEY"
      },
      "source": []
    },
    {
      "cell_type": "markdown",
      "metadata": {
        "id": "F5SCD6ckeyMI"
      },
      "source": [
        "#1º Exercicio da Atividade Prática"
      ]
    },
    {
      "cell_type": "code",
      "execution_count": 4,
      "metadata": {
        "colab": {
          "base_uri": "https://localhost:8080/"
        },
        "id": "E3cOGsWPiI6Z",
        "outputId": "06c132b8-0495-4623-d58a-8a4be80d29bc"
      },
      "outputs": [
        {
          "output_type": "stream",
          "name": "stdout",
          "text": [
            "Bem Vindo, a Loja de Sivaldo Vieira de Almeida: RU-4139872. \n",
            "Entre com o valor do produto: 2\n",
            "Entre com quantidade do produto: 20\n",
            "O valor do produto sem desconto é de 40.00: \n",
            "O valor do produto com desconto é de 38.00: \n",
            "0.05\n"
          ]
        }
      ],
      "source": [
        "print('Bem Vindo, a Loja de Sivaldo Vieira de Almeida: RU-4139872. ')\n",
        "valor_produto = float(input('Entre com o valor do produto: '))\n",
        "qtd_produto = int(input('Entre com quantidade do produto: '))\n",
        "\n",
        "desconto_produto = 0\n",
        "\n",
        "\n",
        "\n",
        "\n",
        "if( qtd_produto <= 9): # outra maneira if qtd_produto < 10:\n",
        "    desconto_produto = 0.00\n",
        "   \n",
        "elif(qtd_produto >= 10 and qtd_produto <= 99):\n",
        "    desconto_produto = 0.05 # 5% de desconto\n",
        "    \n",
        "elif(qtd_produto >= 100 and qtd_produto <= 999 ):\n",
        "    desconto_produto = 0.10 # 10% de desconto\n",
        "   \n",
        "else:\n",
        "    desconto_produto = 0.15 # 15% de desconto\n",
        "\n",
        "\n",
        "total_sem_desconto = valor_produto * qtd_produto\n",
        "print('O valor do produto sem desconto é de {:.2f}: '.format(total_sem_desconto))\n",
        "#print(f'o valor do produto sem desconto {total_com_desconto}')\n",
        "\n",
        "total_com_desconto = total_sem_desconto - (total_sem_desconto * desconto_produto)\n",
        "print('O valor do produto com desconto é de {:.2f}: '.format(total_com_desconto))\n",
        "print(desconto_produto)\n",
        "  \n",
        "\n",
        "\n"
      ]
    }
  ],
  "metadata": {
    "colab": {
      "provenance": [],
      "authorship_tag": "ABX9TyMb6JzBXM0uLBk3IPvk018V",
      "include_colab_link": true
    },
    "kernelspec": {
      "display_name": "Python 3",
      "name": "python3"
    },
    "language_info": {
      "name": "python"
    }
  },
  "nbformat": 4,
  "nbformat_minor": 0
}