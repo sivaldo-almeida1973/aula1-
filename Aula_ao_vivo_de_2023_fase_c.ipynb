{
  "nbformat": 4,
  "nbformat_minor": 0,
  "metadata": {
    "colab": {
      "provenance": [],
      "authorship_tag": "ABX9TyPD4qbA8FBLVJfJ0NGTB8S/",
      "include_colab_link": true
    },
    "kernelspec": {
      "name": "python3",
      "display_name": "Python 3"
    },
    "language_info": {
      "name": "python"
    }
  },
  "cells": [
    {
      "cell_type": "markdown",
      "metadata": {
        "id": "view-in-github",
        "colab_type": "text"
      },
      "source": [
        "<a href=\"https://colab.research.google.com/github/sivaldo-almeida1973/aula1-/blob/main/Aula_ao_vivo_de_2023_fase_c.ipynb\" target=\"_parent\"><img src=\"https://colab.research.google.com/assets/colab-badge.svg\" alt=\"Open In Colab\"/></a>"
      ]
    },
    {
      "cell_type": "markdown",
      "source": [],
      "metadata": {
        "id": "ItXuOY2rewEY"
      }
    },
    {
      "cell_type": "markdown",
      "source": [
        "#1º Exercicio da Atividade Prática"
      ],
      "metadata": {
        "id": "F5SCD6ckeyMI"
      }
    },
    {
      "cell_type": "code",
      "source": [
        "print('Bem Vindo a Loja do Sivaldo Vieira! ')\n",
        "valor_produto = float(input('Entre com o valor do produto: '))\n",
        "qtd_produto = int(input('Entre com quantidade do produto: '))\n",
        "desconto_produto = 0\n",
        "total_sem_desconto = valor_produto * qtd_produto\n",
        "total_com_desconto = total_sem_desconto - total_sem_desconto * desconto_produto\n",
        "if( qtd_produto <= 4):\n",
        "    desconto_produto = 0.00\n",
        "   \n",
        "elif(qtd_produto > 5 and qtd_produto <= 19):\n",
        "    desconto_produto = 0.03\n",
        "    \n",
        "elif(qtd_produto > 20 and qtd_produto <= 99 ):\n",
        "    desconto_produto = 0.06\n",
        "   \n",
        "else:\n",
        "    desconto_produto = 0.10\n",
        "\n",
        "print('O valor do produto sem desconto é de {}: '.format(total_sem_desconto))\n",
        "print('O valor do produto com desconto é de {}: '.format(total_com_desconto))\n",
        "print(desconto_produto)\n",
        "  \n",
        "\n",
        "\n"
      ],
      "metadata": {
        "colab": {
          "base_uri": "https://localhost:8080/"
        },
        "id": "E3cOGsWPiI6Z",
        "outputId": "4f012ff5-b2af-4a04-ca60-3adfbd7edf5b"
      },
      "execution_count": 31,
      "outputs": [
        {
          "output_type": "stream",
          "name": "stdout",
          "text": [
            "Bem Vindo a Loja do Sivaldo Vieira! \n",
            "Entre com o valor do produto: 10\n",
            "Entre com quantidade do produto: 10\n",
            "O valor do produto sem desconto é de 100.0: \n",
            "O valor do produto com desconto é de 100.0: \n",
            "0.03\n"
          ]
        }
      ]
    }
  ]
}