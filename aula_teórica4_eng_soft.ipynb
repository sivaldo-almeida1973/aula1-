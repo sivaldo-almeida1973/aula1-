{
  "nbformat": 4,
  "nbformat_minor": 0,
  "metadata": {
    "colab": {
      "provenance": [],
      "authorship_tag": "ABX9TyPgdsIg6NdIzvAI4SHCR4Sv",
      "include_colab_link": true
    },
    "kernelspec": {
      "name": "python3",
      "display_name": "Python 3"
    },
    "language_info": {
      "name": "python"
    }
  },
  "cells": [
    {
      "cell_type": "markdown",
      "metadata": {
        "id": "view-in-github",
        "colab_type": "text"
      },
      "source": [
        "<a href=\"https://colab.research.google.com/github/sivaldo-almeida1973/aula1-/blob/main/aula_te%C3%B3rica4_eng_soft.ipynb\" target=\"_parent\"><img src=\"https://colab.research.google.com/assets/colab-badge.svg\" alt=\"Open In Colab\"/></a>"
      ]
    },
    {
      "cell_type": "markdown",
      "source": [
        "#Estruturas de Repetição\n",
        "Se repetem de maneira indefinida , até que uma condição seja satisfeita.(estrutra interativa, laço de repetição, ou loop de repetição)\n"
      ],
      "metadata": {
        "id": "LEk5q4EUp5Dz"
      }
    },
    {
      "cell_type": "code",
      "source": [
        "#Exemplo sem laço de repetição\n",
        "x = 1\n",
        "print(x)\n",
        "x = x +1\n",
        "print(x)\n",
        "x = x + 1\n",
        "print(x)"
      ],
      "metadata": {
        "colab": {
          "base_uri": "https://localhost:8080/"
        },
        "id": "6of4By5KqyNa",
        "outputId": "6669ddf7-685f-4b4f-cf9c-6a046619bc42"
      },
      "execution_count": null,
      "outputs": [
        {
          "output_type": "stream",
          "name": "stdout",
          "text": [
            "1\n",
            "2\n",
            "3\n"
          ]
        }
      ]
    },
    {
      "cell_type": "markdown",
      "source": [
        "#While(enquanto)\n",
        ".repete um bloco de instruções enquanto  determinada condição se mantiver verdadeira\n",
        "caso contrario , ocorre o desvio para a primeira linha de código após este bloco de repetição"
      ],
      "metadata": {
        "id": "TLes0NF3r4Hj"
      }
    },
    {
      "cell_type": "code",
      "source": [
        "x = 1 #variavel de controle\n",
        "while (x <= 5):\n",
        "  print(x)\n",
        "  x = x + 1"
      ],
      "metadata": {
        "colab": {
          "base_uri": "https://localhost:8080/"
        },
        "id": "HcsB7cnyr29s",
        "outputId": "a3c904ec-9254-4c13-b0f2-54ab67d18734"
      },
      "execution_count": null,
      "outputs": [
        {
          "output_type": "stream",
          "name": "stdout",
          "text": [
            "1\n",
            "2\n",
            "3\n",
            "4\n",
            "5\n"
          ]
        }
      ]
    },
    {
      "cell_type": "markdown",
      "source": [
        "#Variável de controle-\n",
        ".Define a condição de parada com que o laço é executado."
      ],
      "metadata": {
        "id": "lLrCB578t6aj"
      }
    },
    {
      "cell_type": "code",
      "source": [
        "x = 0 #variavel de controle\n",
        "while (x <= 99):\n",
        "  print(x)\n",
        "  x = x + 1"
      ],
      "metadata": {
        "id": "Ut_h05efulrc"
      },
      "execution_count": null,
      "outputs": []
    },
    {
      "cell_type": "markdown",
      "source": [
        "#Variáveis contadoras e acumuladoras\n",
        "#contadoras\n",
        ".acrescentam valores  constantes em uma variável.\n"
      ],
      "metadata": {
        "id": "egtpaFgJuztc"
      }
    },
    {
      "cell_type": "code",
      "source": [
        "inicial = int(input('Qual valor deseja iniciar a conatagem?'))\n",
        "final =  int(input('Qual valor deseja finalizar a conatgem?'))\n",
        "x = inicial\n",
        "while (x <= final):\n",
        "  if(x % 2 == 0):\n",
        "    print(x)\n",
        "  x = x + 1"
      ],
      "metadata": {
        "id": "bKmLPtI7uyfT"
      },
      "execution_count": null,
      "outputs": []
    },
    {
      "cell_type": "markdown",
      "source": [
        "#Acumulador"
      ],
      "metadata": {
        "id": "DkB4HaGtwW9c"
      }
    },
    {
      "cell_type": "markdown",
      "source": [
        "#Operadores especiais de atribuição"
      ],
      "metadata": {
        "id": "B-_4qoKiHC6A"
      }
    },
    {
      "cell_type": "code",
      "source": [
        "soma = 0\n",
        "cont = 1\n",
        "while(cont <= 5):\n",
        "  x = float(input('Digite a {}ª nota : '.format(cont)))\n",
        "  soma += x #Equivalente: soma = soma + x\n",
        "  cont += 1 #equivalente: cont = cont + 1\n",
        "media = soma / 5\n",
        "print('Media final : {}'.format(media))"
      ],
      "metadata": {
        "id": "TZuAAUGiLGFf"
      },
      "execution_count": null,
      "outputs": []
    },
    {
      "cell_type": "markdown",
      "source": [
        "#Validando daos de entrada"
      ],
      "metadata": {
        "id": "u-ZnR7KPLuFg"
      }
    },
    {
      "cell_type": "code",
      "source": [
        "x = int(input('Digite um valor maior que zero: '))\n",
        "while (x <= 0): #enquanto valor de x for menor ou igual a zero ,repete a frase.\n",
        "  x = int(input('Digite um valor maior que zero: '))\n",
        "print('Você digitou {} .Encerrando o programa..'.format(x))"
      ],
      "metadata": {
        "colab": {
          "base_uri": "https://localhost:8080/"
        },
        "id": "vGSCEQ1TLzQ_",
        "outputId": "5950ae20-a7da-47fd-de5b-c4c0772e8d3c"
      },
      "execution_count": 2,
      "outputs": [
        {
          "output_type": "stream",
          "name": "stdout",
          "text": [
            "Digite um valor maior que zero: 0\n",
            "Digite um valor maior que zero: -1\n",
            "Digite um valor maior que zero: -2\n",
            "Digite um valor maior que zero: 2\n",
            "Você digitou 2 .Encerrando o programa..\n"
          ]
        }
      ]
    },
    {
      "cell_type": "markdown",
      "source": [
        "#Instrução break.\n",
        "Serve para encerrar um laço de repetição ,independente do estado da variável de controle do laçõ."
      ],
      "metadata": {
        "id": "5Jj8wv2QNtwI"
      }
    },
    {
      "cell_type": "code",
      "source": [
        "print('Digite uma frase que irei repetir para você!')\n",
        "print('Para encerrar escreva \"Sair\" .')\n",
        "\n",
        "while True:#fica em um loop infinito\n",
        "  texto = input('')\n",
        "  print(texto)\n",
        "  if texto == 'Sair':\n",
        "    break # encerra o laço\n",
        "print('Encerrando o programa...')\n",
        "\n",
        "\n"
      ],
      "metadata": {
        "colab": {
          "base_uri": "https://localhost:8080/"
        },
        "id": "IlCiABFcNxSs",
        "outputId": "ab97fce4-1ab2-4ae4-895b-cda34d9308af"
      },
      "execution_count": 3,
      "outputs": [
        {
          "output_type": "stream",
          "name": "stdout",
          "text": [
            "Digite uma frase que irei repetir para você!\n",
            "Para encerrar escreva \"Sair\" .\n",
            "flamengo\n",
            "flamengo\n",
            "sair\n",
            "sair\n",
            "Sair\n",
            "Sair\n",
            "Encerrando o programa...\n"
          ]
        }
      ]
    },
    {
      "cell_type": "markdown",
      "source": [
        "#Instrução Continue:\n",
        "serve para retornar o laço ao inicio a qualquer momento,independente do estado da variável de controle da condicional do laço."
      ],
      "metadata": {
        "id": "EV_xH0PyogrA"
      }
    },
    {
      "cell_type": "code",
      "source": [
        "while True:#laço infinito\n",
        "  nome = input('Digite sua nome: ')#login de acesso\n",
        "  if (nome != 'sivaldo'):#se nome for != vai para o continue, e volta ao inicio do laço\n",
        "    continue\n",
        "  senha = input('Digite sua senha: ')#login de acesso\n",
        "  if (senha == 'Uninter'):#se digitar tudo certo vai para break, cai fora do loop e da acesso\n",
        "    break\n",
        "print('Acesso concedido')\n"
      ],
      "metadata": {
        "colab": {
          "base_uri": "https://localhost:8080/"
        },
        "id": "PkXxajMLpBRx",
        "outputId": "6e1888e6-7528-4147-82a9-d1e9eec3aaf8"
      },
      "execution_count": 6,
      "outputs": [
        {
          "output_type": "stream",
          "name": "stdout",
          "text": [
            "Digite sua nome: sivaldo\n",
            "Digite sua senha: uninter\n",
            "Digite sua nome: lucas\n",
            "Digite sua nome: Uninter\n",
            "Digite sua nome: sivaldo\n",
            "Digite sua senha: Uninter\n",
            "Acesso concedido\n"
          ]
        }
      ]
    },
    {
      "cell_type": "markdown",
      "source": [
        "#Valores 'Truthy ' e 'Falsey'"
      ],
      "metadata": {
        "id": "PebwX4thsEHa"
      }
    },
    {
      "cell_type": "code",
      "source": [
        "nome = ''#string vazio significa False(valor False)\n",
        "while not nome:#estou negando nome.(while True)\n",
        "  nome = input('Digite seu nome: ')#quando digitar um nome a string não mas estará vazia\n",
        "valor = int(input('Didite um número qualquer: '))\n",
        "if valor:# se isso for True o if vai dá verdadeiro e faz o print\n",
        "  print('Você digitou um valor diferente de zero.')\n",
        "else:#se digitar zero cai no else\n",
        "  print('Você digitou zero!')"
      ],
      "metadata": {
        "colab": {
          "base_uri": "https://localhost:8080/"
        },
        "id": "NYUbbn2osPQU",
        "outputId": "ab299a74-c608-4861-92b8-96f89923c75d"
      },
      "execution_count": 7,
      "outputs": [
        {
          "output_type": "stream",
          "name": "stdout",
          "text": [
            "Digite seu nome: sivaldo\n",
            "Didite um número qualquer: 10\n",
            "Você digitou um valor diferente de zero.\n"
          ]
        }
      ]
    },
    {
      "cell_type": "markdown",
      "source": [
        "#Estrutura de repetição for.\n",
        ".Assim com o while essa instrução repete um bloco enquanto uma condição for verdadeira.\n",
        ".Porém serve para quando você já conhece o número de iterações.\n"
      ],
      "metadata": {
        "id": "iElHETyFv49J"
      }
    },
    {
      "cell_type": "code",
      "source": [
        "#for i in range (   6   )  := para i no intervalo ( 6 )\n",
        "#for = para\n",
        "#I= variável de controle\n",
        "#in = palavra chave\n",
        "#range = intervalo\n",
        "\n",
        "for i in range(6):#vai imprimir de 0 à 5\n",
        " print(i)\n",
        "\n",
        "\n"
      ],
      "metadata": {
        "colab": {
          "base_uri": "https://localhost:8080/"
        },
        "id": "Yj2MG0ehwPd1",
        "outputId": "efcfbf05-aa61-42c4-8db0-e619f6b700b2"
      },
      "execution_count": 10,
      "outputs": [
        {
          "output_type": "stream",
          "name": "stdout",
          "text": [
            "0\n",
            "1\n",
            "2\n",
            "3\n",
            "4\n",
            "5\n"
          ]
        }
      ]
    },
    {
      "cell_type": "markdown",
      "source": [
        "#Python: com três parâmetros:"
      ],
      "metadata": {
        "id": "yaApwNbuyzNZ"
      }
    },
    {
      "cell_type": "code",
      "source": [
        "#podemos definir o valor inicial do iterador?\n",
        " #sim\n",
        " #podemos definir o passo?\n",
        " #sim\n",
        "for i in range (1, 6, 1):# para i no intervalo de 1 até 5 de 1 em 1\n",
        " print(i)"
      ],
      "metadata": {
        "colab": {
          "base_uri": "https://localhost:8080/"
        },
        "id": "iRHllZRKy82c",
        "outputId": "8b0b74c0-deb3-4fda-dd0e-68e1c951f15b"
      },
      "execution_count": 15,
      "outputs": [
        {
          "output_type": "stream",
          "name": "stdout",
          "text": [
            "1\n",
            "2\n",
            "3\n",
            "4\n",
            "5\n"
          ]
        }
      ]
    },
    {
      "cell_type": "code",
      "source": [
        "for i in range (10, 0, -2):#valor inicial é 10 valor final é 0 de 2 em 2\n",
        "  print(i)\n"
      ],
      "metadata": {
        "colab": {
          "base_uri": "https://localhost:8080/"
        },
        "id": "WRkZczoC0IBC",
        "outputId": "b0e9ea3b-5eb2-48a4-a3d7-556d2281fa80"
      },
      "execution_count": 16,
      "outputs": [
        {
          "output_type": "stream",
          "name": "stdout",
          "text": [
            "10\n",
            "8\n",
            "6\n",
            "4\n",
            "2\n"
          ]
        }
      ]
    },
    {
      "cell_type": "markdown",
      "source": [
        "#Comparativo while e for"
      ],
      "metadata": {
        "id": "rj-FABPd1EFG"
      }
    },
    {
      "cell_type": "code",
      "source": [
        "x = 1 # val inic do iter\n",
        "while (x < 6):#val fin do iter\n",
        "  print(x)\n",
        "  x = x + 1 #passo do iter\n",
        "\n",
        "print('-'*20)\n",
        "#              val inic iter  val fin do iter     passo do iter\n",
        "for i in range(1              , 6                ,1):\n",
        "  print(i)\n"
      ],
      "metadata": {
        "id": "RZVTY3JG1Isd"
      },
      "execution_count": null,
      "outputs": []
    },
    {
      "cell_type": "code",
      "source": [],
      "metadata": {
        "id": "SqCfSRec-oVy"
      },
      "execution_count": null,
      "outputs": []
    },
    {
      "cell_type": "markdown",
      "source": [
        "#Exercício de calculo de média usando (for)\n",
        ".Escreva um algoritimo que calcule a média dos números pares de 1 até 100(1 e 100 inclusos) usando for"
      ],
      "metadata": {
        "id": "oewH6MVE23t9"
      }
    },
    {
      "cell_type": "code",
      "source": [
        "soma = 0 # variavel para somatório que começa em zero\n",
        "qtd = 0 # variavel para quantidade que começa em zero\n",
        "for i in range(1, 101): #valor inicial e final\n",
        "  if (i % 2 == 0): #verifico se é Par\n",
        "    soma += i #se for par somo os valores\n",
        "    qtd += 1 # conto mais 1  na quantidade dos pares\n",
        "media = soma / qtd # calcula a média\n",
        "print('A media dos pares de 1 até 100 é:{} '.format(media))\n",
        "\n"
      ],
      "metadata": {
        "colab": {
          "base_uri": "https://localhost:8080/"
        },
        "id": "Dr5m7wop3NV8",
        "outputId": "86f2309d-6675-4a53-fb21-d1007cbb9a1f"
      },
      "execution_count": 33,
      "outputs": [
        {
          "output_type": "stream",
          "name": "stdout",
          "text": [
            "A media dos pares de 1 até 100 é:51.0 \n"
          ]
        }
      ]
    },
    {
      "cell_type": "markdown",
      "source": [
        ".Podemos inserir laços dentro de outro laço, não existe limite , podemos misturar while e for"
      ],
      "metadata": {
        "id": "iJyIPVaF_Lea"
      }
    },
    {
      "cell_type": "code",
      "source": [
        "#escreva um algoritimo que calcule a tabuada de todos os numeros de 1 até 100,\n",
        "#e para cada número, vamos calcular a tabuada multiplicando-o pelo intervalo de 1 a 10.\n",
        "#2 while\n",
        "tabuada = 1 #começa em 1\n",
        "while tabuada <= 10: #vai até 10\n",
        "  print('TABUADA DO {}: '.format(tabuada))\n",
        "  i = 1\n",
        "  while i <= 10:\n",
        "    print('{} x {} = {}'.format(tabuada, i, tabuada * i))\n",
        "    i += 1\n",
        "  tabuada +=1 #iterador vai contar de novo depos que tudo acontecer\n",
        "\n"
      ],
      "metadata": {
        "id": "m92BstZe_f45"
      },
      "execution_count": null,
      "outputs": []
    },
    {
      "cell_type": "code",
      "source": [
        "# 2 for\n",
        "for tabuada in range (1, 11, 1):\n",
        "  print('TABUADA DO {}:'.format(tabuada))\n",
        "  for i in range(1, 11 ,1):\n",
        "    print('{} x {} = {} '.format(tabuada, i, tabuada *  i))"
      ],
      "metadata": {
        "id": "s2TuG_lxB_Tj"
      },
      "execution_count": null,
      "outputs": []
    },
    {
      "cell_type": "code",
      "source": [
        "# 1 while e 1 for\n",
        "tabuada = 1\n",
        "while tabuada <= 10:\n",
        "  print('TABUADA DO {}:'.format(tabuada))\n",
        "  for i in range(1, 11, 1):\n",
        "    print('{} x {} = {}'.format(tabuada, i, tabuada * i))\n",
        "  tabuada += 1"
      ],
      "metadata": {
        "id": "dmpQ6o7uC_iC"
      },
      "execution_count": null,
      "outputs": []
    }
  ]
}