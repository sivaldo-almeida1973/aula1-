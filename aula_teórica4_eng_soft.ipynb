{
  "nbformat": 4,
  "nbformat_minor": 0,
  "metadata": {
    "colab": {
      "provenance": [],
      "authorship_tag": "ABX9TyOpxzDNx2icorTx+p0ffraW",
      "include_colab_link": true
    },
    "kernelspec": {
      "name": "python3",
      "display_name": "Python 3"
    },
    "language_info": {
      "name": "python"
    }
  },
  "cells": [
    {
      "cell_type": "markdown",
      "metadata": {
        "id": "view-in-github",
        "colab_type": "text"
      },
      "source": [
        "<a href=\"https://colab.research.google.com/github/sivaldo-almeida1973/aula1-/blob/main/aula_te%C3%B3rica4_eng_soft.ipynb\" target=\"_parent\"><img src=\"https://colab.research.google.com/assets/colab-badge.svg\" alt=\"Open In Colab\"/></a>"
      ]
    },
    {
      "cell_type": "markdown",
      "source": [
        "#Estruturas de Repetição\n",
        "Se repetem de maneira indefinida , até que uma condição seja satisfeita.(estrutra interativa, laço de repetição, ou loop de repetição)\n"
      ],
      "metadata": {
        "id": "LEk5q4EUp5Dz"
      }
    },
    {
      "cell_type": "code",
      "source": [
        "#Exemplo sem laço de repetição\n",
        "x = 1\n",
        "print(x)\n",
        "x = x +1\n",
        "print(x)\n",
        "x = x + 1\n",
        "print(x)"
      ],
      "metadata": {
        "colab": {
          "base_uri": "https://localhost:8080/"
        },
        "id": "6of4By5KqyNa",
        "outputId": "6669ddf7-685f-4b4f-cf9c-6a046619bc42"
      },
      "execution_count": 3,
      "outputs": [
        {
          "output_type": "stream",
          "name": "stdout",
          "text": [
            "1\n",
            "2\n",
            "3\n"
          ]
        }
      ]
    },
    {
      "cell_type": "markdown",
      "source": [
        "#While(enquanto)\n",
        ".repete um bloco de instruções enquanto  determinada condição se mantiver verdadeira\n",
        "caso contrario , ocorre o desvio para a primeira linha de código após este bloco de repetição"
      ],
      "metadata": {
        "id": "TLes0NF3r4Hj"
      }
    },
    {
      "cell_type": "code",
      "source": [
        "x = 1 #variavel de controle\n",
        "while (x <= 5):\n",
        "  print(x)\n",
        "  x = x + 1"
      ],
      "metadata": {
        "colab": {
          "base_uri": "https://localhost:8080/"
        },
        "id": "HcsB7cnyr29s",
        "outputId": "a3c904ec-9254-4c13-b0f2-54ab67d18734"
      },
      "execution_count": 4,
      "outputs": [
        {
          "output_type": "stream",
          "name": "stdout",
          "text": [
            "1\n",
            "2\n",
            "3\n",
            "4\n",
            "5\n"
          ]
        }
      ]
    },
    {
      "cell_type": "markdown",
      "source": [
        "#Variável de controle-\n",
        ".Define a condição de parada com que o laço é executado."
      ],
      "metadata": {
        "id": "lLrCB578t6aj"
      }
    },
    {
      "cell_type": "code",
      "source": [
        " x = 0 #variavel de controle\n",
        "while (x <= 99):\n",
        "  print(x)\n",
        "  x = x + 1"
      ],
      "metadata": {
        "id": "Ut_h05efulrc"
      },
      "execution_count": null,
      "outputs": []
    },
    {
      "cell_type": "markdown",
      "source": [
        "#Variáveis contadoras e acumuladoras\n",
        "#contadoras\n",
        ".acrescentam valores  constantes em uma variável.\n"
      ],
      "metadata": {
        "id": "egtpaFgJuztc"
      }
    },
    {
      "cell_type": "code",
      "source": [
        "inicial = int(input('Qual valor deseja iniciar a conatagem?'))\n",
        "final =  int(input('Qual valor deseja finalizar a conatgem?'))\n",
        "x = inicial\n",
        "while (x <= final):\n",
        "  if(x % 2 == 0):\n",
        "    print(x)\n",
        "  x = x + 1"
      ],
      "metadata": {
        "id": "bKmLPtI7uyfT"
      },
      "execution_count": null,
      "outputs": []
    },
    {
      "cell_type": "markdown",
      "source": [
        "#Acumulador"
      ],
      "metadata": {
        "id": "DkB4HaGtwW9c"
      }
    },
    {
      "cell_type": "code",
      "source": [
        "soma = 0\n",
        "cont = 1\n",
        "while(cont <= 5):\n",
        "  x = float(input('Digite a {}ª nota : '.format(cont)))\n",
        "  soma = soma + x\n",
        "  cont = cont + 1\n",
        "media = soma / 5\n",
        "print('Media final : {}'.format(media))"
      ],
      "metadata": {
        "colab": {
          "base_uri": "https://localhost:8080/"
        },
        "id": "aj4kjkC0waM8",
        "outputId": "86a5f232-28e5-4a7c-a522-178d677e2093"
      },
      "execution_count": 8,
      "outputs": [
        {
          "output_type": "stream",
          "name": "stdout",
          "text": [
            "Digite a 1ª nota : 8\n",
            "Digite a 2ª nota : 7\n",
            "Digite a 3ª nota : 6\n",
            "Digite a 4ª nota : 8\n",
            "Digite a 5ª nota : 9\n",
            "Media final : 7.6\n"
          ]
        }
      ]
    }
  ]
}