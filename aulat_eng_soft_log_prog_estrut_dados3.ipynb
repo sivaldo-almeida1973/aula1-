{
  "nbformat": 4,
  "nbformat_minor": 0,
  "metadata": {
    "colab": {
      "provenance": [],
      "authorship_tag": "ABX9TyM9EQgEMwDZ7upubGGPq7MU",
      "include_colab_link": true
    },
    "kernelspec": {
      "name": "python3",
      "display_name": "Python 3"
    },
    "language_info": {
      "name": "python"
    }
  },
  "cells": [
    {
      "cell_type": "markdown",
      "metadata": {
        "id": "view-in-github",
        "colab_type": "text"
      },
      "source": [
        "<a href=\"https://colab.research.google.com/github/sivaldo-almeida1973/aula1-/blob/main/aulat_eng_soft_log_prog_estrut_dados3.ipynb\" target=\"_parent\"><img src=\"https://colab.research.google.com/assets/colab-badge.svg\" alt=\"Open In Colab\"/></a>"
      ]
    },
    {
      "cell_type": "markdown",
      "source": [
        "#Strings e Listas dentro de Listas\n",
        "dupla indexação- 1º indice se refere a cada item da lista- 2º indice se refere  a cada caractere da string."
      ],
      "metadata": {
        "id": "UUBjSRGexCo7"
      }
    },
    {
      "cell_type": "code",
      "source": [
        "#   indices   [0]       [1]      [2]      [3]\n",
        "mochila = ['machado','camisa','bacon','abacate']\n",
        "print(mochila)\n",
        "\n",
        "#machado\n",
        "#0123456"
      ],
      "metadata": {
        "colab": {
          "base_uri": "https://localhost:8080/"
        },
        "id": "BQTibmwIxJ5C",
        "outputId": "752f2e2d-099f-46bc-f2ef-09b4745cbc1a"
      },
      "execution_count": 2,
      "outputs": [
        {
          "output_type": "stream",
          "name": "stdout",
          "text": [
            "['machado', 'camisa', 'bacon', 'abacate']\n"
          ]
        }
      ]
    },
    {
      "cell_type": "code",
      "source": [
        "print(mochila[0])#retorna machado\n",
        "print(mochila[0][0])#quero do indice 0 (machado) o indice 0 ( m)\n",
        "print(mochila[2][1])#uero do indice 2 (bacon) o indice 1 (a)"
      ],
      "metadata": {
        "colab": {
          "base_uri": "https://localhost:8080/"
        },
        "id": "t1zLiAzM5ZMo",
        "outputId": "c1303abd-ef72-4904-8f88-e9f3510135ae"
      },
      "execution_count": 5,
      "outputs": [
        {
          "output_type": "stream",
          "name": "stdout",
          "text": [
            "machado\n",
            "m\n",
            "a\n"
          ]
        }
      ]
    },
    {
      "cell_type": "markdown",
      "source": [
        "#podemos fazer uma varredura na lista \n",
        "item a item e caracter por caracter"
      ],
      "metadata": {
        "id": "PLLfC4MX7G_c"
      }
    },
    {
      "cell_type": "code",
      "source": [
        "mochila = ['machado','camisa','bacon','abacate']\n",
        "for item in mochila: #laço da lista\n",
        "  for letra in item: # laço de cada letra\n",
        "    print(letra, end='')\n",
        "  print()"
      ],
      "metadata": {
        "colab": {
          "base_uri": "https://localhost:8080/"
        },
        "id": "_xgTE6GG6nti",
        "outputId": "756035a4-dca7-4f86-f9d0-b413ecb7ce50"
      },
      "execution_count": 6,
      "outputs": [
        {
          "output_type": "stream",
          "name": "stdout",
          "text": [
            "machado\n",
            "camisa\n",
            "bacon\n",
            "abacate\n"
          ]
        }
      ]
    },
    {
      "cell_type": "code",
      "source": [
        "mochila = ['machado','camisa','bacon','abacate']\n",
        "for i in range(0,len(mochila), 1): #laço da listta\n",
        "  for j in range(0, len(mochila[i]),1):#laço da string\n",
        "    print(mochila[i][j], end='')\n",
        "  print()"
      ],
      "metadata": {
        "id": "KG2_oDda7lFE"
      },
      "execution_count": null,
      "outputs": []
    },
    {
      "cell_type": "markdown",
      "source": [
        "#Lista dentro de lista"
      ],
      "metadata": {
        "id": "oqu_6P_Z8WKo"
      }
    },
    {
      "cell_type": "code",
      "source": [
        "\n",
        "# indices        [0]              [1]              [2]\n",
        "mochila = [['cebola',0.40], ['tomate', 1.2], ['maçã', 3.3]]\n",
        "               #0     1         0       1        0      1\n",
        "print(mochila)\n",
        "\n",
        "\n",
        "print(mochila[0][0])\n",
        "print(mochila[2][1])"
      ],
      "metadata": {
        "colab": {
          "base_uri": "https://localhost:8080/"
        },
        "id": "9bLFqlFr8a3o",
        "outputId": "ca722212-d5e9-478c-a5a2-0200c152f42b"
      },
      "execution_count": 11,
      "outputs": [
        {
          "output_type": "stream",
          "name": "stdout",
          "text": [
            "[['cebola', 0.4], ['tomate', 1.2], ['maçã', 3.3]]\n",
            "cebola\n",
            "3.3\n"
          ]
        }
      ]
    },
    {
      "cell_type": "code",
      "source": [
        "mochila = [['cebola',12,0.40], ['tomate',10 , 1.2], ['maçã',15 , 3.3]]\n",
        "print(mochila)"
      ],
      "metadata": {
        "colab": {
          "base_uri": "https://localhost:8080/"
        },
        "id": "gm5u6vKP-fR6",
        "outputId": "a3f0a254-dd8e-4058-d826-b563e0e94603"
      },
      "execution_count": 13,
      "outputs": [
        {
          "output_type": "stream",
          "name": "stdout",
          "text": [
            "[['cebola', 12, 0.4], ['tomate', 10, 1.2], ['maçã', 15, 3.3]]\n"
          ]
        }
      ]
    },
    {
      "cell_type": "code",
      "source": [
        "item = [] #lista vazia\n",
        "mercado = []\n",
        "\n",
        "for i in range(10): #quantidade de produtos permitidos comprar\n",
        "  item.append(input('digite o nome do item: '))\n",
        "  item.append(int(input('digite a quantidade:')))\n",
        "  item.append(float(input('digite o valor: ')))\n",
        "  mercado.append(item[:])\n",
        "  item.clear()\n",
        "\n",
        "print(mercado)"
      ],
      "metadata": {
        "id": "DtgtMqHH_B_Z"
      },
      "execution_count": null,
      "outputs": []
    }
  ]
}